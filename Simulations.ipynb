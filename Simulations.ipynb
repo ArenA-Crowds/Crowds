{
 "cells": [
  {
   "cell_type": "markdown",
   "metadata": {},
   "source": [
    "### The input is a file with format: timestamp, personId, x, y\n",
    "#### Change randomized so that the id's change also\n",
    "\n",
    "#### make correlated groups of people\n",
    "\n",
    " \n"
   ]
  },
  {
   "cell_type": "code",
   "execution_count": 1,
   "metadata": {
    "collapsed": true
   },
   "outputs": [],
   "source": [
    "import numpy as np\n",
    "init_timestamp = 1436047260000\n",
    "beta = (60/55)*60*1000 # in ms, according to the paper Freudiger 2015, mean time delay between packets\n",
    "sigma_est = 3\n",
    "half_dist_teleport =10\n",
    "sigma_teleport = 3\n",
    "measurement_delay = 1000 # in ms\n",
    "randomized_probability = 0.15\n",
    "path_original_positions = \"F:/Arena_sim_data/original_positions_size_\"\n",
    "path_fake_positions = \"F:/Arena_sim_data/fake_positions_size_\""
   ]
  },
  {
   "cell_type": "code",
   "execution_count": 2,
   "metadata": {
    "collapsed": false
   },
   "outputs": [],
   "source": [
    "def generate_first_moment_visible(crowd_size): #initialization      \n",
    "    next_moment =[]\n",
    "    for i in range(0, crowd_size):\n",
    "        delay = np.random.exponential(beta)\n",
    "        next_moment.append(int(init_timestamp  + delay))    \n",
    "    return next_moment    "
   ]
  },
  {
   "cell_type": "code",
   "execution_count": 3,
   "metadata": {
    "collapsed": false
   },
   "outputs": [
    {
     "data": {
      "text/plain": [
       "[1436047272415, 1436047278113, 1436047385964]"
      ]
     },
     "execution_count": 3,
     "metadata": {},
     "output_type": "execute_result"
    }
   ],
   "source": [
    "next_moment = generate_first_moment_visible(3)\n",
    "next_moment"
   ]
  },
  {
   "cell_type": "code",
   "execution_count": 4,
   "metadata": {
    "collapsed": true
   },
   "outputs": [],
   "source": [
    "def gen_next_moment(timestamp_now): # next moment is drawn from exponential(1/beta) distribution\n",
    "    delay = np.random.exponential(beta)+1# avoid 0\n",
    "    return int(timestamp_now + delay)"
   ]
  },
  {
   "cell_type": "code",
   "execution_count": 5,
   "metadata": {
    "collapsed": false
   },
   "outputs": [],
   "source": [
    "next_mom = gen_next_moment(3)"
   ]
  },
  {
   "cell_type": "code",
   "execution_count": 6,
   "metadata": {
    "collapsed": false
   },
   "outputs": [
    {
     "data": {
      "text/plain": [
       "145719"
      ]
     },
     "execution_count": 6,
     "metadata": {},
     "output_type": "execute_result"
    }
   ],
   "source": [
    "next_mom"
   ]
  },
  {
   "cell_type": "code",
   "execution_count": 7,
   "metadata": {
    "collapsed": true
   },
   "outputs": [],
   "source": [
    "def make_new_record(record, new_position, randomized):#record = [timestamp, personId, x, y], new_position = [x,y]\n",
    "    sigma_x =  np.random.exponential(sigma_est)\n",
    "    sigma_y =  np.random.exponential(sigma_est)\n",
    "    new_record = {}\n",
    "    new_record[\"measurementTimestamp\"] = record[0]\n",
    "    new_record[\"value\"] = {}\n",
    "    new_record[\"value\"][\"sourceMac\"] = record[1]\n",
    "    new_record[\"value\"][\"averagecoordinate\"] = {}\n",
    "    new_record[\"value\"][\"averagecoordinate\"][\"avg\"] = {}\n",
    "    new_record[\"value\"][\"averagecoordinate\"][\"avg\"][\"coordinates\"] =[new_position[0], new_position[1], 0.0]\n",
    "    new_record[\"value\"][\"averagecoordinate\"][\"error\"] = {}\n",
    "    new_record[\"value\"][\"averagecoordinate\"][\"error\"][\"coordinates\"] = [sigma_x, sigma_y, 1000.0]#in the real data for z is 1000\n",
    "    new_record[\"value\"][\"trackeeHistory\"]={}\n",
    "    new_record[\"value\"][\"trackeeHistory\"][\"localMac\"] = randomized\n",
    "    return new_record"
   ]
  },
  {
   "cell_type": "code",
   "execution_count": 8,
   "metadata": {
    "collapsed": true
   },
   "outputs": [],
   "source": [
    "b = make_new_record([0,1,3,4], [5,6], 0)"
   ]
  },
  {
   "cell_type": "code",
   "execution_count": 9,
   "metadata": {
    "collapsed": false
   },
   "outputs": [
    {
     "data": {
      "text/plain": [
       "{'measurementTimestamp': 0,\n",
       " 'value': {'averagecoordinate': {'avg': {'coordinates': [5, 6, 0.0]},\n",
       "   'error': {'coordinates': [2.398509801309546, 8.804607273031001, 1000.0]}},\n",
       "  'sourceMac': 1,\n",
       "  'trackeeHistory': {'localMac': 0}}}"
      ]
     },
     "execution_count": 9,
     "metadata": {},
     "output_type": "execute_result"
    }
   ],
   "source": [
    "b"
   ]
  },
  {
   "cell_type": "code",
   "execution_count": 10,
   "metadata": {
    "collapsed": true
   },
   "outputs": [],
   "source": [
    "def generate_randomized(crowd_size):\n",
    "    randomized = [0 for i in range(0, crowd_size)]\n",
    "    for i in range(0, crowd_size):\n",
    "        r = np.random.rand()\n",
    "        if r < randomized_probability:\n",
    "            randomized[i] = 1\n",
    "    return randomized"
   ]
  },
  {
   "cell_type": "code",
   "execution_count": 11,
   "metadata": {
    "collapsed": true
   },
   "outputs": [],
   "source": [
    "randomized = generate_randomized(10)"
   ]
  },
  {
   "cell_type": "code",
   "execution_count": 12,
   "metadata": {
    "collapsed": false
   },
   "outputs": [
    {
     "data": {
      "text/plain": [
       "[0, 0, 0, 0, 0, 0, 0, 0, 0, 0]"
      ]
     },
     "execution_count": 12,
     "metadata": {},
     "output_type": "execute_result"
    }
   ],
   "source": [
    "randomized\n"
   ]
  },
  {
   "cell_type": "code",
   "execution_count": 13,
   "metadata": {
    "collapsed": false
   },
   "outputs": [],
   "source": [
    "def draw_new_coordinate(position, modes_half_distance=10.0, sigma=5.0):\n",
    "    rand_mode = np.random.rand()\n",
    "    if rand_mode >= 0.5:\n",
    "        rand_mode = 1\n",
    "    else: \n",
    "        rand_mode = -1\n",
    "    mu = position + rand_mode*modes_half_distance\n",
    "    new_pos = np.random.normal(mu, sigma)\n",
    "    return new_pos\n",
    "    "
   ]
  },
  {
   "cell_type": "code",
   "execution_count": 14,
   "metadata": {
    "collapsed": false
   },
   "outputs": [],
   "source": [
    "def create_teleportation_effect_single(record, modes_half_distance, sigma):            \n",
    "        record_x = draw_new_coordinate(record[2], modes_half_distance, sigma)\n",
    "        record_y = draw_new_coordinate(record[3], modes_half_distance, sigma)\n",
    "        return [record_x, record_y]"
   ]
  },
  {
   "cell_type": "code",
   "execution_count": 15,
   "metadata": {
    "collapsed": true
   },
   "outputs": [],
   "source": [
    "def make_fake_data(crowd_size, positions):\n",
    "    json = {}\n",
    "    timestamp = init_timestamp    \n",
    "    next_moment = generate_first_moment_visible(crowd_size)\n",
    "    randomized = generate_randomized(crowd_size)\n",
    "    fake_positions = []\n",
    "    for record in positions: #record = [timestamp, personId, x, y]\n",
    "        person = record[1]        \n",
    "        timestamp = record[0]\n",
    "        if next_moment[person] > timestamp-measurement_delay and next_moment[person] <= timestamp:#timestamp\n",
    "                new_position = create_teleportation_effect_single(record, half_dist_teleport, sigma_teleport)#[x,y]\n",
    "                fake_record = make_new_record(record, new_position, randomized[person])\n",
    "                fake_positions.append(fake_record)                \n",
    "                next_moment[person] = gen_next_moment(next_moment[person])\n",
    "    return fake_positions            "
   ]
  },
  {
   "cell_type": "code",
   "execution_count": 16,
   "metadata": {
    "collapsed": true
   },
   "outputs": [],
   "source": [
    "\n",
    "def get_max_velocity(crowd_density):#by Weidmann's equation\n",
    "    rho = crowd_density+0.00001 #avoid division by 0\n",
    "    v_0=1.34 #speed at 0 density\n",
    "    gamma = 1.913 #fit parameter\n",
    "    rho_max = 5.4 #at this density movement is not possible\n",
    "    v =v_0*(1-np.exp(-gamma*(1/rho-1/rho_max)))\n",
    "    v = max(0, v)\n",
    "    return v"
   ]
  },
  {
   "cell_type": "code",
   "execution_count": 17,
   "metadata": {
    "collapsed": true
   },
   "outputs": [],
   "source": [
    "def gen_rand_mode():\n",
    "    rand_mode = np.random.rand() \n",
    "    if rand_mode >= 0.5:\n",
    "        rand_mode = 1\n",
    "    else: \n",
    "        rand_mode = -1\n",
    "    return rand_mode"
   ]
  },
  {
   "cell_type": "code",
   "execution_count": 18,
   "metadata": {
    "collapsed": false
   },
   "outputs": [],
   "source": [
    "from scipy.stats import norm\n",
    "def create_positions(init_timestamp, crowd_size, time_interval, width_stadium, length_stadium):\n",
    "    positions = []    \n",
    "    i = 0\n",
    "    dt = measurement_delay/1000#from ms to s\n",
    "    density = crowd_size/(width_stadium*length_stadium)#should be the local ideally\n",
    "    velocity = get_max_velocity(density)\n",
    "    delta =velocity*dt  #for the brownian motion, how many meters per dt:    \n",
    "    for person in range(0, crowd_size):#initialize randomly\n",
    "            positions.append([init_timestamp, person, (np.random.rand() -0.5)*width_stadium, (np.random.rand() -0.5)* length_stadium])\n",
    "    for timestamp in range(0, time_interval, measurement_delay):\n",
    "        for person in range(0, crowd_size):\n",
    "            old_position = positions[i-crowd_size]\n",
    "            old_x = old_position[2]\n",
    "            old_y = old_position[3]\n",
    "            #new_x = old_x + norm.rvs(scale=delta**2*dt)\n",
    "            #new_y = old_y + norm.rvs(scale=delta**2*dt)\n",
    "            rand_mode = gen_rand_mode()\n",
    "            new_x = old_x + delta*rand_mode    \n",
    "            rand_mode = gen_rand_mode()            \n",
    "            new_y = old_y + delta*rand_mode\n",
    "            if (abs(new_x) < width_stadium*0.5 and abs(new_y) < length_stadium*0.5):\n",
    "                positions.append([init_timestamp+ timestamp, person, new_x, new_y])    \n",
    "            else:\n",
    "                positions.append([init_timestamp+ timestamp, person, old_x, old_y])\n",
    "            i+=1\n",
    "    return positions "
   ]
  },
  {
   "cell_type": "code",
   "execution_count": 19,
   "metadata": {
    "collapsed": false
   },
   "outputs": [],
   "source": [
    "import json\n",
    "\n",
    "def write_fake_positions(positions,filename):\n",
    "    file = open(filename, 'w')\n",
    "    file.close()\n",
    "    with open(filename, 'a') as outfile:\n",
    "        for record in positions:\n",
    "            json.dump(record, outfile)  \n",
    "            outfile.write(\"\\n\")\n",
    "        "
   ]
  },
  {
   "cell_type": "code",
   "execution_count": 20,
   "metadata": {
    "collapsed": false
   },
   "outputs": [],
   "source": [
    "import pickle\n",
    "\n",
    "def write_original_positions(positions, filepath):   \n",
    "    with open(filepath, 'wb') as fp:\n",
    "        pickle.dump(positions, fp)"
   ]
  },
  {
   "cell_type": "code",
   "execution_count": 21,
   "metadata": {
    "collapsed": true
   },
   "outputs": [],
   "source": [
    "\n",
    "def read_original_positions( filepath):   \n",
    "    with open(filepath, 'rb') as fp:\n",
    "        positions = pickle.load(fp)\n",
    "    return positions    "
   ]
  },
  {
   "cell_type": "code",
   "execution_count": 22,
   "metadata": {
    "collapsed": false
   },
   "outputs": [],
   "source": [
    "def makedata(crowd_size, step, howmany):\n",
    "    #crowd_size = 65000\n",
    "    #step = 5000\n",
    "    for i in range(0, howmany):\n",
    "        crowd_size = crowd_size + step     \n",
    "        print(crowd_size)\n",
    "        positions = create_positions(init_timestamp, crowd_size, 300*1000 , 105, 68)#300 sec\n",
    "        write_original_positions(positions, path_original_positions + str(crowd_size)+\".pkl\")\n",
    "        fake_positions = make_fake_data(crowd_size, positions)\n",
    "        write_fake_positions(fake_positions, path_fake_positions + str(crowd_size)+\".json\")        "
   ]
  },
  {
   "cell_type": "code",
   "execution_count": 23,
   "metadata": {
    "collapsed": false
   },
   "outputs": [],
   "source": [
    "#makedata(0, 5000, 15)"
   ]
  },
  {
   "cell_type": "code",
   "execution_count": 24,
   "metadata": {
    "collapsed": false
   },
   "outputs": [],
   "source": [
    "#fake_positions = make_fake_data(crowd_size, positions)"
   ]
  },
  {
   "cell_type": "code",
   "execution_count": 25,
   "metadata": {
    "collapsed": false
   },
   "outputs": [],
   "source": [
    "#fake_positions"
   ]
  },
  {
   "cell_type": "code",
   "execution_count": 26,
   "metadata": {
    "collapsed": false
   },
   "outputs": [
    {
     "data": {
      "text/plain": [
       "0.8250772644385223"
      ]
     },
     "execution_count": 26,
     "metadata": {},
     "output_type": "execute_result"
    }
   ],
   "source": [
    "np.random.rand()"
   ]
  },
  {
   "cell_type": "code",
   "execution_count": 27,
   "metadata": {
    "collapsed": false
   },
   "outputs": [],
   "source": [
    "#positions =  create_positions(10, 2, 105, 68)"
   ]
  },
  {
   "cell_type": "code",
   "execution_count": 28,
   "metadata": {
    "collapsed": false
   },
   "outputs": [],
   "source": [
    "#print(positions)"
   ]
  },
  {
   "cell_type": "code",
   "execution_count": 29,
   "metadata": {
    "collapsed": true
   },
   "outputs": [],
   "source": [
    "def create_teleportation_effect(positions, modes_distance, sigma):\n",
    "    for record in positions:\n",
    "        record[2] = draw_new_coordinate(record[2], modes_distance, sigma)\n",
    "        record[3] = draw_new_coordinate(record[3], modes_distance, sigma)\n",
    "    return positions    "
   ]
  },
  {
   "cell_type": "code",
   "execution_count": 30,
   "metadata": {
    "collapsed": false
   },
   "outputs": [],
   "source": [
    "#positions = create_teleportation_effect(positions, 10, 5)\n",
    "#print(positions)"
   ]
  },
  {
   "cell_type": "code",
   "execution_count": 31,
   "metadata": {
    "collapsed": true
   },
   "outputs": [],
   "source": [
    "def get_a_snapshot(positions,  timestamp, interval):\n",
    "    if interval==0:\n",
    "        snapshot = []        \n",
    "        for position in positions:\n",
    "            if position[0] == timestamp:\n",
    "                snapshot.append(position)            \n",
    "    else:\n",
    "        snapshot = []        \n",
    "        counted = {}\n",
    "        for position in positions:\n",
    "            if position[0] >= timestamp and position[0] < timestamp + interval*1000:\n",
    "                if position[1] not in counted:\n",
    "                    snapshot.append(position)\n",
    "                    counted[position[1]] = True\n",
    "    return snapshot        "
   ]
  },
  {
   "cell_type": "code",
   "execution_count": 32,
   "metadata": {
    "collapsed": false
   },
   "outputs": [],
   "source": [
    "#get_a_snapshot(positions, 0)"
   ]
  },
  {
   "cell_type": "code",
   "execution_count": 33,
   "metadata": {
    "collapsed": false
   },
   "outputs": [],
   "source": [
    "def get_crowd_count_in_square(timestamp, positions, crowd_size, x_center, y_center, half_width_x, half_length_y, interval):\n",
    "    snapshot = get_a_snapshot(positions,  timestamp, interval)\n",
    "    crowd_count = 0\n",
    "    for record in snapshot:\n",
    "        if record[2] > x_center - half_width_x and record[2] < x_center + half_width_x:\n",
    "            if record[3] > y_center - half_length_y and record[3] < y_center + half_length_y:\n",
    "                crowd_count +=1\n",
    "    return crowd_count"
   ]
  },
  {
   "cell_type": "code",
   "execution_count": 34,
   "metadata": {
    "collapsed": true
   },
   "outputs": [],
   "source": [
    "import pickle\n",
    "def read_original_positions(filepath):\n",
    "    return pickle.load(open( filepath, \"rb\" ))"
   ]
  },
  {
   "cell_type": "code",
   "execution_count": 35,
   "metadata": {
    "collapsed": false
   },
   "outputs": [],
   "source": [
    "def read_fake_positions(filepath):\n",
    "    data = []\n",
    "    with open(filepath) as f:\n",
    "        data = f.readlines()\n",
    "    fake_positions = []\n",
    "    for line in data:\n",
    "        jsline = json.loads(line)\n",
    "        fake_positions.append([jsline[\"measurementTimestamp\"], jsline[\"value\"][\"sourceMac\"], jsline[\"value\"][\"averagecoordinate\"][\"avg\"][\"coordinates\"][0], jsline[\"value\"][\"averagecoordinate\"][\"avg\"][\"coordinates\"][1]])\n",
    "    return fake_positions"
   ]
  },
  {
   "cell_type": "code",
   "execution_count": 36,
   "metadata": {
    "collapsed": true
   },
   "outputs": [],
   "source": [
    "#fake_positions = read_fake_positions(filepath)"
   ]
  },
  {
   "cell_type": "code",
   "execution_count": 37,
   "metadata": {
    "collapsed": true
   },
   "outputs": [],
   "source": [
    "def get_method_crowd_count(crowd_size, cell_x, cell_y, timeperiod):\n",
    "    filepath = \"F:/Arena_sim_data/output/size_\"+ str(crowd_size) + \"_\" \n",
    "    z_data = np.loadtxt(filepath + 'dens_histo_%d.csv' % timeperiod, delimiter=',')\n",
    "    return z_data[cell_x][cell_y]\n",
    "    "
   ]
  },
  {
   "cell_type": "code",
   "execution_count": 38,
   "metadata": {
    "collapsed": true
   },
   "outputs": [],
   "source": [
    "b = get_method_crowd_count(10000, 6, 6, 8)"
   ]
  },
  {
   "cell_type": "code",
   "execution_count": 39,
   "metadata": {
    "collapsed": false
   },
   "outputs": [
    {
     "data": {
      "text/plain": [
       "30.211094383337674"
      ]
     },
     "execution_count": 39,
     "metadata": {},
     "output_type": "execute_result"
    }
   ],
   "source": [
    "b"
   ]
  },
  {
   "cell_type": "code",
   "execution_count": 40,
   "metadata": {
    "collapsed": true
   },
   "outputs": [],
   "source": [
    "def run( width_stadium, length_stadium, square_half_size, window, stride):\n",
    "    errors = []\n",
    "    differences = []\n",
    "    scatter = []\n",
    "    scatter_method = []\n",
    "    crowd_size = 0\n",
    "    step = 5000\n",
    "    original_crowd_count_list = []\n",
    "    fake_crowd_count_list = []\n",
    "    method_crowd_count_list = []\n",
    "    for i in range (0, 16):\n",
    "        crowd_size +=step\n",
    "        print(i)\n",
    "        positions = read_original_positions(path_original_positions + str(crowd_size)+\".pkl\")\n",
    "        print(crowd_size)        \n",
    "        center_x = 32.5 - width_stadium/2.0\n",
    "        center_y = 32.5 - length_stadium/2.0\n",
    "        original_crowd_count = get_crowd_count_in_square(init_timestamp+window*stride*1000, positions, crowd_size, center_x, center_y, square_half_size, square_half_size, 0) \n",
    "        original_proportion = original_crowd_count/crowd_size\n",
    "        positions = []\n",
    "        fake_positions = read_fake_positions(path_fake_positions + str(crowd_size) + \".json\")\n",
    "        #print(fake_positions[0])\n",
    "        fake_crowd_count = get_crowd_count_in_square(init_timestamp+window*stride*1000, fake_positions, crowd_size, center_x, center_y, square_half_size, square_half_size, 60)\n",
    "        new_proportion = fake_crowd_count/crowd_size\n",
    "        diff= new_proportion-original_proportion\n",
    "        differences.append(diff)\n",
    "        error= fake_crowd_count-original_crowd_count\n",
    "        relative_error = error/(original_crowd_count+0.0001)\n",
    "        errors.append(relative_error)        \n",
    "        scatter.append([original_crowd_count,relative_error ])\n",
    "        fake_positions = []\n",
    "        method_crowd_count = 1.176*get_method_crowd_count(crowd_size, 6, 6, window)\n",
    "        method_error = method_crowd_count - original_crowd_count\n",
    "        method_relative_error = method_error/(original_crowd_count+0.0001)\n",
    "        scatter_method.append([original_crowd_count, method_relative_error ])    \n",
    "        original_crowd_count_list.append(original_crowd_count)\n",
    "        fake_crowd_count_list.append(fake_crowd_count)\n",
    "        method_crowd_count_list.append(method_crowd_count)\n",
    "        print(\"Original crowd count:\" + str(original_crowd_count) )\n",
    "        print(\"Fake crowd count:\" + str(fake_crowd_count) )\n",
    "        print(\"Method crowd count:\" + str(method_crowd_count) )\n",
    "    lists = [errors, differences, scatter, scatter_method,original_crowd_count_list,fake_crowd_count_list, method_crowd_count_list]    \n",
    "    return lists  "
   ]
  },
  {
   "cell_type": "code",
   "execution_count": 41,
   "metadata": {
    "collapsed": false
   },
   "outputs": [
    {
     "name": "stdout",
     "output_type": "stream",
     "text": [
      "5000\n",
      "10000\n",
      "15000\n",
      "20000\n",
      "25000\n",
      "30000\n",
      "35000\n",
      "40000\n",
      "45000\n",
      "50000\n",
      "55000\n",
      "60000\n",
      "65000\n",
      "70000\n",
      "75000\n",
      "80000\n"
     ]
    }
   ],
   "source": [
    "makedata(0, 5000, 16)"
   ]
  },
  {
   "cell_type": "markdown",
   "metadata": {
    "collapsed": true
   },
   "source": [
    "def runFakePositions(time_interval, width_stadium, length_stadium, square_half_size):\n",
    "    errors = []\n",
    "    differences = []\n",
    "    scatter = []\n",
    "    crowd_size = 3000\n",
    "    for i in range (0, 23):\n",
    "        crowd_size = int(crowd_size * 1.12)\n",
    "        positions = create_positions(init_timestamp, crowd_size, time_interval, width_stadium, length_stadium)\n",
    "        print(positions[0])\n",
    "        center_x = 32.5 #width_stadium/2.0\n",
    "        center_y = 32.5 #length_stadium/2.0\n",
    "        original_crowd_count = get_crowd_count_in_square(init_timestamp, positions, crowd_size, center_x, center_y, square_half_size, square_half_size) \n",
    "        original_proportion = original_crowd_count/crowd_size\n",
    "        positions = create_teleportation_effect(positions, 10, 5)\n",
    "        new_crowd_count = get_crowd_count_in_square(init_timestamp, positions, crowd_size, center_x, center_y, square_half_size, square_half_size)\n",
    "        new_proportion = new_crowd_count/crowd_size\n",
    "        diff= new_proportion-original_proportion\n",
    "        differences.append(diff)\n",
    "        error= new_crowd_count-original_crowd_count\n",
    "        relative_error = error/(original_crowd_count+0.01)\n",
    "        errors.append(relative_error)        \n",
    "        scatter.append([original_crowd_count,relative_error ])\n",
    "    lists = [errors, differences, scatter]    \n",
    "    return lists  "
   ]
  },
  {
   "cell_type": "code",
   "execution_count": 42,
   "metadata": {
    "collapsed": false
   },
   "outputs": [
    {
     "name": "stdout",
     "output_type": "stream",
     "text": [
      "0\n",
      "5000\n",
      "Original crowd count:24\n",
      "Fake crowd count:10\n",
      "Method crowd count:15.0325764757\n",
      "1\n",
      "10000\n",
      "Original crowd count:39\n",
      "Fake crowd count:18\n",
      "Method crowd count:29.0214654637\n",
      "2\n",
      "15000\n",
      "Original crowd count:62\n",
      "Fake crowd count:26\n",
      "Method crowd count:54.7194472001\n",
      "3\n",
      "20000\n",
      "Original crowd count:69\n",
      "Fake crowd count:42\n",
      "Method crowd count:64.2353782864\n",
      "4\n",
      "25000\n",
      "Original crowd count:97\n",
      "Fake crowd count:81\n",
      "Method crowd count:88.97013567\n",
      "5\n",
      "30000\n",
      "Original crowd count:112\n",
      "Fake crowd count:60\n",
      "Method crowd count:105.794585186\n",
      "6\n",
      "35000\n",
      "Original crowd count:134\n",
      "Fake crowd count:73\n",
      "Method crowd count:128.694360668\n",
      "7\n",
      "40000\n",
      "Original crowd count:140\n",
      "Fake crowd count:74\n",
      "Method crowd count:126.682746751\n",
      "8\n",
      "45000\n",
      "Original crowd count:181\n",
      "Fake crowd count:104\n",
      "Method crowd count:158.073834163\n",
      "9\n",
      "50000\n",
      "Original crowd count:157\n",
      "Fake crowd count:97\n",
      "Method crowd count:175.465905156\n",
      "10\n",
      "55000\n",
      "Original crowd count:159\n",
      "Fake crowd count:126\n",
      "Method crowd count:184.436669712\n",
      "11\n",
      "60000\n",
      "Original crowd count:228\n",
      "Fake crowd count:100\n",
      "Method crowd count:191.233738762\n",
      "12\n",
      "65000\n",
      "Original crowd count:267\n",
      "Fake crowd count:130\n",
      "Method crowd count:241.974270128\n",
      "13\n",
      "70000\n",
      "Original crowd count:261\n",
      "Fake crowd count:128\n",
      "Method crowd count:242.592537298\n",
      "14\n",
      "75000\n",
      "Original crowd count:287\n",
      "Fake crowd count:152\n",
      "Method crowd count:275.470517819\n",
      "15\n",
      "80000\n",
      "Original crowd count:300\n",
      "Fake crowd count:175\n",
      "Method crowd count:281.026936492\n"
     ]
    }
   ],
   "source": [
    "lists = run( 105.0, 68.0, 2.5, 8, 30)"
   ]
  },
  {
   "cell_type": "code",
   "execution_count": 44,
   "metadata": {
    "collapsed": false
   },
   "outputs": [
    {
     "data": {
      "image/png": "[encoded data removed]",
      "text/plain": [
       "<matplotlib.figure.Figure at 0x142f604b828>"
      ]
     },
     "metadata": {},
     "output_type": "display_data"
    }
   ],
   "source": [
    "\n",
    "#n = 50\n",
    "import matplotlib.pyplot as plt\n",
    "import matplotlib \n",
    "import numpy as np\n",
    "x = np.array([r[0] for r in lists[3] ])\n",
    "y = np.array([r[1] for r in lists[3] ])\n",
    "\n",
    "#fig, ax = plt.subplots()\n",
    "fit = np.polyfit(x, y, deg = 1)\n",
    "#ax.plot(x, fit[0] * x + fit[1], color='red')\n",
    "#ax.scatter(x, y)\n",
    "#plt.show()\n",
    "\n",
    "\n",
    "#plt.plot(x, 0, color='red')\n",
    "plt.plot(0, color='red')\n",
    "plt.scatter(x, y)\n",
    "plt.ylabel('relative error of estimation')\n",
    "plt.xlabel('number of people in 25m^2 square')\n",
    "axes = plt.gca()\n",
    "axes.set_xlim([0, 230])\n",
    "#axes.set_ylim([-0.5, 0.5])\n",
    "plt.show()"
   ]
  },
  {
   "cell_type": "code",
   "execution_count": null,
   "metadata": {
    "collapsed": false
   },
   "outputs": [],
   "source": [
    "lists[3] "
   ]
  },
  {
   "cell_type": "code",
   "execution_count": null,
   "metadata": {
    "collapsed": true
   },
   "outputs": [],
   "source": [
    "\n"
   ]
  },
  {
   "cell_type": "code",
   "execution_count": 56,
   "metadata": {
    "collapsed": false,
    "scrolled": false
   },
   "outputs": [
    {
     "data": {
      "image/png": "[encoded data removed]",
      "text/plain": [
       "<matplotlib.figure.Figure at 0x14280f1d390>"
      ]
     },
     "metadata": {},
     "output_type": "display_data"
    }
   ],
   "source": [
    "import matplotlib.pyplot as plt\n",
    "import matplotlib \n",
    "import numpy as np\n",
    "x = np.array([r for r in lists[4] ])\n",
    "y = np.array([r for r in lists[6] ])\n",
    "\n",
    "#fig, ax = plt.subplots()\n",
    "fit = np.polyfit(x, y, deg = 1)\n",
    "#ax.plot(x, fit[0] * x + fit[1], color='red')\n",
    "#ax.scatter(x, y)\n",
    "#plt.show()\n",
    "\n",
    "\n",
    "#plt.plot(x, fit[0] * x + fit[1], color='red')\n",
    "plt.plot(x,  x , color='red')\n",
    "#plt.plot(0, color='red')\n",
    "plt.scatter(x, y)\n",
    "\n",
    "\n",
    "x = np.array([r for r in lists[4] ])\n",
    "y = np.array([r for r in lists[5] ])\n",
    "plt.scatter(x, y, color = 'green')\n",
    "\n",
    "plt.ylabel('estimated by method')\n",
    "plt.xlabel('number of people in 25m^2 square')\n",
    "axes = plt.gca()\n",
    "axes.set_xlim([0, 330])\n",
    "axes.set_ylim([0,330])\n",
    "plt.show()"
   ]
  },
  {
   "cell_type": "code",
   "execution_count": 54,
   "metadata": {
    "collapsed": false
   },
   "outputs": [
    {
     "data": {
      "image/png": "[encoded data removed]",
      "text/plain": [
       "<matplotlib.figure.Figure at 0x14280e4ebe0>"
      ]
     },
     "metadata": {},
     "output_type": "display_data"
    }
   ],
   "source": [
    "x = np.array([r for r in lists[4] ])\n",
    "y = np.array([r for r in lists[5] ])\n",
    "\n",
    "#fig, ax = plt.subplots()\n",
    "fit = np.polyfit(x, y, deg = 1)\n",
    "#ax.plot(x, fit[0] * x + fit[1], color='red')\n",
    "#ax.scatter(x, y)\n",
    "#plt.show()\n",
    "\n",
    "plt.plot(x,  x , color='red')\n",
    "#plt.plot(x, fit[0] * x + fit[1], color='red')\n",
    "#plt.plot(0, color='red')\n",
    "plt.scatter(x, y)\n",
    "plt.ylabel('estimated without method')\n",
    "plt.xlabel('number of people in 25m^2 square')\n",
    "axes = plt.gca()\n",
    "axes.set_xlim([-10, 220])\n",
    "axes.set_ylim([-10,220])\n",
    "plt.show()"
   ]
  },
  {
   "cell_type": "code",
   "execution_count": 52,
   "metadata": {
    "collapsed": false
   },
   "outputs": [
    {
     "data": {
      "image/png": "[encoded data removed]",
      "text/plain": [
       "<matplotlib.figure.Figure at 0x14280c428d0>"
      ]
     },
     "metadata": {},
     "output_type": "display_data"
    }
   ],
   "source": [
    "import matplotlib.pyplot as plt\n",
    "plt.plot(lists[4])\n",
    "plt.plot(lists[6])\n",
    "\n",
    "plt.ylabel('')\n",
    "#plt.xlabel('crowd size (unit:500)')\n",
    "plt.show()"
   ]
  },
  {
   "cell_type": "code",
   "execution_count": 49,
   "metadata": {
    "collapsed": false
   },
   "outputs": [
    {
     "data": {
      "image/png": "[encoded data removed]",
      "text/plain": [
       "<matplotlib.figure.Figure at 0x14280c33940>"
      ]
     },
     "metadata": {},
     "output_type": "display_data"
    }
   ],
   "source": [
    "y = np.array([r[1] for r in lists[3] ])\n",
    "z= np.array([0 for r in lists[3] ])\n",
    "plt.plot(y)\n",
    "plt.plot(z)\n",
    "plt.show()"
   ]
  },
  {
   "cell_type": "code",
   "execution_count": null,
   "metadata": {
    "collapsed": true
   },
   "outputs": [],
   "source": []
  }
 ],
 "metadata": {
  "anaconda-cloud": {},
  "kernelspec": {
   "display_name": "Python [conda root]",
   "language": "python",
   "name": "conda-root-py"
  },
  "language_info": {
   "codemirror_mode": {
    "name": "ipython",
    "version": 3
   },
   "file_extension": ".py",
   "mimetype": "text/x-python",
   "name": "python",
   "nbconvert_exporter": "python",
   "pygments_lexer": "ipython3",
   "version": "3.5.2"
  }
 },
 "nbformat": 4,
 "nbformat_minor": 1
}
