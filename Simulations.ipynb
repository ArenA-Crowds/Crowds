{
 "cells": [
  {
   "cell_type": "markdown",
   "metadata": {},
   "source": [
    "### The input is a file with format: timestamp, personId, x, y"
   ]
  },
  {
   "cell_type": "code",
   "execution_count": null,
   "metadata": {
    "collapsed": true
   },
   "outputs": [],
   "source": [
    "#change the center to be in the middle of the field. randomized to be implemented"
   ]
  },
  {
   "cell_type": "code",
   "execution_count": 162,
   "metadata": {
    "collapsed": true
   },
   "outputs": [],
   "source": [
    "import numpy as np\n",
    "init_timestamp = 1436047260000\n",
    "beta = (60/55)*60*1000 # in ms, according to the paper Freudiger 2015, time delay between packets\n",
    "sigma_est = 3\n",
    "half_dist_teleport =10\n",
    "sigma_teleport = 2\n",
    "measurement_delay = 500 # in ms"
   ]
  },
  {
   "cell_type": "code",
   "execution_count": 129,
   "metadata": {
    "collapsed": false
   },
   "outputs": [],
   "source": [
    "def generate_first_moment_visible(crowd_size): #initialization      \n",
    "    next_moment =[]\n",
    "    for i in range(0, crowd_size):\n",
    "        delay = np.random.exponential(beta)\n",
    "        next_moment.append(int(init_timestamp  + delay))    \n",
    "    return next_moment    "
   ]
  },
  {
   "cell_type": "code",
   "execution_count": 130,
   "metadata": {
    "collapsed": false
   },
   "outputs": [
    {
     "data": {
      "text/plain": [
       "[1436260379, 1436126259, 1436086695]"
      ]
     },
     "execution_count": 130,
     "metadata": {},
     "output_type": "execute_result"
    }
   ],
   "source": [
    "next_moment = generate_first_moment_visible(3)\n",
    "next_moment"
   ]
  },
  {
   "cell_type": "code",
   "execution_count": 131,
   "metadata": {
    "collapsed": true
   },
   "outputs": [],
   "source": [
    "def gen_next_moment(timestamp_now): # next moment is drawn from exponential(1/beta) distribution\n",
    "    delay = np.random.exponential(beta)\n",
    "    return int(timestamp_now + delay) + 1# avoid 0"
   ]
  },
  {
   "cell_type": "code",
   "execution_count": 132,
   "metadata": {
    "collapsed": false
   },
   "outputs": [],
   "source": [
    "next_mom = gen_next_moment(3)"
   ]
  },
  {
   "cell_type": "code",
   "execution_count": 133,
   "metadata": {
    "collapsed": false
   },
   "outputs": [
    {
     "data": {
      "text/plain": [
       "1733"
      ]
     },
     "execution_count": 133,
     "metadata": {},
     "output_type": "execute_result"
    }
   ],
   "source": [
    "next_mom"
   ]
  },
  {
   "cell_type": "code",
   "execution_count": 160,
   "metadata": {
    "collapsed": true
   },
   "outputs": [],
   "source": [
    "def make_new_record(record, new_position, randomized):#record = [timestamp, personId, x, y], new_position = [x,y]\n",
    "    sigma_x =  np.random.exponential(sigma_est)\n",
    "    sigma_y =  np.random.exponential(sigma_est)\n",
    "    new_record = {}\n",
    "    new_record[\"measurementTimestamp\"] = record[0]\n",
    "    new_record[\"value\"] = {}\n",
    "    new_record[\"value\"][\"sourceMac\"] = record[1]\n",
    "    new_record[\"value\"][\"averagecoordinate\"] = {}\n",
    "    new_record[\"value\"][\"averagecoordinate\"][\"avg\"] = {}\n",
    "    new_record[\"value\"][\"averagecoordinate\"][\"avg\"][\"coordinates\"] =[new_position[0], new_position[1], 0.0]\n",
    "    new_record[\"value\"][\"averagecoordinate\"][\"error\"] = {}\n",
    "    new_record[\"value\"][\"averagecoordinate\"][\"error\"][\"coordinates\"] = [sigma_x, sigma_y, 1000.0]#in the real data for z is 1000\n",
    "    new_record[\"value\"][\"trackeeHistory\"]={}\n",
    "    new_record[\"value\"][\"trackeeHistory\"][\"localMac\"] = randomized\n",
    "    return new_record"
   ]
  },
  {
   "cell_type": "code",
   "execution_count": 135,
   "metadata": {
    "collapsed": true
   },
   "outputs": [],
   "source": [
    "b = make_new_record([0,1,3,4], [5,6], 0)"
   ]
  },
  {
   "cell_type": "code",
   "execution_count": 136,
   "metadata": {
    "collapsed": false
   },
   "outputs": [
    {
     "data": {
      "text/plain": [
       "{'measurementTimestamp': 0,\n",
       " 'trackeeHistory': {'localMac': 0},\n",
       " 'value': {'averagecoordinate': {'avg': {'coordinates': [5, 6, 0.0]},\n",
       "   'error': {'coordinates': [1.6502504266277618, 6.675487490542074, 1000.0]}},\n",
       "  'sourceMac': 1}}"
      ]
     },
     "execution_count": 136,
     "metadata": {},
     "output_type": "execute_result"
    }
   ],
   "source": [
    "b"
   ]
  },
  {
   "cell_type": "code",
   "execution_count": 137,
   "metadata": {
    "collapsed": true
   },
   "outputs": [],
   "source": [
    "def generate_randomized(crowd_size): #to be done\n",
    "    randomized = [0 for i in range(0, crowd_size)]\n",
    "    return randomized"
   ]
  },
  {
   "cell_type": "code",
   "execution_count": 138,
   "metadata": {
    "collapsed": true
   },
   "outputs": [],
   "source": [
    "randomized = generate_randomized(6)"
   ]
  },
  {
   "cell_type": "code",
   "execution_count": 139,
   "metadata": {
    "collapsed": false
   },
   "outputs": [
    {
     "data": {
      "text/plain": [
       "[0, 0, 0, 0, 0, 0]"
      ]
     },
     "execution_count": 139,
     "metadata": {},
     "output_type": "execute_result"
    }
   ],
   "source": [
    "randomized\n"
   ]
  },
  {
   "cell_type": "code",
   "execution_count": 140,
   "metadata": {
    "collapsed": false
   },
   "outputs": [],
   "source": [
    "def draw_new_coordinate(position, modes_half_distance=10.0, sigma=5.0):\n",
    "    rand_mode = np.random.rand()\n",
    "    if rand_mode >= 0.5:\n",
    "        rand_mode = 1\n",
    "    else: \n",
    "        rand_mode = -1\n",
    "    mu = position + rand_mode*modes_half_distance\n",
    "    new_pos = np.random.normal(mu, sigma)\n",
    "    return new_pos\n",
    "    "
   ]
  },
  {
   "cell_type": "code",
   "execution_count": 141,
   "metadata": {
    "collapsed": false
   },
   "outputs": [],
   "source": [
    "def create_teleportation_effect_single(record, modes_half_distance, sigma):            \n",
    "        record_x = draw_new_coordinate(record[2], modes_half_distance, sigma)\n",
    "        record_y = draw_new_coordinate(record[3], modes_half_distance, sigma)\n",
    "        return [record_x, record_y]"
   ]
  },
  {
   "cell_type": "code",
   "execution_count": 142,
   "metadata": {
    "collapsed": true
   },
   "outputs": [],
   "source": [
    "def make_fake_data(crowd_size, positions):\n",
    "    json = {}\n",
    "    timestamp = init_timestamp    \n",
    "    next_moment = generate_first_moment_visible(crowd_size)\n",
    "    randomized = generate_randomized(crowd_size)\n",
    "    fake_positions = []\n",
    "    for record in positions: #record = [timestamp, personId, x, y]\n",
    "        person = record[1]        \n",
    "        timestamp = record[0]\n",
    "        if next_moment[person] >= timestamp-measurement_delay and next_moment[person] <= timestamp:#timestamp\n",
    "                new_position = create_teleportation_effect_single(record, half_dist_teleport, sigma_teleport)#[x,y]\n",
    "                fake_record = make_new_record(record, new_position, randomized[person])\n",
    "                fake_positions.append(fake_record)                \n",
    "                next_moment[i] = gen_next_moment(next_moment[i])\n",
    "    return fake_positions            "
   ]
  },
  {
   "cell_type": "code",
   "execution_count": 167,
   "metadata": {
    "collapsed": true
   },
   "outputs": [],
   "source": [
    "from scipy.stats import norm\n",
    "def create_positions(init_timestamp, crowd_size, time_interval, width_stadium, length_stadium):\n",
    "    positions = []    \n",
    "    i = 0\n",
    "    delta =0.25  #for the brownian motion, how many meters per dt:\n",
    "    dt = measurement_delay\n",
    "    for person in range(0, crowd_size):#initialize randomly\n",
    "            positions.append([init_timestamp, person, (np.random.rand() -0.5)*width_stadium, (np.random.rand() -0.5)* length_stadium])\n",
    "    for timestamp in range(0, time_interval, measurement_delay):\n",
    "        for person in range(0, crowd_size):\n",
    "            old_position = positions[i-crowd_size]\n",
    "            old_x = old_position[2]\n",
    "            old_y = old_position[3]\n",
    "            new_x = old_x + norm.rvs(scale=delta**2*dt)\n",
    "            new_y = old_y + norm.rvs(scale=delta**2*dt)\n",
    "            if (abs(new_x) < width_stadium*0.5 and abs(new_y) < length_stadium*0.5):\n",
    "                positions.append([init_timestamp+ timestamp, person, new_x, new_y])    \n",
    "            else:\n",
    "                positions.append([init_timestamp+ timestamp, person, old_x, old_y])\n",
    "            i+=1\n",
    "    return positions "
   ]
  },
  {
   "cell_type": "code",
   "execution_count": 158,
   "metadata": {
    "collapsed": false
   },
   "outputs": [],
   "source": [
    "import json\n",
    "\n",
    "def write_positions(positions,filename):\n",
    "    file = open(filename, 'w')\n",
    "    file.close()\n",
    "    with open(filename, 'a') as outfile:\n",
    "        for record in positions:\n",
    "            json.dump(record, outfile)  \n",
    "            outfile.write(\"\\n\")\n",
    "        "
   ]
  },
  {
   "cell_type": "code",
   "execution_count": 168,
   "metadata": {
    "collapsed": false
   },
   "outputs": [],
   "source": [
    "crowd_size = 10000\n",
    "for i in range(0,1):\n",
    "    crowd_size = crowd_size*2\n",
    "    positions = create_positions(init_timestamp, crowd_size, 300*1000 , 105, 68)\n",
    "    fake_positions = make_fake_data(crowd_size, positions)\n",
    "    write_positions(fake_positions, \"F:/Arena_sim_data/positions_size_\" + str(crowd_size)+\".json\")        "
   ]
  },
  {
   "cell_type": "code",
   "execution_count": null,
   "metadata": {
    "collapsed": false
   },
   "outputs": [],
   "source": [
    "crowd_size = 5\n",
    "positions = create_positions(init_timestamp, crowd_size, 10*1000 , 105, 68)#this will come from Menge actually\n",
    "beta = 3"
   ]
  },
  {
   "cell_type": "code",
   "execution_count": null,
   "metadata": {
    "collapsed": false
   },
   "outputs": [],
   "source": [
    "positions[0]"
   ]
  },
  {
   "cell_type": "code",
   "execution_count": null,
   "metadata": {
    "collapsed": false
   },
   "outputs": [],
   "source": [
    "fake_positions = make_fake_data(crowd_size, positions)"
   ]
  },
  {
   "cell_type": "code",
   "execution_count": null,
   "metadata": {
    "collapsed": false
   },
   "outputs": [],
   "source": [
    "fake_positions"
   ]
  },
  {
   "cell_type": "code",
   "execution_count": null,
   "metadata": {
    "collapsed": false
   },
   "outputs": [],
   "source": [
    "np.random.rand()"
   ]
  },
  {
   "cell_type": "code",
   "execution_count": null,
   "metadata": {
    "collapsed": false
   },
   "outputs": [],
   "source": [
    "#positions =  create_positions(10, 2, 105, 68)"
   ]
  },
  {
   "cell_type": "code",
   "execution_count": null,
   "metadata": {
    "collapsed": false
   },
   "outputs": [],
   "source": [
    "print(positions)"
   ]
  },
  {
   "cell_type": "code",
   "execution_count": 12,
   "metadata": {
    "collapsed": true
   },
   "outputs": [],
   "source": [
    "def create_teleportation_effect(positions, modes_distance, sigma):\n",
    "    for record in positions:\n",
    "        record[2] = draw_new_coordinate(record[2], modes_distance, sigma)\n",
    "        record[3] = draw_new_coordinate(record[3], modes_distance, sigma)\n",
    "    return positions    "
   ]
  },
  {
   "cell_type": "code",
   "execution_count": null,
   "metadata": {
    "collapsed": false
   },
   "outputs": [],
   "source": [
    "positions = create_teleportation_effect(positions, 10, 5)\n",
    "print(positions)"
   ]
  },
  {
   "cell_type": "code",
   "execution_count": 11,
   "metadata": {
    "collapsed": true
   },
   "outputs": [],
   "source": [
    "def get_a_snapshot(positions,  timestamp):\n",
    "    snapshot = []    \n",
    "    for position in positions:\n",
    "        if position[0] == timestamp:\n",
    "            snapshot.append(position)            \n",
    "    return snapshot        "
   ]
  },
  {
   "cell_type": "code",
   "execution_count": null,
   "metadata": {
    "collapsed": false
   },
   "outputs": [],
   "source": [
    "get_a_snapshot(positions, 0)"
   ]
  },
  {
   "cell_type": "code",
   "execution_count": 10,
   "metadata": {
    "collapsed": false
   },
   "outputs": [],
   "source": [
    "def get_crowd_count_in_square(timestamp, positions, crowd_size, x_center, y_center, half_width_x, half_length_y):\n",
    "    snapshot = get_a_snapshot(positions,  timestamp)\n",
    "    crowd_count = 0\n",
    "    for record in snapshot:\n",
    "        if record[2] > x_center - half_width_x and record[2] < x_center + half_width_x:\n",
    "            if record[3] > y_center - half_length_y and record[3] < y_center + half_length_y:\n",
    "                crowd_count +=1\n",
    "    return crowd_count"
   ]
  },
  {
   "cell_type": "code",
   "execution_count": 47,
   "metadata": {
    "collapsed": true
   },
   "outputs": [],
   "source": [
    "def run(time_interval, width_stadium, length_stadium, square_half_size):\n",
    "    errors = []\n",
    "    differences = []\n",
    "    scatter = []\n",
    "    crowd_size = 3000\n",
    "    for i in range (1, 30):\n",
    "        crowd_size = int(crowd_size * 1.12)\n",
    "        positions = create_positions(init_timestamp, crowd_size, time_interval, width_stadium, length_stadium)\n",
    "        print(positions[0])\n",
    "        center_x = width_stadium/2.0\n",
    "        center_y = length_stadium/2.0\n",
    "        original_crowd_count = get_crowd_count_in_square(init_timestamp, positions, crowd_size, center_x, center_y, square_half_size, square_half_size) \n",
    "        original_proportion = original_crowd_count/crowd_size\n",
    "        positions = create_teleportation_effect(positions, 10, 5)\n",
    "        new_crowd_count = get_crowd_count_in_square(init_timestamp, positions, crowd_size, center_x, center_y, square_half_size, square_half_size)\n",
    "        new_proportion = new_crowd_count/crowd_size\n",
    "        diff= new_proportion-original_proportion\n",
    "        differences.append(diff)\n",
    "        error= new_crowd_count-original_crowd_count\n",
    "        relative_error = error/(original_crowd_count+0.01)\n",
    "        errors.append(relative_error)        \n",
    "        scatter.append([original_crowd_count,relative_error ])\n",
    "    lists = [errors, differences, scatter]    \n",
    "    return lists  "
   ]
  },
  {
   "cell_type": "code",
   "execution_count": 48,
   "metadata": {
    "collapsed": false
   },
   "outputs": [
    {
     "name": "stdout",
     "output_type": "stream",
     "text": [
      "[1436047260, 0, 13.552961258863007, 4.180724755601141]\n",
      "[1436047260, 0, 100.26091405799286, 22.839494105267647]\n",
      "[1436047260, 0, 45.63785711094237, 31.366817771128915]\n",
      "[1436047260, 0, 69.3289596285707, 67.21642750302975]\n",
      "[1436047260, 0, 2.1383214973556584, 9.434704376962182]\n",
      "[1436047260, 0, 69.1743354456879, 63.875371530340075]\n",
      "[1436047260, 0, 59.104998377734795, 6.6493353933268216]\n",
      "[1436047260, 0, 76.29642014803827, 67.26251111940444]\n",
      "[1436047260, 0, 4.5248035029286005, 32.318439989983936]\n",
      "[1436047260, 0, 81.52850997724698, 5.556794636602518]\n",
      "[1436047260, 0, 35.98685159766945, 5.583844341590883]\n",
      "[1436047260, 0, 69.55057276038733, 25.24711339167589]\n",
      "[1436047260, 0, 79.97094804717692, 22.789857590353066]\n",
      "[1436047260, 0, 49.14461923715787, 37.09992347837089]\n",
      "[1436047260, 0, 36.2652384096139, 43.96738483503161]\n",
      "[1436047260, 0, 75.67307994538102, 9.28793526523734]\n",
      "[1436047260, 0, 51.36407432612746, 64.91174946364836]\n",
      "[1436047260, 0, 93.20921482816428, 31.694931342170047]\n",
      "[1436047260, 0, 1.8825453534530123, 64.96912978721095]\n",
      "[1436047260, 0, 2.291393755327123, 49.31767925755908]\n",
      "[1436047260, 0, 5.023939684272422, 33.68381314600936]\n",
      "[1436047260, 0, 62.56080423930648, 15.407141319377878]\n",
      "[1436047260, 0, 85.38941026765585, 57.18211401958892]\n",
      "[1436047260, 0, 100.25710571621906, 30.213400063816113]\n",
      "[1436047260, 0, 81.1252793781037, 65.90239508154471]\n",
      "[1436047260, 0, 33.80875510286888, 66.21983892949032]\n",
      "[1436047260, 0, 12.158773114888913, 30.45650788585929]\n",
      "[1436047260, 0, 36.53704698011112, 54.37695353987075]\n",
      "[1436047260, 0, 23.050703244809768, 8.998832410883724]\n"
     ]
    }
   ],
   "source": [
    "lists = run(1, 105.0, 68.0, 5)"
   ]
  },
  {
   "cell_type": "code",
   "execution_count": 49,
   "metadata": {
    "collapsed": false
   },
   "outputs": [
    {
     "data": {
      "image/png": "[encoded data removed]",
      "text/plain": [
       "<matplotlib.figure.Figure at 0x1a0cfdedf28>"
      ]
     },
     "metadata": {},
     "output_type": "display_data"
    }
   ],
   "source": [
    "import matplotlib.pyplot as plt\n",
    "plt.plot(lists[0])\n",
    "plt.ylabel('relative error')\n",
    "#plt.xlabel('crowd size (unit:500)')\n",
    "plt.show()"
   ]
  },
  {
   "cell_type": "code",
   "execution_count": 50,
   "metadata": {
    "collapsed": true
   },
   "outputs": [],
   "source": [
    "import matplotlib.pyplot as plt\n",
    "import matplotlib \n",
    "import numpy as np\n",
    "\n",
    "#n = 50\n",
    "\n",
    "x = np.array([r[0] for r in lists[2] ])\n",
    "y = np.array([r[1] for r in lists[2] ])"
   ]
  },
  {
   "cell_type": "code",
   "execution_count": 55,
   "metadata": {
    "collapsed": false
   },
   "outputs": [
    {
     "data": {
      "image/png": "[encoded data removed]",
      "text/plain": [
       "<matplotlib.figure.Figure at 0x1a0cfdf30f0>"
      ]
     },
     "metadata": {},
     "output_type": "display_data"
    }
   ],
   "source": [
    "#fig, ax = plt.subplots()\n",
    "fit = np.polyfit(x, y, deg = 1)\n",
    "#ax.plot(x, fit[0] * x + fit[1], color='red')\n",
    "#ax.scatter(x, y)\n",
    "#plt.show()\n",
    "\n",
    "\n",
    "#plt.plot(x, fit[0] * x + fit[1], color='red')\n",
    "plt.plot(0, color='red')\n",
    "plt.scatter(x, y)\n",
    "plt.ylabel('relative error')\n",
    "plt.xlabel('number of people in 100m^2 square')\n",
    "axes = plt.gca()\n",
    "axes.set_xlim([0, 2500])\n",
    "#axes.set_ylim([0,max(VisiblePerMinNonRandomized)])\n",
    "plt.show()"
   ]
  },
  {
   "cell_type": "code",
   "execution_count": null,
   "metadata": {
    "collapsed": true
   },
   "outputs": [],
   "source": []
  }
 ],
 "metadata": {
  "anaconda-cloud": {},
  "kernelspec": {
   "display_name": "Python [conda root]",
   "language": "python",
   "name": "conda-root-py"
  },
  "language_info": {
   "codemirror_mode": {
    "name": "ipython",
    "version": 3
   },
   "file_extension": ".py",
   "mimetype": "text/x-python",
   "name": "python",
   "nbconvert_exporter": "python",
   "pygments_lexer": "ipython3",
   "version": "3.5.2"
  }
 },
 "nbformat": 4,
 "nbformat_minor": 1
}
