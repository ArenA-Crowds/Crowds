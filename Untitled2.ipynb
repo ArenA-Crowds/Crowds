{
 "cells": [
  {
   "cell_type": "code",
   "execution_count": 16,
   "metadata": {
    "collapsed": true
   },
   "outputs": [],
   "source": [
    "import numpy as np\n",
    "from numpy import genfromtxt\n",
    "path_to_data = '/home/ubuntu/ArenaData/Fingerprinting'\n",
    "FILE_NAME_TEST_RSS = path_to_data + '/1478167720_9233432_trainingData.csv'\n",
    "data_train = genfromtxt(FILE_NAME_TEST_RSS, delimiter=',')\n",
    "data_train = data_train[1:, :]\n",
    "data_train = data_train[data_train[:,528].argsort()]\n",
    "phoneID = data_train[:,527]\n",
    "timestamp = data_train[:,528]\n",
    "delay = {}"
   ]
  },
  {
   "cell_type": "code",
   "execution_count": 17,
   "metadata": {},
   "outputs": [
    {
     "name": "stdout",
     "output_type": "stream",
     "text": [
      "[1.36990892e+09 1.36990893e+09 1.36990893e+09 ... 1.37173774e+09\n",
      " 1.37173774e+09 1.37173774e+09]\n"
     ]
    }
   ],
   "source": [
    "print(timestamp)"
   ]
  },
  {
   "cell_type": "code",
   "execution_count": 18,
   "metadata": {
    "collapsed": true
   },
   "outputs": [],
   "source": [
    "for i in range(0, data_train.shape[0]):    \n",
    "    if phoneID[i] not in delay:\n",
    "        delay[phoneID[i]] = []\n",
    "    delay[phoneID[i]].append(timestamp[i])"
   ]
  },
  {
   "cell_type": "code",
   "execution_count": 19,
   "metadata": {},
   "outputs": [
    {
     "name": "stdout",
     "output_type": "stream",
     "text": [
      "402.0908084163898 21006.844794270746\n",
      "174.70045510964005 9717.774201597567\n",
      "4.605922551252847 18.151778755397228\n",
      "7.392660550458715 75.92717383090847\n",
      "8.110709117221418 86.58783408319724\n",
      "10.05921052631579 129.0933583819249\n",
      "14.594036697247706 136.5995213406477\n",
      "12.590594744121715 135.2019790015134\n",
      "7.368743615934627 139.60822127640563\n",
      "15.149425287356323 167.16020555840976\n",
      "14.128458498023715 200.0435656611977\n",
      "6.132288401253918 73.22704455758014\n",
      "9.261904761904763 163.12054548178978\n",
      "3.1099476439790577 6.449437290067669\n",
      "7.601609657947686 13.307621657895352\n",
      "7.380697050938338 22.424729086014487\n"
     ]
    }
   ],
   "source": [
    "for entry in delay:\n",
    "    differ = np.diff(delay[entry])\n",
    "    print(np.mean(differ), np.std(differ))\n",
    "    \n",
    "    \n",
    "        \n",
    "    "
   ]
  },
  {
   "cell_type": "code",
   "execution_count": null,
   "metadata": {
    "collapsed": true
   },
   "outputs": [],
   "source": []
  }
 ],
 "metadata": {
  "kernelspec": {
   "display_name": "Python [default]",
   "language": "python",
   "name": "python3"
  },
  "language_info": {
   "codemirror_mode": {
    "name": "ipython",
    "version": 3
   },
   "file_extension": ".py",
   "mimetype": "text/x-python",
   "name": "python",
   "nbconvert_exporter": "python",
   "pygments_lexer": "ipython3",
   "version": "3.6.3"
  }
 },
 "nbformat": 4,
 "nbformat_minor": 2
}
