{
 "cells": [
  {
   "cell_type": "markdown",
   "metadata": {},
   "source": [
    "## Analysis of the method with simulations, with the Universitat Jaume data and with the Sensation dataset\n",
    "\n",
    " \n"
   ]
  },
  {
   "cell_type": "markdown",
   "metadata": {},
   "source": [
    "### Simulation"
   ]
  },
  {
   "cell_type": "code",
   "execution_count": 1,
   "metadata": {
    "collapsed": true
   },
   "outputs": [],
   "source": [
    "import matplotlib.pyplot as plt\n",
    "import matplotlib \n",
    "import numpy as np\n",
    "\n",
    "plt.rcParams.update({'font.size': 16})"
   ]
  },
  {
   "cell_type": "code",
   "execution_count": 99,
   "metadata": {
    "collapsed": true,
    "scrolled": true
   },
   "outputs": [],
   "source": [
    "#initializations\n",
    "import numpy as np\n",
    "import os\n",
    "import math\n",
    "init_timestamp = 1436047260000 \n",
    "#beta = (60/55)*60*1000 # in ms, according to the paper Freudiger 2015, mean time delay between packets\n",
    "lambd =  math.log(2)/33 # packet rate per second ; the median interarrival time from data is 33 sec\n",
    "beta = (1/lambd) * 1000 # mean time delay between packets\n",
    "sigma_est = 3 # the average gaussian error of the optimization by multilateration\n",
    "half_dist_teleport =10 # half of the distance between two twin points\n",
    "sigma_teleport = 3 # the average displacement of the twin from the firstly generated position\n",
    "measurement_delay = 1000 # in ms , delay between two measurements in the original positions\n",
    "randomized_probability = 0.15 # the probability that a mac address is randomized\n",
    "path_simdata = \"/home/ubuntu/Arena_sim_data/\""
   ]
  },
  {
   "cell_type": "code",
   "execution_count": 3,
   "metadata": {
    "collapsed": true,
    "scrolled": true
   },
   "outputs": [],
   "source": [
    "# for all persons generates (simulates) the first moment they were detected\n",
    "def generate_first_moment_visible(crowd_size): #initialization      \n",
    "    next_moment =[]\n",
    "    for i in range(0, crowd_size):\n",
    "        delay = np.random.exponential(beta)\n",
    "        next_moment.append(int(init_timestamp  + delay))    \n",
    "    return next_moment    "
   ]
  },
  {
   "cell_type": "code",
   "execution_count": 4,
   "metadata": {
    "scrolled": true
   },
   "outputs": [
    {
     "data": {
      "text/plain": [
       "[1436047293267, 1436047286166, 1436047261876]"
      ]
     },
     "execution_count": 4,
     "metadata": {},
     "output_type": "execute_result"
    }
   ],
   "source": [
    "#test\n",
    "next_moment = generate_first_moment_visible(3)\n",
    "next_moment"
   ]
  },
  {
   "cell_type": "code",
   "execution_count": 5,
   "metadata": {
    "collapsed": true,
    "scrolled": true
   },
   "outputs": [],
   "source": [
    "# given a timestamp, generates the next moment for a particular device to be detected\n",
    "def gen_next_moment(timestamp_now): # next moment is drawn from exponential(1/beta) distribution\n",
    "    delay = np.random.exponential(beta)+1# avoid 0\n",
    "    return int(timestamp_now + delay)"
   ]
  },
  {
   "cell_type": "code",
   "execution_count": 6,
   "metadata": {
    "collapsed": true,
    "scrolled": true
   },
   "outputs": [],
   "source": [
    "#test\n",
    "next_mom = gen_next_moment(3)"
   ]
  },
  {
   "cell_type": "code",
   "execution_count": 7,
   "metadata": {
    "collapsed": true,
    "scrolled": true
   },
   "outputs": [],
   "source": [
    "# makes a new record in the format of the json file that is output of Arena multilateration and input to the density estimation method\n",
    "def make_new_record(record, new_position, randomized):#record = [timestamp, personId, x, y], new_position = [x,y]\n",
    "    sigma_x =  np.random.exponential(sigma_est)\n",
    "    sigma_y =  np.random.exponential(sigma_est)\n",
    "    new_record = {}\n",
    "    new_record[\"measurementTimestamp\"] = record[0]\n",
    "    new_record[\"value\"] = {}\n",
    "    new_record[\"value\"][\"sourceMac\"] = record[1]\n",
    "    new_record[\"value\"][\"averagecoordinate\"] = {}\n",
    "    new_record[\"value\"][\"averagecoordinate\"][\"avg\"] = {}\n",
    "    new_record[\"value\"][\"averagecoordinate\"][\"avg\"][\"coordinates\"] =[new_position[0], new_position[1], 0.0]\n",
    "    new_record[\"value\"][\"averagecoordinate\"][\"error\"] = {}\n",
    "    new_record[\"value\"][\"averagecoordinate\"][\"error\"][\"coordinates\"] = [sigma_x, sigma_y, 1000.0]#in the real data for z is 1000\n",
    "    new_record[\"value\"][\"trackeeHistory\"]={}\n",
    "    new_record[\"value\"][\"trackeeHistory\"][\"localMac\"] = randomized\n",
    "    return new_record"
   ]
  },
  {
   "cell_type": "code",
   "execution_count": 8,
   "metadata": {
    "collapsed": true,
    "scrolled": true
   },
   "outputs": [],
   "source": [
    "#test\n",
    "b = make_new_record([0,1,3,4], [5,6], 0)"
   ]
  },
  {
   "cell_type": "code",
   "execution_count": 9,
   "metadata": {
    "scrolled": true
   },
   "outputs": [
    {
     "data": {
      "text/plain": [
       "{'measurementTimestamp': 0,\n",
       " 'value': {'averagecoordinate': {'avg': {'coordinates': [5, 6, 0.0]},\n",
       "   'error': {'coordinates': [0.9478748724690602, 3.6127223673840065, 1000.0]}},\n",
       "  'sourceMac': 1,\n",
       "  'trackeeHistory': {'localMac': 0}}}"
      ]
     },
     "execution_count": 9,
     "metadata": {},
     "output_type": "execute_result"
    }
   ],
   "source": [
    "b"
   ]
  },
  {
   "cell_type": "code",
   "execution_count": 10,
   "metadata": {
    "collapsed": true,
    "scrolled": true
   },
   "outputs": [],
   "source": [
    "# returns a list denoting for every mac adress if it has been randomized or not\n",
    "def generate_randomized(crowd_size):\n",
    "    randomized = [0 for i in range(0, crowd_size)]\n",
    "    for i in range(0, crowd_size):\n",
    "        r = np.random.rand()\n",
    "        if r < randomized_probability:\n",
    "            randomized[i] = 1\n",
    "    return randomized"
   ]
  },
  {
   "cell_type": "code",
   "execution_count": 11,
   "metadata": {
    "collapsed": true,
    "scrolled": true
   },
   "outputs": [],
   "source": [
    "#test\n",
    "randomized = generate_randomized(10)"
   ]
  },
  {
   "cell_type": "code",
   "execution_count": 12,
   "metadata": {
    "scrolled": true
   },
   "outputs": [
    {
     "data": {
      "text/plain": [
       "[0, 0, 0, 0, 0, 0, 0, 0, 0, 0]"
      ]
     },
     "execution_count": 12,
     "metadata": {},
     "output_type": "execute_result"
    }
   ],
   "source": [
    "randomized\n"
   ]
  },
  {
   "cell_type": "code",
   "execution_count": 13,
   "metadata": {
    "collapsed": true,
    "scrolled": true
   },
   "outputs": [],
   "source": [
    "# given a position x, generates a new coordinate x' according to the twins distribution\n",
    "def draw_new_coordinate(position, modes_half_distance=10.0, sigma=5.0):\n",
    "    rand_mode = np.random.rand()\n",
    "    if rand_mode >= 0.5:\n",
    "        rand_mode = 1\n",
    "    else: \n",
    "        rand_mode = -1\n",
    "    mu = position + rand_mode*modes_half_distance\n",
    "    new_pos = np.random.normal(mu, sigma)\n",
    "    return new_pos\n",
    "    "
   ]
  },
  {
   "cell_type": "code",
   "execution_count": 14,
   "metadata": {},
   "outputs": [
    {
     "data": {
      "text/plain": [
       "-5.9301132044139635"
      ]
     },
     "execution_count": 14,
     "metadata": {},
     "output_type": "execute_result"
    }
   ],
   "source": [
    "draw_new_coordinate(2, 10, 3)"
   ]
  },
  {
   "cell_type": "code",
   "execution_count": 15,
   "metadata": {
    "collapsed": true,
    "scrolled": true
   },
   "outputs": [],
   "source": [
    "# given a location (x, y) in record = [timestamp, address, x,  y], draws a new location (x',y') according to the twins distribution\n",
    "def create_teleportation_effect_single(record, modes_half_distance, sigma):            \n",
    "        record_x = draw_new_coordinate(record[2], modes_half_distance, sigma)\n",
    "        record_y = draw_new_coordinate(record[3], modes_half_distance, sigma)\n",
    "        return [record_x, record_y]"
   ]
  },
  {
   "cell_type": "code",
   "execution_count": 16,
   "metadata": {
    "collapsed": true
   },
   "outputs": [],
   "source": [
    "#randomizes an address by prepending \"r\" and generating a random number <100*crowd_size as a suffix\n",
    "def randomizeAddress(record, crowd_size, randomized):\n",
    "    if randomized[record[1]]== 1:\n",
    "        record[1] = 'r' + str(np.random.randint(100*crowd_size))\n",
    "    return record    "
   ]
  },
  {
   "cell_type": "code",
   "execution_count": 17,
   "metadata": {
    "collapsed": true,
    "scrolled": true
   },
   "outputs": [],
   "source": [
    "# given a list of positions and the size of the crowd, simulates new data that includes the uncertainties\n",
    "def make_fake_data(crowd_size, positions):\n",
    "    json = {}\n",
    "    timestamp = init_timestamp    \n",
    "    next_moment = generate_first_moment_visible(crowd_size)\n",
    "    randomized = generate_randomized(crowd_size)\n",
    "    fake_positions = []\n",
    "    for record in positions: #record = [timestamp, personId, x, y]\n",
    "        person = record[1]        \n",
    "        timestamp = record[0]\n",
    "        if next_moment[person] > timestamp-measurement_delay and next_moment[person] <= timestamp:#timestamp\n",
    "                new_position = create_teleportation_effect_single(record, half_dist_teleport, sigma_teleport)#[x,y]\n",
    "                record = randomizeAddress(record, crowd_size, randomized)\n",
    "                fake_record = make_new_record(record, new_position, randomized[person])                                \n",
    "                fake_positions.append(fake_record)                \n",
    "                next_moment[person] = gen_next_moment(next_moment[person])\n",
    "    return fake_positions            "
   ]
  },
  {
   "cell_type": "code",
   "execution_count": 18,
   "metadata": {
    "collapsed": true
   },
   "outputs": [],
   "source": [
    "# given a list of positions and the size of the crowd, simulates new data that includes the space uncertainties FOR EVERY MEASURMENT TIMESTAMP\n",
    "def make_fake_data1(crowd_size, positions):\n",
    "    json = {}\n",
    "    timestamp = init_timestamp    \n",
    "    fake_positions = []\n",
    "    for record in positions: #record = [timestamp, personId, x, y]\n",
    "        person = record[1]        \n",
    "        timestamp = record[0]        \n",
    "        new_position = create_teleportation_effect_single(record, half_dist_teleport, sigma_teleport)#[x,y]\n",
    "        fake_record = make_new_record(record, new_position,0)        \n",
    "        fake_positions.append(fake_record)                        \n",
    "    return fake_positions   "
   ]
  },
  {
   "cell_type": "code",
   "execution_count": 19,
   "metadata": {
    "collapsed": true,
    "scrolled": true
   },
   "outputs": [],
   "source": [
    "# given density of the crowd, returns the maximal velocity that a person can have by Weidmann's equation\n",
    "def get_max_velocity(crowd_density):#by Weidmann's equation\n",
    "    rho = crowd_density+0.00001 #avoid division by 0\n",
    "    v_0=1.34 #speed at 0 density\n",
    "    gamma = 1.913 #fit parameter\n",
    "    rho_max = 5.4 #at this density movement is not possible\n",
    "    v =v_0*(1-np.exp(-gamma*(1/rho-1/rho_max)))\n",
    "    v = max(0, v)\n",
    "    return v"
   ]
  },
  {
   "cell_type": "code",
   "execution_count": 20,
   "metadata": {
    "collapsed": true,
    "scrolled": true
   },
   "outputs": [],
   "source": [
    "# a function that generates a random number in {-1,1}\n",
    "def gen_rand_mode():\n",
    "    rand_mode = np.random.rand() \n",
    "    if rand_mode >= 0.5:\n",
    "        rand_mode = 1\n",
    "    else: \n",
    "        rand_mode = -1\n",
    "    return rand_mode"
   ]
  },
  {
   "cell_type": "code",
   "execution_count": 21,
   "metadata": {
    "collapsed": true,
    "scrolled": true
   },
   "outputs": [],
   "source": [
    "# creates the original (ground truth) positions of the crowd assuming random zig-zag motion (close to Brownian, 4 directions). The velocity depends on the crowd density\n",
    "from scipy.stats import norm\n",
    "def create_positions_noncorrelated(init_timestamp, crowd_size, time_interval, width_stadium, length_stadium):\n",
    "    positions = []    \n",
    "    i = 0\n",
    "    dt = measurement_delay/1000#from ms to s\n",
    "    density = crowd_size/(width_stadium*length_stadium)#should be the local ideally\n",
    "    velocity = get_max_velocity(density)\n",
    "    delta =velocity*dt  #for the brownian motion, how many meters per dt:    \n",
    "    for person in range(0, crowd_size):#initialize randomly\n",
    "            positions.append([init_timestamp, person, (np.random.rand() -0.5)*width_stadium, (np.random.rand() -0.5)* length_stadium])\n",
    "    for timestamp in range(measurement_delay, time_interval, measurement_delay):\n",
    "        for person in range(0, crowd_size):\n",
    "            old_position = positions[i-crowd_size]\n",
    "            old_x = old_position[2]\n",
    "            old_y = old_position[3]\n",
    "            #new_x = old_x + norm.rvs(scale=delta**2*dt) # this is very slow as it uses inverse functions\n",
    "            #new_y = old_y + norm.rvs(scale=delta**2*dt)\n",
    "            rand_mode = gen_rand_mode()\n",
    "            new_x = old_x + delta*rand_mode    \n",
    "            rand_mode = gen_rand_mode()            \n",
    "            new_y = old_y + delta*rand_mode\n",
    "            if (abs(new_x) < width_stadium*0.5 and abs(new_y) < length_stadium*0.5):\n",
    "                positions.append([init_timestamp+ timestamp, person, new_x, new_y])    \n",
    "            else:\n",
    "                positions.append([init_timestamp+ timestamp, person, old_x, old_y])\n",
    "            i+=1\n",
    "    return positions "
   ]
  },
  {
   "cell_type": "code",
   "execution_count": 22,
   "metadata": {
    "collapsed": true
   },
   "outputs": [],
   "source": [
    "# creates the original (ground truth) positions of the crowd assuming random zig-zag motion (close to Brownian, 4 directions). \n",
    "# The velocity depends on the crowd density\n",
    "# The positions are correlated , the average group size is 4\n",
    "from scipy.stats import norm\n",
    "def create_positions(init_timestamp, crowd_size, time_interval, width_stadium, length_stadium):\n",
    "    avgs = 4 # average group size\n",
    "    group = {}\n",
    "    ngroups = int(crowd_size/avgs)\n",
    "    pos= {}# dict of positions of groups\n",
    "    positions = []    \n",
    "    i = 0\n",
    "    dt = measurement_delay/1000#from ms to s\n",
    "    density = crowd_size/(width_stadium*length_stadium)#should be the local ideally\n",
    "    velocity = get_max_velocity(density)\n",
    "    delta =velocity*dt  #for the brownian motion, how many meters per dt:    \n",
    "    for person in range(0, crowd_size):\n",
    "        group[person] = np.random.randint(0, ngroups)#each person is randomly assigned to one of the crowd_size/avgs groups\n",
    "    for gr in  range(0, ngroups):\n",
    "        pos[gr] = [(np.random.rand() -0.5)*width_stadium, (np.random.rand() -0.5)* length_stadium]\n",
    "    for person in range(0, crowd_size):#initialize randomly\n",
    "            gr = int(group[person])\n",
    "            positions.append([init_timestamp, person, pos[gr][0], pos[gr][1]])\n",
    "    for timestamp in range(measurement_delay, time_interval, measurement_delay):\n",
    "        for gr in range (0, ngroups): # first move the groups\n",
    "            rand_mode = gen_rand_mode()\n",
    "            new_x = pos[gr][0] + delta*rand_mode    \n",
    "            rand_mode = gen_rand_mode()            \n",
    "            new_y = pos[gr][1] + delta*rand_mode\n",
    "            if (abs(new_x) < width_stadium*0.5 and abs(new_y) < length_stadium*0.5):\n",
    "                pos[gr] = [ new_x, new_y]            \n",
    "        for person in range(0, crowd_size): # attach persons always to their groups, randomly in a circle of 2 meters radius           \n",
    "            gr = int(group[person])\n",
    "            new_x = pos[gr][0] +  gen_rand_mode() * 2* np.random.rand()\n",
    "            new_y = pos[gr][1] +  gen_rand_mode() * 2* np.random.rand()\n",
    "            if (abs(new_x) < width_stadium*0.5 and abs(new_y) < length_stadium*0.5):\n",
    "                positions.append([init_timestamp+ timestamp, person, new_x, new_y])    \n",
    "            else:\n",
    "                positions.append([init_timestamp+ timestamp, person, pos[gr][0],pos[gr][1]])\n",
    "            i+=1\n",
    "    return positions "
   ]
  },
  {
   "cell_type": "code",
   "execution_count": 23,
   "metadata": {
    "collapsed": true
   },
   "outputs": [],
   "source": [
    "# creates the original (ground truth) positions of a static crowd, interval is in seconds, stadium size in meters\n",
    "from scipy.stats import norm\n",
    "def create_positions1(init_timestamp, crowd_size, time_interval, width_stadium, length_stadium):\n",
    "    positions = []     \n",
    "    i = 0\n",
    "    for person in range(0, crowd_size):#initialize randomly\n",
    "            positions.append([init_timestamp, person, (np.random.rand() -0.5)*width_stadium, (np.random.rand() -0.5)* length_stadium])\n",
    "    for timestamp in range(measurement_delay, time_interval, measurement_delay):\n",
    "        for person in range(0, crowd_size):\n",
    "            old_position = positions[i-crowd_size]\n",
    "            old_x = old_position[2]\n",
    "            old_y = old_position[3]\n",
    "            positions.append([init_timestamp+ timestamp, person, old_x, old_y])\n",
    "            i+=1\n",
    "    return positions "
   ]
  },
  {
   "cell_type": "code",
   "execution_count": 24,
   "metadata": {
    "collapsed": true,
    "scrolled": true
   },
   "outputs": [],
   "source": [
    "import json\n",
    "\n",
    "def write_fake_positions(positions,filename):\n",
    "    file = open(filename, 'w')\n",
    "    file.close()\n",
    "    with open(filename, 'a') as outfile:\n",
    "        for record in positions:\n",
    "            json.dump(record, outfile)  \n",
    "            outfile.write(\"\\n\")\n",
    "        "
   ]
  },
  {
   "cell_type": "code",
   "execution_count": 25,
   "metadata": {
    "collapsed": true,
    "scrolled": true
   },
   "outputs": [],
   "source": [
    "import pickle\n",
    "\n",
    "def write_original_positions(positions, filepath):   \n",
    "    with open(filepath, 'wb') as fp:\n",
    "        pickle.dump(positions, fp)"
   ]
  },
  {
   "cell_type": "code",
   "execution_count": 26,
   "metadata": {
    "collapsed": true,
    "scrolled": true
   },
   "outputs": [],
   "source": [
    "\n",
    "def read_original_positions( filepath):   \n",
    "    with open(filepath, 'rb') as fp:\n",
    "        positions = pickle.load(fp)\n",
    "    return positions    "
   ]
  },
  {
   "cell_type": "code",
   "execution_count": 71,
   "metadata": {
    "collapsed": true,
    "scrolled": true
   },
   "outputs": [],
   "source": [
    "def makedata(crowd_size, step, howmany):#howmany is the numbero of iterations crowd_size is the initial size, step is the increase of the size in every iteration\n",
    "    #crowd_size = 65000\n",
    "    #step = 5000\n",
    "    for i in range(0, howmany):\n",
    "        crowd_size = crowd_size + step     \n",
    "        print(crowd_size)\n",
    "        positions = create_positions(init_timestamp, crowd_size, 300*1000 , 105, 68)#300 sec\n",
    "        write_original_positions(positions, path_original_positions + str(crowd_size)+\".pkl\")\n",
    "        fake_positions = make_fake_data(crowd_size, positions)\n",
    "        write_fake_positions(fake_positions, path_fake_positions + str(crowd_size)+\".json\")        "
   ]
  },
  {
   "cell_type": "code",
   "execution_count": 28,
   "metadata": {
    "collapsed": true
   },
   "outputs": [],
   "source": [
    "#makes data for a static crowd by only introducing teleportation effect( space uncertainties), no packet delay, no randomization\n",
    "def makedata1(crowd_size, step, howmany):\n",
    "    #crowd_size = 65000\n",
    "    #step = 5000\n",
    "    for i in range(0, howmany):\n",
    "        crowd_size = crowd_size + step     \n",
    "        print(crowd_size)\n",
    "        positions = create_positions1(init_timestamp, crowd_size, 10*1000 , 105, 68)#10 sec\n",
    "        write_original_positions(positions, path_original_positions + str(crowd_size)+\".pkl\")\n",
    "        fake_positions = make_fake_data1(crowd_size, positions)\n",
    "        write_fake_positions(fake_positions, path_fake_positions + str(crowd_size)+\".json\")   "
   ]
  },
  {
   "cell_type": "code",
   "execution_count": 29,
   "metadata": {
    "collapsed": true,
    "scrolled": true
   },
   "outputs": [],
   "source": [
    "# gets a snapshot of the crowd detected at time [timestamp, timestamp + interval),  interval is in seconds\n",
    "def get_a_snapshot(positions,  timestamp, interval, memory=0):    \n",
    "    snapshot = []        \n",
    "    counted = {}\n",
    "    for position in positions:\n",
    "        if position[0] >= timestamp-memory*interval*1000 and position[0] <= timestamp + interval*1000:\n",
    "            if position[1] not in counted:\n",
    "                snapshot.append(position)\n",
    "                counted[position[1]] = True                \n",
    "    return snapshot        "
   ]
  },
  {
   "cell_type": "code",
   "execution_count": 30,
   "metadata": {
    "collapsed": true,
    "scrolled": true
   },
   "outputs": [],
   "source": [
    "# returns the number of people in the given box, first filters positions by time and then by space.\n",
    "def get_crowd_count_in_square(timestamp, positions, crowd_size, x_center, y_center, half_width_x, half_length_y, interval, memory):\n",
    "    snapshot = get_a_snapshot(positions,  timestamp, interval, memory)\n",
    "    crowd_count = 0\n",
    "    for record in snapshot:\n",
    "        if record[2] >= x_center - half_width_x and record[2] <= x_center + half_width_x:\n",
    "            if record[3] >= y_center - half_length_y and record[3] <= y_center + half_length_y:\n",
    "                crowd_count +=1\n",
    "    return crowd_count"
   ]
  },
  {
   "cell_type": "code",
   "execution_count": 31,
   "metadata": {
    "collapsed": true
   },
   "outputs": [],
   "source": [
    "# returns the number of people in the given box, first filters out positions by space and then by time.\n",
    "def get_crowd_count_in_square2(timestamp, positions, crowd_size, x_center, y_center, half_width_x, half_length_y, interval, memory):\n",
    "    counted = {}\n",
    "    crowd_count = 0\n",
    "    for record in positions:\n",
    "        if record[1] not in counted:\n",
    "            if record[2] >= x_center - half_width_x and record[2] <= x_center + half_width_x:\n",
    "                if record[3] >= y_center - half_length_y and record[3] <= y_center + half_length_y:\n",
    "                    if record[0] >= timestamp-memory*interval*1000 and record[0] <= timestamp + interval*1000:\n",
    "                        crowd_count +=1\n",
    "                        counted[record[1]] = True                    \n",
    "    return crowd_count"
   ]
  },
  {
   "cell_type": "code",
   "execution_count": 32,
   "metadata": {
    "collapsed": true,
    "scrolled": true
   },
   "outputs": [],
   "source": [
    "import pickle\n",
    "def read_original_positions(filepath):\n",
    "    return pickle.load(open( filepath, \"rb\" ))"
   ]
  },
  {
   "cell_type": "code",
   "execution_count": 33,
   "metadata": {
    "collapsed": true,
    "scrolled": true
   },
   "outputs": [],
   "source": [
    "def read_fake_positions(filepath):\n",
    "    data = []\n",
    "    with open(filepath) as f:\n",
    "        data = f.readlines()\n",
    "    fake_positions = []\n",
    "    for line in data:\n",
    "        jsline = json.loads(line)\n",
    "        fake_positions.append([jsline[\"measurementTimestamp\"], jsline[\"value\"][\"sourceMac\"], jsline[\"value\"][\"averagecoordinate\"][\"avg\"][\"coordinates\"][0], jsline[\"value\"][\"averagecoordinate\"][\"avg\"][\"coordinates\"][1]])\n",
    "    return fake_positions"
   ]
  },
  {
   "cell_type": "code",
   "execution_count": 34,
   "metadata": {
    "scrolled": true
   },
   "outputs": [
    {
     "data": {
      "text/plain": [
       "{'measurementTimestamp': 0,\n",
       " 'value': {'averagecoordinate': {'avg': {'coordinates': [5, 6, 0.0]},\n",
       "   'error': {'coordinates': [0.9478748724690602, 3.6127223673840065, 1000.0]}},\n",
       "  'sourceMac': 1,\n",
       "  'trackeeHistory': {'localMac': 0}}}"
      ]
     },
     "execution_count": 34,
     "metadata": {},
     "output_type": "execute_result"
    }
   ],
   "source": [
    "b"
   ]
  },
  {
   "cell_type": "code",
   "execution_count": 35,
   "metadata": {
    "collapsed": true
   },
   "outputs": [],
   "source": [
    "def get_all_cells(filepath,  xmin_cell, xmax_cell, ymin_cell, ymax_cell, timeperiod):\n",
    "    total =0        \n",
    "    z_data = np.loadtxt(filepath + 'dens_histo_%d.csv' % timeperiod, delimiter=',')\n",
    "    for cell_x in range (int(xmin_cell), int(xmax_cell)):\n",
    "        for cell_y in range (int(ymin_cell), int(ymax_cell)):\n",
    "            total += z_data[cell_y][cell_x]\n",
    "    return round(total)   "
   ]
  },
  {
   "cell_type": "code",
   "execution_count": 36,
   "metadata": {
    "collapsed": true,
    "scrolled": true
   },
   "outputs": [],
   "source": [
    "# this computes the counts of people from the ground truth, the simulated data and from the method applied to the simulated data\n",
    "# previously the density estimation should be run on the simulated json data\n",
    "def run_static_crowd_continuous_measurements( width_stadium, length_stadium,cell_start_x,cell_end_x, cell_start_y, cell_end_y,  window, stride, crowd_size, step, iterations):\n",
    "    original_crowd_count_list = []\n",
    "    fake_crowd_count_list = []\n",
    "    method_crowd_count_list = []\n",
    "    number_of_cells_x = cell_end_x - cell_start_x  \n",
    "    number_of_cells_y = cell_end_y - cell_start_y\n",
    "    x_offset = -width_stadium/2.0\n",
    "    y_offset = -length_stadium/2.0\n",
    "    center_x = cell_start_x + number_of_cells_x/2.0 + x_offset\n",
    "    center_y = cell_start_y + number_of_cells_y/2.0 + y_offset\n",
    "    cell_size = 1\n",
    "    for i in range (0, iterations):\n",
    "        crowd_size +=step\n",
    "        print(i)\n",
    "        positions = read_original_positions(path_original_positions + str(crowd_size)+\".pkl\")\n",
    "        print(crowd_size)                \n",
    "        original_crowd_count = get_crowd_count_in_square(init_timestamp+window*stride*1000, positions, crowd_size, center_x, center_y, number_of_cells_x*cell_size/2.0, number_of_cells_y*cell_size/2.0, 0, 0) \n",
    "        original_proportion = original_crowd_count/crowd_size\n",
    "        positions = []\n",
    "        fake_positions = read_fake_positions(path_fake_positions + str(crowd_size) + \".json\")\n",
    "        fake_crowd_count = get_crowd_count_in_square(init_timestamp+window*stride*1000, fake_positions, crowd_size, center_x, center_y, number_of_cells_x*cell_size/2.0, number_of_cells_y*cell_size/2.0, 0, 0)\n",
    "        fake_positions = []\n",
    "        #method_crowd_count = 1.176*get_all_cells_sim(filepath_method_output,crowd_size, cell_start,cell_end,  cell_start,cell_end, window)# multipied by 1.176 to account of  the randomized adresses       \n",
    "        method_crowd_count = 1.0*get_all_cells(filepath_method_output+ str(crowd_size) + \"_\", cell_start_x,cell_end_x,  cell_start_y,cell_end_y, window)# multipied by 1.176 to account of  the randomized adresses       \n",
    "        original_crowd_count_list.append(original_crowd_count)\n",
    "        fake_crowd_count_list.append(fake_crowd_count)\n",
    "        method_crowd_count_list.append(method_crowd_count)\n",
    "        print(\"Original crowd count:\" + str(original_crowd_count) )\n",
    "        print(\"Fake crowd count:\" + str(fake_crowd_count) )\n",
    "        print(\"Method crowd count:\" + str(method_crowd_count) )\n",
    "    lists = [[], [], [], [],original_crowd_count_list,fake_crowd_count_list, method_crowd_count_list]    \n",
    "    return lists  "
   ]
  },
  {
   "cell_type": "code",
   "execution_count": 37,
   "metadata": {
    "collapsed": true
   },
   "outputs": [],
   "source": [
    "# this computes the counts of people from the ground truth, the simulated data and from the method applied to the simulated data\n",
    "# previously the density estimation should be run on the simulated json data\n",
    "def run( width_stadium, length_stadium,cell_start_x,cell_end_x, cell_start_y, cell_end_y, window, stride, crowd_size, step, iterations):\n",
    "    original_crowd_count_list = []\n",
    "    fake_crowd_count_list = []\n",
    "    method_crowd_count_list = []\n",
    "    number_of_cells_x = cell_end_x - cell_start_x  \n",
    "    number_of_cells_y = cell_end_y - cell_start_y\n",
    "    x_offset = -width_stadium/2.0\n",
    "    y_offset = -length_stadium/2.0\n",
    "    center_x = cell_start_x + number_of_cells_x/2.0 + x_offset\n",
    "    center_y = cell_start_y + number_of_cells_y/2.0 + y_offset\n",
    "    cell_size = 1\n",
    "    for i in range (0, iterations):\n",
    "        crowd_size +=step\n",
    "        print(i)\n",
    "        positions = read_original_positions(path_original_positions + str(crowd_size)+\".pkl\")\n",
    "        print(crowd_size)                \n",
    "        original_crowd_count = get_crowd_count_in_square(init_timestamp+window*stride*1000, positions, crowd_size, center_x, center_y, number_of_cells_x*cell_size/2.0, number_of_cells_y*cell_size/2.0, 1, 0) \n",
    "        original_proportion = original_crowd_count/crowd_size\n",
    "        positions = []\n",
    "        fake_positions = read_fake_positions(path_fake_positions + str(crowd_size) + \".json\")\n",
    "        fake_crowd_count = get_crowd_count_in_square(init_timestamp+window*stride*1000, fake_positions, crowd_size, center_x, center_y, number_of_cells_x*cell_size/2.0, number_of_cells_y*cell_size/2.0, 40, 0)\n",
    "        fake_positions = []\n",
    "        method_crowd_count = 1.176*get_all_cells(filepath_method_output+str(crowd_size) + \"_\",cell_start_x,cell_end_x,  cell_start_y,cell_end_y, window)# multipied by 1.176 to account of  the randomized adresses       \n",
    "        #method_crowd_count = 1.0*get_all_cells_sim(filepath_method_output+ str(crowd_size) + \"_\",crowd_size, cell_start_x,cell_end_x,  cell_start_y,cell_end_y, window)# multipied by 1.176 to account of  the randomized adresses       \n",
    "        original_crowd_count_list.append(original_crowd_count)\n",
    "        fake_crowd_count_list.append(fake_crowd_count)\n",
    "        method_crowd_count_list.append(method_crowd_count)\n",
    "        print(\"Original crowd count:\" + str(original_crowd_count) )\n",
    "        print(\"Fake crowd count:\" + str(fake_crowd_count) )\n",
    "        print(\"Method crowd count:\" + str(method_crowd_count) )\n",
    "    lists = [[], [], [], [],original_crowd_count_list,fake_crowd_count_list, method_crowd_count_list]    \n",
    "    return lists  "
   ]
  },
  {
   "cell_type": "code",
   "execution_count": 97,
   "metadata": {
    "collapsed": true
   },
   "outputs": [],
   "source": [
    "# this computes the counts of people from the ground truth, the simulated data and from the method applied to the simulated data\n",
    "# previously the density estimation should be run on the simulated json data\n",
    "def run_long( width_stadium, length_stadium,cell_start_x,cell_end_x, cell_start_y, cell_end_y, windows, stride, crowd_size, step):\n",
    "    original_crowd_count_list = []\n",
    "    fake_crowd_count_list = []\n",
    "    method_crowd_count_list = []\n",
    "    number_of_cells_x = cell_end_x - cell_start_x  \n",
    "    number_of_cells_y = cell_end_y - cell_start_y\n",
    "    x_offset = -width_stadium/2.0\n",
    "    y_offset = -length_stadium/2.0\n",
    "    center_x = cell_start_x + number_of_cells_x/2.0 + x_offset\n",
    "    center_y = cell_start_y + number_of_cells_y/2.0 + y_offset\n",
    "    cell_size = 1\n",
    "    for window in range (0, windows):       \n",
    "        positions = read_original_positions(path_original_positions + str(crowd_size)+\".pkl\")\n",
    "        print(crowd_size)                \n",
    "        original_crowd_count = get_crowd_count_in_square(init_timestamp+window*stride*1000, positions, crowd_size, center_x, center_y, number_of_cells_x*cell_size/2.0, number_of_cells_y*cell_size/2.0, 1, 0) \n",
    "        original_proportion = original_crowd_count/crowd_size\n",
    "        positions = []\n",
    "        fake_positions = read_fake_positions(path_fake_positions + str(crowd_size) + \".json\")\n",
    "        fake_crowd_count = get_crowd_count_in_square(init_timestamp+window*stride*1000, fake_positions, crowd_size, center_x, center_y, number_of_cells_x*cell_size/2.0, number_of_cells_y*cell_size/2.0, 40, 0)\n",
    "        fake_positions = []\n",
    "        method_crowd_count = 1.176*get_all_cells(filepath_method_output+str(crowd_size) + \"_\",cell_start_x,cell_end_x,  cell_start_y,cell_end_y, window)# multipied by 1.176 to account of  the randomized adresses       \n",
    "        #method_crowd_count = 1.0*get_all_cells_sim(filepath_method_output+ str(crowd_size) + \"_\",crowd_size, cell_start_x,cell_end_x,  cell_start_y,cell_end_y, window)# multipied by 1.176 to account of  the randomized adresses       \n",
    "        original_crowd_count_list.append(original_crowd_count)\n",
    "        fake_crowd_count_list.append(fake_crowd_count)\n",
    "        method_crowd_count_list.append(method_crowd_count)\n",
    "        print(\"Original crowd count:\" + str(original_crowd_count) )\n",
    "        print(\"Fake crowd count:\" + str(fake_crowd_count) )\n",
    "        print(\"Method crowd count:\" + str(method_crowd_count) )\n",
    "    lists = [[], [], [], [],original_crowd_count_list,fake_crowd_count_list, method_crowd_count_list]    \n",
    "    return lists  "
   ]
  },
  {
   "cell_type": "code",
   "execution_count": 287,
   "metadata": {
    "collapsed": true,
    "scrolled": true
   },
   "outputs": [],
   "source": [
    "path_original_positions = os.path.join(path_simdata, \"original_positions1_size_\") # here are written the original positions (ground truth)\n",
    "path_fake_positions = os.path.join(path_simdata,\"fake_positions1_size_\") # here come the simulated positions after introducing uncertainties\n",
    "#uncomment the following line if you want to generate a new static crowd\n",
    "#makedata1(1000, 5000, 10 )"
   ]
  },
  {
   "cell_type": "code",
   "execution_count": 72,
   "metadata": {},
   "outputs": [
    {
     "name": "stdout",
     "output_type": "stream",
     "text": [
      "30000\n"
     ]
    }
   ],
   "source": [
    "path_original_positions = os.path.join(path_simdata, \"original_positions_size_\") # here are written the original positions (ground truth)\n",
    "path_fake_positions = os.path.join(path_simdata,\"fake_positions_size_\") # here come the simulated positions after introducing uncertainties\n",
    "#uncomment the following line if you want to generate a new crowd\n",
    "#makedata(0, 30000, 1 )"
   ]
  },
  {
   "cell_type": "markdown",
   "metadata": {},
   "source": [
    "#### Plotting the results of analysis"
   ]
  },
  {
   "cell_type": "markdown",
   "metadata": {},
   "source": [
    "Static crowd, measurements every second, fake data every sesond, no randomization: too see the effect of the probability distributions only. In a 4x4 corner of the stadium:"
   ]
  },
  {
   "cell_type": "code",
   "execution_count": null,
   "metadata": {
    "collapsed": true
   },
   "outputs": [],
   "source": [
    "#previously the Density estimation method neets to be run on the json files\n",
    "filepath_method_output = os.path.join(path_simdata,\"output/static_size_\") # after applying the method, here resides the output of it\n",
    "lists_cell_static_corner = run_static_crowd_continuous_measurements( 105.0, 68.0, 0,4,0,4, 0,  30, 1000, 5000, 10)"
   ]
  },
  {
   "cell_type": "code",
   "execution_count": 109,
   "metadata": {
    "collapsed": true
   },
   "outputs": [],
   "source": [
    "def plot_sim(x_total, y_total, z_total):\n",
    "    plt.plot(x_total,  linestyle = \":\", marker = '*', fillstyle = \"none\", color = \"green\", label = \"True value\"  )\n",
    "    plt.plot(y_total,  linestyle = ':', marker = \"o\", fillstyle = \"none\", color = \"red\",  label = \"Fitted data\")\n",
    "    plt.plot(z_total,  linestyle = \":\", marker = 'v', fillstyle = \"none\", color = \"blue\",  label = \"Our method\")\n",
    "\n",
    "    plt.xlabel('Simulation iteration number')\n",
    "    plt.ylabel('Total number of people ')\n",
    "    plt.legend( fontsize  = 14)\n",
    "    plt.grid(True)\n",
    "    axes = plt.gca()\n",
    "    plt.show()"
   ]
  },
  {
   "cell_type": "code",
   "execution_count": 110,
   "metadata": {},
   "outputs": [
    {
     "data": {
      "image/png": "[encoded data removed]",
      "text/plain": [
       "<Figure size 432x288 with 1 Axes>"
      ]
     },
     "metadata": {},
     "output_type": "display_data"
    }
   ],
   "source": [
    "import matplotlib.pyplot as plt\n",
    "import matplotlib \n",
    "import numpy as np\n",
    "\n",
    "plt.rcParams.update({'font.size': 16})\n",
    "\n",
    "x_total = lists_cell_static_corner[4]\n",
    "y_total = lists_cell_static_corner[5]\n",
    "z_total = lists_cell_static_corner[6]\n",
    "plot_sim(x_total, y_total, z_total)"
   ]
  },
  {
   "cell_type": "code",
   "execution_count": 65,
   "metadata": {
    "collapsed": true
   },
   "outputs": [],
   "source": [
    "def plot_sim_all(x_total, y_total, z1_total, z2_total, z3_total):\n",
    "    plt.plot(x_total,  linestyle = \":\", marker = '*', fillstyle = \"none\", color = \"green\", label = \"True value\"  )\n",
    "    plt.plot(y_total,  linestyle = ':', marker = \"o\", fillstyle = \"none\", color = \"red\",  label = \"Fitted\")\n",
    "    plt.plot(z1_total,  linestyle = \":\", marker = 'v', fillstyle = \"none\", color = \"blue\",  label = \"Method, memory 2 \")\n",
    "    plt.plot(z2_total,  linestyle = \":\", marker = 'v', fillstyle = \"none\", color = \"purple\",  label = \"Method, memory 4 \")\n",
    "    plt.plot(z3_total,  linestyle = \":\", marker = 'v', fillstyle = \"none\", color = \"pink\",  label = \"Method, memory 6 \")\n",
    "    plt.xlabel('Simulation iteration number')\n",
    "    plt.ylabel('Total number of people ')\n",
    "    plt.legend(loc = 2, fontsize  = 14)\n",
    "    plt.ylim(0,150)\n",
    "    plt.grid(True)\n",
    "    axes = plt.gca()\n",
    "    plt.show()"
   ]
  },
  {
   "cell_type": "code",
   "execution_count": 49,
   "metadata": {
    "collapsed": true
   },
   "outputs": [],
   "source": [
    "def plot_sim_all_low(x_total, y_total, z1_total, z2_total):\n",
    "    plt.plot(x_total,   '*', fillstyle = \"none\", color = \"green\", label = \"True value\"  )\n",
    "    plt.plot(y_total,  \"o\", fillstyle = \"none\", color = \"red\",  label = \"Fitted\")\n",
    "    plt.plot(z1_total,    'v', fillstyle = \"none\", color = \"blue\",  label = \"Method, memory 0 \")\n",
    "    plt.plot(z2_total,  'v', fillstyle = \"none\", color = \"purple\",  label = \"Method, memory 5 \")\n",
    "    plt.xlabel('Simulation iteration number')\n",
    "    plt.ylabel('Total number of people ')\n",
    "    plt.legend(loc = 2, fontsize  = 14)\n",
    "    plt.grid(True)\n",
    "    axes = plt.gca()\n",
    "    plt.show()"
   ]
  },
  {
   "cell_type": "code",
   "execution_count": null,
   "metadata": {
    "collapsed": true
   },
   "outputs": [],
   "source": [
    "#previously the Density estimation method neets to be run on the json files\n",
    "filepath_method_output = os.path.join(path_simdata,\"output/mem_0_low_dens_size_\") # after applying the method, here resides the output of it\n",
    "lists_sim_low_dens_mem0 = run( 105.0, 68.0, 50,54,30,34, 8,  30, 0, 100, 19)"
   ]
  },
  {
   "cell_type": "code",
   "execution_count": null,
   "metadata": {
    "collapsed": true
   },
   "outputs": [],
   "source": [
    "#previously the Density estimation method neets to be run on the json files\n",
    "filepath_method_output = os.path.join(path_simdata,\"output/mem_5_low_dens_size_\") # after applying the method, here resides the output of it\n",
    "lists_sim_low_dens_mem5 = run( 105.0, 68.0, 50,54,30,34, 8,  30, 0, 100, 19)"
   ]
  },
  {
   "cell_type": "code",
   "execution_count": 50,
   "metadata": {},
   "outputs": [
    {
     "data": {
      "image/png": "[encoded data removed]",
      "text/plain": [
       "<Figure size 432x288 with 1 Axes>"
      ]
     },
     "metadata": {},
     "output_type": "display_data"
    }
   ],
   "source": [
    "import matplotlib.pyplot as plt\n",
    "import matplotlib \n",
    "import numpy as np\n",
    "\n",
    "plt.rcParams.update({'font.size': 16})\n",
    "x_total = lists_sim_low_dens_mem5[4]\n",
    "y_total = lists_sim_low_dens_mem5[5]\n",
    "z1_total = lists_sim_low_dens_mem0[6]\n",
    "z2_total = lists_sim_low_dens_mem5[6]\n",
    "\n",
    "plot_sim_all_low(x_total, y_total, z1_total, z2_total)"
   ]
  },
  {
   "cell_type": "code",
   "execution_count": 309,
   "metadata": {},
   "outputs": [
    {
     "data": {
      "text/plain": [
       "[0, 0, 0, 0, 0, 0, 1, 9, 1, 1, 4, 3, 0, 2, 5, 0, 2, 2, 9]"
      ]
     },
     "execution_count": 309,
     "metadata": {},
     "output_type": "execute_result"
    }
   ],
   "source": [
    "x_total"
   ]
  },
  {
   "cell_type": "code",
   "execution_count": 112,
   "metadata": {},
   "outputs": [
    {
     "data": {
      "image/png": "[encoded data removed]",
      "text/plain": [
       "<Figure size 432x288 with 1 Axes>"
      ]
     },
     "metadata": {},
     "output_type": "display_data"
    }
   ],
   "source": [
    "x_total = lists_sim_low_dens_mem5[4]\n",
    "y_total = lists_sim_low_dens_mem5[5]\n",
    "z1_total = lists_sim_low_dens_mem0[6]\n",
    "z2_total = lists_sim_low_dens_mem5[6]\n",
    "\n",
    "plot_sim_all_low(x_total, y_total, z1_total, z2_total)"
   ]
  },
  {
   "cell_type": "code",
   "execution_count": 52,
   "metadata": {},
   "outputs": [
    {
     "data": {
      "image/png": "[encoded data removed]",
      "text/plain": [
       "<Figure size 432x288 with 1 Axes>"
      ]
     },
     "metadata": {},
     "output_type": "display_data"
    }
   ],
   "source": [
    "plt.scatter(x_total, z1_total, marker = 'v', color = 'blue')\n",
    "plt.scatter(x_total, z2_total, color = 'pink')\n",
    "plt.xlabel('true value')\n",
    "plt.ylabel('estimated')\n",
    "plt.plot([0,10], [0,10], linestyle = ':', color = 'red')\n",
    "plt.show()"
   ]
  },
  {
   "cell_type": "code",
   "execution_count": null,
   "metadata": {
    "collapsed": true
   },
   "outputs": [],
   "source": [
    "filepath_method_output = os.path.join(path_simdata,\"output/size_\") # after applying the method, here resides the output of it\n",
    "lists_sim_mem2 = run( 105.0, 68.0, 50,54,30,34, 8,  30, 0, 6000, 10)"
   ]
  },
  {
   "cell_type": "code",
   "execution_count": null,
   "metadata": {
    "collapsed": true
   },
   "outputs": [],
   "source": [
    "filepath_method_output = os.path.join(path_simdata,\"output/mem_4_size_\") # after applying the method, here resides the output of it\n",
    "lists_sim_mem4 = run( 105.0, 68.0, 50,54,30,34, 8,  30, 0, 6000, 10)"
   ]
  },
  {
   "cell_type": "code",
   "execution_count": null,
   "metadata": {
    "collapsed": true
   },
   "outputs": [],
   "source": [
    "filepath_method_output = os.path.join(path_simdata,\"output/mem_6_size_\") # after applying the method, here resides the output of it\n",
    "lists_sim_mem6 = run( 105.0, 68.0, 50,54,30,34, 8,  30, 0, 6000, 10)"
   ]
  },
  {
   "cell_type": "code",
   "execution_count": 66,
   "metadata": {},
   "outputs": [
    {
     "data": {
      "image/png": "[encoded data removed]",
      "text/plain": [
       "<Figure size 432x288 with 1 Axes>"
      ]
     },
     "metadata": {},
     "output_type": "display_data"
    }
   ],
   "source": [
    "x_total = lists_sim_mem2[4]\n",
    "y_total = lists_sim_mem2[5]\n",
    "z1_total = lists_sim_mem2[6]\n",
    "z2_total = lists_sim_mem4[6]\n",
    "z3_total = lists_sim_mem6[6]\n",
    "plot_sim_all(x_total, y_total, z1_total, z2_total, z3_total)"
   ]
  },
  {
   "cell_type": "code",
   "execution_count": null,
   "metadata": {
    "collapsed": true
   },
   "outputs": [],
   "source": [
    "filepath_method_output = os.path.join(path_simdata,\"output/mem_5_size_\") # after applying the method, here resides the output of it\n",
    "lists_sim_mem5 = run( 105.0, 68.0, 50,54,30,34, 8,  30, 0, 2000, 32)"
   ]
  },
  {
   "cell_type": "code",
   "execution_count": 70,
   "metadata": {},
   "outputs": [
    {
     "data": {
      "image/png": "[encoded data removed]",
      "text/plain": [
       "<Figure size 432x288 with 1 Axes>"
      ]
     },
     "metadata": {},
     "output_type": "display_data"
    }
   ],
   "source": [
    "x_total = lists_sim_mem5[4]\n",
    "y_total = lists_sim_mem5[5]\n",
    "z_total = lists_sim_mem5[6]\n",
    "plot_sim(x_total, y_total, z_total)"
   ]
  },
  {
   "cell_type": "code",
   "execution_count": 84,
   "metadata": {},
   "outputs": [
    {
     "data": {
      "image/png": "[encoded data removed]",
      "text/plain": [
       "<Figure size 432x288 with 1 Axes>"
      ]
     },
     "metadata": {},
     "output_type": "display_data"
    }
   ],
   "source": [
    "plt.scatter(x_total, z_total)\n",
    "plt.xlabel('true value')\n",
    "plt.ylabel('estimated')\n",
    "plt.plot([0,150], [0,150], linestyle = ':', color = 'red')\n",
    "plt.show()"
   ]
  },
  {
   "cell_type": "code",
   "execution_count": null,
   "metadata": {
    "collapsed": true
   },
   "outputs": [],
   "source": [
    "#previously the Density estimation method neets to be run on the json files\n",
    "path_simdata = \"/home/ubuntu/Arena_sim_data/\"\n",
    "path_original_positions = os.path.join(path_simdata, \"original_positions_size_\") # here are written the original positions (ground truth)\n",
    "path_fake_positions = os.path.join(path_simdata,\"fake_positions_size_\") # here come the simulated positions after introducing uncertainties\n",
    "filepath_method_output = os.path.join(path_simdata,\"output/long_size_\") # after applying the method, here resides the output of it\n",
    "lists_sim_long= run_long( 105.0, 68.0, 50,54,30,34, 89,  30,30000, 25)"
   ]
  },
  {
   "cell_type": "code",
   "execution_count": 115,
   "metadata": {
    "collapsed": true
   },
   "outputs": [],
   "source": [
    "def plot_sim(x_total, y_total, z_total):\n",
    "    plt.plot(x_total,  linestyle = \":\", marker = '*', fillstyle = \"none\", color = \"green\", label = \"True value\"  )\n",
    "    plt.plot(y_total,  linestyle = ':', marker = \"o\", fillstyle = \"none\", color = \"red\",  label = \"Fitted data\")\n",
    "    plt.plot(z_total,  linestyle = \":\", marker = 'v', fillstyle = \"none\", color = \"blue\",  label = \"Our method\")\n",
    "\n",
    "    plt.xlabel('Time frame')\n",
    "    plt.ylabel('Total number of people ')\n",
    "    plt.legend( fontsize  = 14)\n",
    "    plt.grid(True)\n",
    "    plt.ylim(0,80)\n",
    "    axes = plt.gca()\n",
    "    plt.show()"
   ]
  },
  {
   "cell_type": "code",
   "execution_count": 116,
   "metadata": {},
   "outputs": [
    {
     "data": {
      "image/png": "[encoded data removed]",
      "text/plain": [
       "<Figure size 432x288 with 1 Axes>"
      ]
     },
     "metadata": {},
     "output_type": "display_data"
    }
   ],
   "source": [
    "x_total = lists_sim_long[4]\n",
    "y_total = lists_sim_long[5]\n",
    "z_total = lists_sim_long[6]\n",
    "plot_sim(x_total, y_total, z_total)"
   ]
  },
  {
   "cell_type": "markdown",
   "metadata": {},
   "source": [
    "### Fingerprinting : Analysis on Jaume dataset"
   ]
  },
  {
   "cell_type": "code",
   "execution_count": null,
   "metadata": {
    "collapsed": true,
    "scrolled": true
   },
   "outputs": [],
   "source": [
    "# makes a json file out of given positions\n",
    "def make_fingerprint_data(positions):\n",
    "    json = {}\n",
    "    timestamp = 0   \n",
    "    fing_positions = []\n",
    "    for record in positions: #record = [timestamp, personId, x, y]          \n",
    "        fing_record = make_new_record(record, [record[2], record[3]], 0)\n",
    "        fing_record[\"value\"][\"averagecoordinate\"][\"error\"][\"coordinates\"] = [0.01, 0.01, 1000.0]#bogus errors as placeholders since there are no gaussian errors in this dataset\n",
    "        fing_positions.append(fing_record)                               \n",
    "    return fing_positions            "
   ]
  },
  {
   "cell_type": "markdown",
   "metadata": {},
   "source": [
    "#### Creating the json files for input to the density estimation method"
   ]
  },
  {
   "cell_type": "markdown",
   "metadata": {},
   "source": [
    "Before running this the data needs to be created with the fingerprinting notebook"
   ]
  },
  {
   "cell_type": "code",
   "execution_count": 43,
   "metadata": {
    "collapsed": true
   },
   "outputs": [],
   "source": [
    "import os\n",
    "path_fingdata = \"/home/ubuntu/ArenaData/Fingerprinting/\""
   ]
  },
  {
   "cell_type": "code",
   "execution_count": null,
   "metadata": {
    "collapsed": true,
    "scrolled": true
   },
   "outputs": [],
   "source": [
    "positions = read_original_positions(os.path.join(path_fingdata,\"positions.pkl\"))\n",
    "data = make_fingerprint_data(positions) \n",
    "write_fake_positions(data, os.path.join(path_fingdata, \"fingerprints_GPS.json\"))"
   ]
  },
  {
   "cell_type": "code",
   "execution_count": null,
   "metadata": {
    "collapsed": true,
    "scrolled": true
   },
   "outputs": [],
   "source": [
    "positions"
   ]
  },
  {
   "cell_type": "code",
   "execution_count": null,
   "metadata": {
    "collapsed": true,
    "scrolled": true
   },
   "outputs": [],
   "source": [
    "positions = read_original_positions(os.path.join(path_fingdata,\"positions_fitted.pkl\"))\n",
    "data = make_fingerprint_data(positions) \n",
    "write_fake_positions(data, os.path.join(path_fingdata, \"fingerprints_fitted.json\"))"
   ]
  },
  {
   "cell_type": "markdown",
   "metadata": {},
   "source": [
    "#### Comparing the results"
   ]
  },
  {
   "cell_type": "markdown",
   "metadata": {},
   "source": [
    "Before running the following analysis the density estimation method has to be applied to the json files"
   ]
  },
  {
   "cell_type": "code",
   "execution_count": 44,
   "metadata": {
    "collapsed": true,
    "scrolled": true
   },
   "outputs": [],
   "source": [
    "import numpy as np\n",
    "import os\n",
    "init_timestamp = 1369908924*1000 + 1804000*1000\n",
    "measurement_delay = 1000 # in ms\n",
    "path_original_positions = path_fingdata\n",
    "path_fake_positions = path_fingdata\n",
    "filepath_output = os.path.join(path_simdata, \"output/fingerprinted_method_\")"
   ]
  },
  {
   "cell_type": "code",
   "execution_count": 45,
   "metadata": {
    "collapsed": true,
    "scrolled": true
   },
   "outputs": [],
   "source": [
    "def get_crowd_count_in_square_fing(timestamp, positions, x_min, x_max, y_min, y_max, belt, interval):\n",
    "    snapshot = get_a_snapshot(positions,  timestamp, interval)\n",
    "    crowd_count = 0\n",
    "    for record in snapshot:\n",
    "        if record[2] > x_min and record[2] < x_max:\n",
    "            if record[3] > y_min and record[3] < y_max:\n",
    "                crowd_count +=1\n",
    "    return crowd_count"
   ]
  },
  {
   "cell_type": "code",
   "execution_count": 46,
   "metadata": {
    "collapsed": true
   },
   "outputs": [],
   "source": [
    "#not used\n",
    "def get_crowd_count_in_square_fing_new(timestamp, positions, x_min, x_max, y_min, y_max, belt, interval):\n",
    "    counted = {}\n",
    "    crowd_count = 0\n",
    "    for record in positions:\n",
    "        if record[1] not in counted:\n",
    "            if record[2] > x_min and record[2] < x_max:\n",
    "                if record[3] > y_min and record[3] < y_max:\n",
    "                    if record[0] >= timestamp and record[0] <= timestamp + interval*1000:\n",
    "                        crowd_count +=1\n",
    "                        counted[record[1]] = True                    \n",
    "    return crowd_count"
   ]
  },
  {
   "cell_type": "code",
   "execution_count": 47,
   "metadata": {
    "collapsed": true,
    "scrolled": true
   },
   "outputs": [],
   "source": [
    "def run_fing( width_stadium, length_stadium,  st_window, end_window, stride):    \n",
    "    original_crowd_count_list = []\n",
    "    fake_crowd_count_list = []\n",
    "    method_crowd_count_list = []\n",
    "    positions = read_original_positions(path_original_positions + \"positions.pkl\")    \n",
    "    fake_positions = read_fake_positions(path_fake_positions  + \"fingerprints_fitted.json\")\n",
    "    for window in range (st_window, end_window):\n",
    "        print(window)\n",
    "        original_crowd_count = get_crowd_count_in_square_fing(init_timestamp+window*stride*1000, positions, x_min, x_max, y_min, y_max, belt, 40) \n",
    "        fake_crowd_count = get_crowd_count_in_square_fing(init_timestamp+window*stride*1000, fake_positions, x_min, x_max, y_min, y_max, belt, 40)        \n",
    "        method_crowd_count = get_all_cells(filepath_output, xmin_cell, xmax_cell, ymin_cell, ymax_cell, window)      \n",
    "        original_crowd_count_list.append(original_crowd_count)\n",
    "        fake_crowd_count_list.append(fake_crowd_count)\n",
    "        method_crowd_count_list.append(method_crowd_count)\n",
    "        print(\"Original crowd count:\" + str(original_crowd_count) )\n",
    "        print(\"Fake crowd count:\" + str(fake_crowd_count) )\n",
    "        print(\"Method crowd count:\" + str(method_crowd_count) )\n",
    "    lists = [0,0,0,0,original_crowd_count_list,fake_crowd_count_list, method_crowd_count_list]    \n",
    "    return lists  "
   ]
  },
  {
   "cell_type": "code",
   "execution_count": 61,
   "metadata": {
    "collapsed": true,
    "scrolled": true
   },
   "outputs": [],
   "source": [
    "labels = [\"\", \"\",\"\",\"\",\"True value by GPS\", \"Fitted data\", \"Our method\"]"
   ]
  },
  {
   "cell_type": "markdown",
   "metadata": {},
   "source": [
    "The bounding box and time frame values come from the FingerprintedDataAnalysis notebook"
   ]
  },
  {
   "cell_type": "code",
   "execution_count": 49,
   "metadata": {
    "collapsed": true,
    "scrolled": true
   },
   "outputs": [],
   "source": [
    "x_min = 215\n",
    "x_max = 310\n",
    "y_min =  76\n",
    "y_max = 110\n",
    "belt = 35\n",
    "cellsize = 1\n",
    "xmin_cell, xmax_cell, ymin_cell, ymax_cell = x_min/cellsize, x_max/cellsize, y_min/cellsize, y_max/cellsize"
   ]
  },
  {
   "cell_type": "code",
   "execution_count": null,
   "metadata": {
    "collapsed": true,
    "scrolled": true
   },
   "outputs": [],
   "source": [
    "lists_upper1 = run_fing( 350, 140, 0, 432,30)"
   ]
  },
  {
   "cell_type": "code",
   "execution_count": 51,
   "metadata": {
    "collapsed": true
   },
   "outputs": [],
   "source": [
    "import matplotlib.pyplot as plt\n",
    "\n",
    "plt.rcParams.update({'font.size': 16})"
   ]
  },
  {
   "cell_type": "code",
   "execution_count": 59,
   "metadata": {
    "collapsed": true
   },
   "outputs": [],
   "source": [
    "def plotScatter(lists, labels):\n",
    "    fig, ax = plt.subplots()\n",
    "    ax.scatter(lists[0], lists[1],   marker = 'v',  color = \"red\", alpha = 0.5, label = \"fitted\"  )\n",
    "    ax.scatter(lists[0], lists[2],  marker = \"x\", color = \"blue\", alpha = 0.5,  label = \"method\")\n",
    "    ax.plot([0,9],[0,9], linestyle = \":\", color='green')\n",
    "    plt.legend(loc = 2, fontsize  = 14)\n",
    "    plt.ylabel('Number of phones detected')\n",
    "    plt.xlabel('GPS')\n",
    "    \n",
    "    fit = np.polyfit(lists[0], lists[1], deg = 1)\n",
    "    #ax.plot(x, fit[0] * x + fit[1], color='red')\n",
    "    met = np.polyfit(lists[0], lists[2], deg = 1)\n",
    "    #ax.plot(x, met[0] * x + met[1], color='blue')\n",
    "    plt.gca().set_aspect('equal')\n",
    "    fig_size = plt.rcParams[\"figure.figsize\"] \n",
    "    # Set figure width to 12 and height to 9\n",
    "    #fig_size[0] = 6\n",
    "    #fig_size[1] = 4\n",
    "    #plt.rcParams[\"figure.figsize\"] = fig_size\n",
    "    #plt.rcParams[\"figure.dpi\"] = 300\n",
    "    plt.show()"
   ]
  },
  {
   "cell_type": "code",
   "execution_count": 66,
   "metadata": {
    "collapsed": true,
    "scrolled": true
   },
   "outputs": [],
   "source": [
    "def plotLists(lists, labels):\n",
    "    x =lists[0]\n",
    "    y= lists[1]\n",
    "    z =lists[2]\n",
    "    plt.plot(x, '*', fillstyle=\"none\", color = \"green\", alpha = 0.8, label = labels[0]  )\n",
    "    #plt.plot(y,  ':', color = \"red\", alpha = 0.8,  label = labels[1])\n",
    "    plt.plot(z,  alpha = 0.6, color = \"blue\", label = labels[2])        \n",
    "    plt.legend(loc = 2, fontsize  = 14)\n",
    "    plt.ylabel('Number of phones detected')\n",
    "    plt.xlabel('Time frame number')\n",
    "    plt.ylim(0,12)\n",
    "    plt.xlim( 215, 415)    \n",
    "   \n",
    "    fig_size = plt.rcParams[\"figure.figsize\"] \n",
    "    # Set figure width to 12 and height to 9\n",
    "    #fig_size[0] = 12\n",
    "    #fig_size[1] = 9\n",
    "    #plt.rcParams[\"figure.figsize\"] = fig_size\n",
    "    #plt.rcParams[\"figure.dpi\"] = 300\n",
    "    plt.show()"
   ]
  },
  {
   "cell_type": "markdown",
   "metadata": {},
   "source": [
    "40s window, 30s step:"
   ]
  },
  {
   "cell_type": "code",
   "execution_count": null,
   "metadata": {
    "collapsed": true
   },
   "outputs": [],
   "source": [
    "#memory 0, window 40 sec, stride 30 sec:"
   ]
  },
  {
   "cell_type": "code",
   "execution_count": 60,
   "metadata": {},
   "outputs": [
    {
     "data": {
      "image/png": "[encoded data removed]",
      "text/plain": [
       "<Figure size 432x288 with 1 Axes>"
      ]
     },
     "metadata": {},
     "output_type": "display_data"
    }
   ],
   "source": [
    "import matplotlib.pyplot as plt\n",
    "import matplotlib \n",
    "import numpy as np\n",
    "\n",
    "plotScatter(lists_upper1[4:], labels[4:])"
   ]
  },
  {
   "cell_type": "code",
   "execution_count": 67,
   "metadata": {},
   "outputs": [
    {
     "data": {
      "image/png": "[encoded data removed]",
      "text/plain": [
       "<Figure size 432x288 with 1 Axes>"
      ]
     },
     "metadata": {},
     "output_type": "display_data"
    }
   ],
   "source": [
    "plotLists(lists_upper1[4:], labels[4:])"
   ]
  },
  {
   "cell_type": "code",
   "execution_count": null,
   "metadata": {
    "collapsed": true
   },
   "outputs": [],
   "source": [
    "plotLists(lists_upper1[4:], labels[4:])"
   ]
  },
  {
   "cell_type": "code",
   "execution_count": null,
   "metadata": {
    "collapsed": true,
    "scrolled": true
   },
   "outputs": [],
   "source": [
    "x_min = 215\n",
    "x_max = 310\n",
    "y_min =  20\n",
    "y_max = 50\n",
    "belt = 35\n",
    "cellsize = 1\n",
    "xmin_cell, xmax_cell, ymin_cell, ymax_cell = x_min/cellsize, x_max/cellsize, y_min/cellsize, y_max/cellsize"
   ]
  },
  {
   "cell_type": "code",
   "execution_count": null,
   "metadata": {
    "collapsed": true,
    "scrolled": true
   },
   "outputs": [],
   "source": [
    "lists_down = run_fing(350, 140, 0, 432, 30)"
   ]
  },
  {
   "cell_type": "code",
   "execution_count": null,
   "metadata": {
    "collapsed": true,
    "scrolled": true
   },
   "outputs": [],
   "source": [
    "def plotLists2(lists, labels):\n",
    "    plt.plot(lists[0], '*', fillstyle=\"none\", color = \"green\", alpha = 0.8, label = labels[0]  )\n",
    "    plt.plot(lists[1],  ':', color = \"red\", alpha = 0.8,  label = labels[1])\n",
    "    plt.plot(lists[2],  alpha = 0.6, color = \"blue\", label = labels[2])\n",
    "    plt.legend(loc=2)\n",
    "    plt.ylabel('Number of phones in the lower box')\n",
    "    #plt.ylim(0,9)\n",
    "    plt.xlim(0, 350)\n",
    "    plt.show()"
   ]
  },
  {
   "cell_type": "code",
   "execution_count": null,
   "metadata": {
    "collapsed": true,
    "scrolled": false
   },
   "outputs": [],
   "source": [
    "plotLists2(lists_down[4:], labels[4:])"
   ]
  },
  {
   "cell_type": "code",
   "execution_count": null,
   "metadata": {
    "collapsed": true,
    "scrolled": true
   },
   "outputs": [],
   "source": [
    "from operator import add\n",
    "total_lists = []         \n",
    "for i in range(0,3):\n",
    "    total_list = list(map (add, lists_down[4:][i] , lists_upper1[4:][i]))\n",
    "    total_lists.append(total_list)\n",
    "plotLists(total_lists, labels[4:])"
   ]
  },
  {
   "cell_type": "markdown",
   "metadata": {},
   "source": [
    "## Arena Sensation data: comparison of results"
   ]
  },
  {
   "cell_type": "code",
   "execution_count": 73,
   "metadata": {
    "collapsed": true
   },
   "outputs": [],
   "source": [
    "import numpy as np\n",
    "init_timestamp = 1436067069000 - 5*60*1000\n",
    "#path_original_positions = \"F:/ArenaData/Fingerprinting/\"\n",
    "path_fake_positions = \"/home/ubuntu/ArenaData/arena_fits/\""
   ]
  },
  {
   "cell_type": "code",
   "execution_count": 74,
   "metadata": {
    "collapsed": true
   },
   "outputs": [],
   "source": [
    "fake_positions = read_fake_positions(path_fake_positions  + \"2015-07-05.json\")"
   ]
  },
  {
   "cell_type": "code",
   "execution_count": 75,
   "metadata": {
    "collapsed": true
   },
   "outputs": [],
   "source": [
    "#previously the Density estimation method neets to be run on the json files\n",
    "filepath_method_output = os.path.join(path_simdata,\"output/WiFi_long\") # after applying the method, here resides the output of it\n"
   ]
  },
  {
   "cell_type": "code",
   "execution_count": 76,
   "metadata": {
    "collapsed": true
   },
   "outputs": [],
   "source": [
    "def get_crowd_count_in_square_arena(timestamp, positions, x_min, x_max, y_min, y_max, belt, interval):\n",
    "    snapshot = get_a_snapshot(positions,  timestamp, interval)\n",
    "    crowd_count = 0\n",
    "    for record in snapshot:\n",
    "        if record[2] > x_min and record[2] < x_max:\n",
    "            if record[3] > y_min and record[3] < y_max:\n",
    "                crowd_count +=1\n",
    "    return crowd_count\n",
    "\n",
    "def get_crowd_count_in_triangle_arena(timestamp, positions, x_min, x_max, y_min, y_max, belt, interval):\n",
    "    snapshot = get_a_snapshot(positions,  timestamp, interval)\n",
    "    crowd_count = 0\n",
    "    a = (y_max-y_min)/(x_min-x_max)\n",
    "    b = y_max - a*x_min\n",
    "    for record in snapshot:\n",
    "        if record[2] > x_min and record[2] < x_max:\n",
    "            if record[3] > y_min and record[3] < y_max:\n",
    "                if record[3] < a*record[2] + b:\n",
    "                    crowd_count +=1\n",
    "    return crowd_count\n",
    "\n",
    "def get_all_cells_triangle(filepath,  xmin_cell, xmax_cell, ymin_cell, ymax_cell, timeperiod):\n",
    "    total =0   \n",
    "    a = (ymax_cell-ymin_cell)/(xmin_cell-xmax_cell)\n",
    "    b = ymax_cell - a*xmin_cell\n",
    "    z_data = np.loadtxt(filepath + 'dens_histo_%d.csv' % timeperiod, delimiter=',')\n",
    "    for cell_x in range (int(xmin_cell), int(xmax_cell)):\n",
    "        for cell_y in range (int(ymin_cell), int(ymax_cell)):\n",
    "            if cell_y < a * cell_x + b:\n",
    "                total += z_data[cell_y][cell_x]\n",
    "    return round(total)   "
   ]
  },
  {
   "cell_type": "code",
   "execution_count": 77,
   "metadata": {
    "collapsed": true
   },
   "outputs": [],
   "source": [
    "def run_Arena( width_stadium, length_stadium,  st_window, end_window, stride):    \n",
    "    original_crowd_count_list = []\n",
    "    fake_crowd_count_list = []\n",
    "    method_crowd_count_list = []\n",
    "    #positions = read_original_positions(path_original_positions + \"positions.pkl\")    \n",
    "    #fake_positions = read_fake_positions(path_fake_positions  + \"2015-07-05.json\")\n",
    "    for window in range (st_window, end_window):\n",
    "        print(window)\n",
    "        #original_crowd_count = get_crowd_count_in_square_fing(init_timestamp+window*stride*1000, positions, x_min, x_max, y_min, y_max, belt, 60) \n",
    "        fake_crowd_count = get_crowd_count_in_triangle_arena(init_timestamp+window*stride*1000, fake_positions, x_min, x_max, y_min, y_max, belt, 40)  \n",
    "        method_crowd_count = 1.176* get_all_cells_triangle(filepath_method_output, xmin_cell, xmax_cell, ymin_cell, ymax_cell, window)      \n",
    "        #original_crowd_count_list.append(original_crowd_count)\n",
    "        fake_crowd_count_list.append(fake_crowd_count)\n",
    "        method_crowd_count_list.append(method_crowd_count)\n",
    "        #print(\"Original crowd count:\" + str(original_crowd_count) )\n",
    "        print(\"Fake crowd count:\" + str(fake_crowd_count) )\n",
    "        print(\"Method crowd count:\" + str(method_crowd_count) )\n",
    "    lists = [0,0,0,0,original_crowd_count_list,fake_crowd_count_list, method_crowd_count_list]    \n",
    "    return lists"
   ]
  },
  {
   "cell_type": "code",
   "execution_count": 78,
   "metadata": {
    "collapsed": true
   },
   "outputs": [],
   "source": [
    "x_min = 39\n",
    "x_max = x_min + 15\n",
    "y_min =  -39\n",
    "y_max = y_min + 15\n",
    "cellsize = 1\n",
    "xmin_cell, xmax_cell, ymin_cell, ymax_cell = x_min/cellsize, x_max/cellsize, y_min/cellsize, y_max/cellsize"
   ]
  },
  {
   "cell_type": "code",
   "execution_count": 79,
   "metadata": {
    "collapsed": true
   },
   "outputs": [],
   "source": [
    "stride = 30"
   ]
  },
  {
   "cell_type": "code",
   "execution_count": null,
   "metadata": {
    "collapsed": true
   },
   "outputs": [],
   "source": [
    "belt = 30#not used\n",
    "\n",
    "lists_cell15= run_Arena( 240, 180, 0, 40 ,stride)"
   ]
  },
  {
   "cell_type": "code",
   "execution_count": null,
   "metadata": {
    "collapsed": true
   },
   "outputs": [],
   "source": [
    "init_timestamp = 1436067069000 - 180*60*1000\n",
    "\n",
    "belt = 30#not used\n",
    "lists_cell15= run_Arena( 240, 180, 0, 60 ,stride)"
   ]
  },
  {
   "cell_type": "code",
   "execution_count": 88,
   "metadata": {
    "collapsed": true
   },
   "outputs": [],
   "source": [
    "def plotListsArenalong(lists):\n",
    "    labels =  [\"z\",\"fitted\", \"method\"]\n",
    "    #plt.plot(lists[0], '*', fillstyle=\"none\", color = \"green\", alpha = 0.8, label = labels[0]  )\n",
    "    plt.plot(lists[5],  ':', color = \"red\", alpha = 0.9,  label = labels[1])\n",
    "    plt.plot([x for x in lists[6]],  alpha = 0.9, color = \"blue\", label = labels[2])\n",
    "    #plt.plot(frames, video, ':', marker = \"*\", color = \"green\", label = \"video\")\n",
    "    #plt.scatter(frames, video, marker = \"*\", color = \"green\")\n",
    "    plt.legend( fontsize = 16)\n",
    "    plt.grid(True)\n",
    "    #fig_size = plt.rcParams[\"figure.figsize\"] \n",
    "    ## Set figure width to 12 and height to 9\n",
    "    #fig_size[0] = 9\n",
    "    #fig_size[1] = 6\n",
    "    \n",
    "    #plt.rcParams[\"figure.figsize\"] = fig_size\n",
    "    #plt.rcParams[\"figure.dpi\"] = 500\n",
    "    plt.ylabel('Number of people')\n",
    "    plt.xlabel('Time frame')\n",
    "    #plt.ylim(0,9)\n",
    "    #plt.xlim(20, 115)    \n",
    "    plt.show()"
   ]
  },
  {
   "cell_type": "code",
   "execution_count": 83,
   "metadata": {
    "collapsed": true
   },
   "outputs": [],
   "source": [
    "def plotListsArena(lists, frames, video):\n",
    "    labels =  [\"z\",\"fitted\", \"method\"]\n",
    "    #plt.plot(lists[0], '*', fillstyle=\"none\", color = \"green\", alpha = 0.8, label = labels[0]  )\n",
    "    #plt.plot(lists[5],  ':', color = \"red\", alpha = 0.9,  label = labels[1])\n",
    "    plt.plot([x for x in lists[6]],  alpha = 0.9, color = \"blue\", label = labels[2])\n",
    "    plt.plot(frames, video, ':', marker = \"*\", color = \"green\", label = \"video\")\n",
    "    #plt.scatter(frames, video, marker = \"*\", color = \"green\")\n",
    "    plt.legend( fontsize = 16)\n",
    "    plt.grid(True)\n",
    "    #fig_size = plt.rcParams[\"figure.figsize\"] \n",
    "    ## Set figure width to 12 and height to 9\n",
    "    #fig_size[0] = 9\n",
    "    #fig_size[1] = 6\n",
    "    \n",
    "    #plt.rcParams[\"figure.figsize\"] = fig_size\n",
    "    #plt.rcParams[\"figure.dpi\"] = 500\n",
    "    plt.ylabel('Number of people')\n",
    "    plt.xlabel('Time frame')\n",
    "    #plt.ylim(0,9)\n",
    "    #plt.xlim(20, 115)    \n",
    "    plt.show()"
   ]
  },
  {
   "cell_type": "code",
   "execution_count": 240,
   "metadata": {
    "collapsed": true
   },
   "outputs": [],
   "source": [
    "timepoints = [1436067069000,\n",
    "              1436067124000,\n",
    "              1436067159000,        \n",
    "              1436067824000]"
   ]
  },
  {
   "cell_type": "code",
   "execution_count": 241,
   "metadata": {
    "collapsed": true
   },
   "outputs": [],
   "source": [
    "\n",
    "frames = [int((timepoints[i] - init_timestamp)/(stride*1000))-1  for i in range(0, len(timepoints))]\n",
    "video = [44,  51 , 55,  17 ] # those numbers are obtained in the next section (\"Get video results\")\n"
   ]
  },
  {
   "cell_type": "code",
   "execution_count": 149,
   "metadata": {},
   "outputs": [
    {
     "data": {
      "image/png": "[encoded data removed]",
      "text/plain": [
       "<Figure size 432x288 with 1 Axes>"
      ]
     },
     "metadata": {},
     "output_type": "display_data"
    }
   ],
   "source": [
    "plotListsArena(lists_cell15, frames, video)"
   ]
  },
  {
   "cell_type": "code",
   "execution_count": null,
   "metadata": {
    "collapsed": true
   },
   "outputs": [],
   "source": [
    "#memory = 3, window = 15, fitted window = 15:"
   ]
  },
  {
   "cell_type": "code",
   "execution_count": null,
   "metadata": {
    "collapsed": true
   },
   "outputs": [],
   "source": [
    "import matplotlib.pyplot as plt\n",
    "import matplotlib \n",
    "import numpy as np\n",
    "plotListsArena(lists_cell15, frames, video)"
   ]
  },
  {
   "cell_type": "code",
   "execution_count": null,
   "metadata": {
    "collapsed": true
   },
   "outputs": [],
   "source": [
    "# memory = 3, window = 15,  fitted window = 60 :"
   ]
  },
  {
   "cell_type": "code",
   "execution_count": null,
   "metadata": {
    "collapsed": true
   },
   "outputs": [],
   "source": [
    "import matplotlib.pyplot as plt\n",
    "import matplotlib \n",
    "import numpy as np\n",
    "plotListsArena(lists_cell15, frames, video)"
   ]
  },
  {
   "cell_type": "code",
   "execution_count": null,
   "metadata": {
    "collapsed": true
   },
   "outputs": [],
   "source": [
    "# memory 0, window = 35:"
   ]
  },
  {
   "cell_type": "code",
   "execution_count": null,
   "metadata": {
    "collapsed": true
   },
   "outputs": [],
   "source": [
    "import matplotlib.pyplot as plt\n",
    "import matplotlib \n",
    "import numpy as np\n",
    "plotListsArena(lists_cell15, frames, video)"
   ]
  },
  {
   "cell_type": "code",
   "execution_count": null,
   "metadata": {
    "collapsed": true
   },
   "outputs": [],
   "source": [
    "## the above is obtained with window size 40 memory 0"
   ]
  },
  {
   "cell_type": "code",
   "execution_count": null,
   "metadata": {
    "collapsed": true
   },
   "outputs": [],
   "source": []
  },
  {
   "cell_type": "markdown",
   "metadata": {
    "collapsed": true
   },
   "source": [
    "### Get video results"
   ]
  },
  {
   "cell_type": "code",
   "execution_count": 243,
   "metadata": {
    "collapsed": true
   },
   "outputs": [],
   "source": [
    "memory_parameter_set = [0]\n",
    "interval_parameter_set = [40000] \n",
    "binsize_parameter_set = [1,]\n",
    "stride = 30\n",
    "\n",
    "bins = binsize_parameter_set[0]\n",
    "\n",
    "#### movie 1 #############\n",
    "# 1: 05:31:09\n",
    "#timepoint = 1436067069000\n",
    "# 2: 05:32:04 +2:00 UTC\n",
    "#timepoint = 1436067124000\n",
    "# 3: 05:32:39\n",
    "#timepoint = 1436067159000\n",
    "#### movie 2 #############\n",
    "# 4: 05:43:44\n",
    "#timepoint = 1436067824000\n",
    "\n",
    "timepoints = {1: 1436067069000,\n",
    "             2: 1436067124000,\n",
    "             3: 1436067159000, \n",
    "             4: 1436067824000}\n",
    "\n",
    "xsize = 15; ysize = 15\n",
    "x1= 39\n",
    "x2 = x1 + xsize\n",
    "y1 = -39\n",
    "y2 = y1 + ysize"
   ]
  },
  {
   "cell_type": "markdown",
   "metadata": {},
   "source": [
    "The comparison code below runs for timeinterval = 40.\n",
    "The code iterates over the 4 time points. "
   ]
  },
  {
   "cell_type": "code",
   "execution_count": 244,
   "metadata": {},
   "outputs": [
    {
     "name": "stdout",
     "output_type": "stream",
     "text": [
      "Video: 44.0 \t WiFi: 51.74\n",
      "Video: 51.0 \t WiFi: 63.5\n",
      "Video: 55.0 \t WiFi: 49.39\n",
      "Video: 17.0 \t WiFi: 15.29\n"
     ]
    }
   ],
   "source": [
    "video = []\n",
    "wifi = []\n",
    "\n",
    "for datapointNr in range(1,len(timepoints) + 1):\n",
    "    # load the video people count file\n",
    "    heads = np.loadtxt('headcount-locations-%d-man.csv' % datapointNr, delimiter=',')\n",
    "\n",
    "    # first swap columns, then mirror y-coordinates in x-axis \n",
    "    # to be consistent with wi-fi coordinates\n",
    "    heads[:,[0, 1]] = heads[:,[1, 0]]\n",
    "    heads[:,1] = -heads[:,1]\n",
    "\n",
    "    binsize = xsize / bins\n",
    "    \n",
    "    video_estimate = np.zeros((bins, bins))\n",
    "    a = (y2-y1)/(x1-x2)\n",
    "    bb = y2 - a*x1\n",
    "    for b in range(len(heads)):\n",
    "        if  heads[b][0] >= x1 and heads[b][0] < x2 and heads[b][1] >= y1 and heads[b][1] < y2 and heads[b][1] < a*heads[b][0] + bb :\n",
    "            x = int((heads[b][0] - x1) / binsize)\n",
    "            y = int((heads[b][1] - y1) / binsize)           \n",
    "            video_estimate[y][x] += 1\n",
    "    video.append(video_estimate)\n",
    "    for bins in binsize_parameter_set:\n",
    "        for m in memory_parameter_set:\n",
    "            for t_int in interval_parameter_set:\n",
    "                window = int((timepoints[datapointNr] - init_timestamp)/(stride*1000))-1\n",
    "                wifi_histo = get_all_cells_triangle(filepath_method_output, x1, x2, y1, y2, window)      \n",
    "    wifi.append(wifi_histo)\n",
    "\n",
    "# multiply wifi estimate with random/non-random factor\n",
    "factor = 1.176\n",
    "wifi = np.array(wifi) * factor\n",
    "\n",
    "# average densities per m2\n",
    "#wifi = np.array(wifi) / xsize**2\n",
    "#video = np.array(video) / ysize**2\n",
    "\n",
    "Y = np.ravel(video)\n",
    "X = np.ravel(wifi)\n",
    "\n",
    "for i in range(len(timepoints)):\n",
    "    print('Video:', round(Y[i],2),'\\t', 'WiFi:', round(X[i],2))"
   ]
  },
  {
   "cell_type": "code",
   "execution_count": null,
   "metadata": {
    "collapsed": true
   },
   "outputs": [],
   "source": []
  }
 ],
 "metadata": {
  "anaconda-cloud": {},
  "kernelspec": {
   "display_name": "Python [default]",
   "language": "python",
   "name": "python3"
  },
  "language_info": {
   "codemirror_mode": {
    "name": "ipython",
    "version": 3
   },
   "file_extension": ".py",
   "mimetype": "text/x-python",
   "name": "python",
   "nbconvert_exporter": "python",
   "pygments_lexer": "ipython3",
   "version": "3.6.3"
  }
 },
 "nbformat": 4,
 "nbformat_minor": 1
}
