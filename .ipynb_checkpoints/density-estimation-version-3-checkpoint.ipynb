{
 "cells": [
  {
   "cell_type": "markdown",
   "metadata": {},
   "source": [
    "# The density estimation method code"
   ]
  },
  {
   "cell_type": "markdown",
   "metadata": {},
   "source": [
    "This code uses the variable_kde class (in the dens_estimation module), which is an adapted version from the Scipy \n",
    "kernel density estimation code (scipy/scipy/stats/kde.py)."
   ]
  },
  {
   "cell_type": "code",
   "execution_count": 1,
   "metadata": {
    "collapsed": true
   },
   "outputs": [],
   "source": [
    "import pandas as pd\n",
    "import json\n",
    "import numpy as np\n",
    "from scipy.stats import multivariate_normal\n",
    "from scipy import signal\n",
    "import copy\n",
    "from importlib import reload\n",
    "import dens_estimation as de\n",
    "from mpl_toolkits.mplot3d import Axes3D\n",
    "import matplotlib.pyplot as plt"
   ]
  },
  {
   "cell_type": "markdown",
   "metadata": {},
   "source": [
    "## Import and rebuild data set"
   ]
  },
  {
   "cell_type": "markdown",
   "metadata": {},
   "source": [
    "Below we import the fitted positions data and build a Pandas DataFrame called 'frame'. In 'frame' each row is a fitted position. The columns contain the separate pieces of information accompanying each fit, such as the coordinates, timestamp, and uncertainty values. The rows are ordered by timestamp."
   ]
  },
  {
   "cell_type": "code",
   "execution_count": 2,
   "metadata": {
    "collapsed": true
   },
   "outputs": [],
   "source": [
    "def read_data(filepath):\n",
    "    for i in range(0,1):\n",
    "        data = []\n",
    "        with open(filepath) as f:\n",
    "            data = f.readlines()\n",
    "        json_lines = []\n",
    "        for line in data:\n",
    "            jsline = json.loads(line)\n",
    "            json_lines.append(jsline)\n",
    "        global frame    \n",
    "        frame = pd.DataFrame.from_dict(json_lines)\n",
    "        # rebuild dataframe\n",
    "        # make dataframe of dicts nested in 'value' column\n",
    "        value = pd.DataFrame(list(frame['value']))\n",
    "        del frame['value']\n",
    "        # make dataframe of dicts nested in 'trackeeHistory' column\n",
    "        trackee = pd.DataFrame(list(value['trackeeHistory']))\n",
    "        del value['trackeeHistory']\n",
    "        localMac = pd.DataFrame(list(trackee['localMac']))\n",
    "        localMac.columns = ['localMac']\n",
    "        # make dataframe with a 'coordinates' column\n",
    "        averagecoordinate = pd.DataFrame(list(value['averagecoordinate']))\n",
    "        coordinates = pd.DataFrame(list(averagecoordinate['avg']))\n",
    "        averagecoordinate = averagecoordinate.join(coordinates)\n",
    "        error = pd.DataFrame(list(averagecoordinate['error']))\n",
    "        errorcoordinates = pd.DataFrame(list(error['coordinates']))\n",
    "        del errorcoordinates[2]\n",
    "        errorcoordinates.columns = ['x_error','y_error']\n",
    "        del averagecoordinate['avg']\n",
    "        del value['averagecoordinate']\n",
    "        # join dataframes\n",
    "        frame = frame.join(value.join(averagecoordinate))\n",
    "        frame = frame.join(errorcoordinates)\n",
    "        frame = frame.join(localMac)\n",
    "        del frame['error']\n",
    "        frame = frame[frame['localMac'] == 0]\n",
    "        frame = frame.sort_values(by='measurementTimestamp')\n",
    "        return frame"
   ]
  },
  {
   "cell_type": "markdown",
   "metadata": {},
   "source": [
    "## Test data set"
   ]
  },
  {
   "cell_type": "code",
   "execution_count": 3,
   "metadata": {
    "collapsed": true
   },
   "outputs": [],
   "source": [
    "import uuid"
   ]
  },
  {
   "cell_type": "code",
   "execution_count": 4,
   "metadata": {
    "collapsed": true
   },
   "outputs": [],
   "source": [
    "# create artificial wi-fi dataframe for e.g. 4 mobile devices\n",
    "# play around with the positions and errors, see what happens\n",
    "\n",
    "data = {'sourceMac': [str(uuid.uuid4()) for i in range(4)],\n",
    "       'measurementTimestamp': [i + 1436047367297 for i in range(1,5)],\n",
    "       'coordinates': [[0,0],[-50,-33],[45,-28],[50,28]],\n",
    "       'x_error': [5,5,5,5],\n",
    "       'y_error': [5,5,5,5]}\n",
    "\n",
    "#frame = pd.DataFrame(data)"
   ]
  },
  {
   "cell_type": "code",
   "execution_count": 5,
   "metadata": {
    "collapsed": true
   },
   "outputs": [],
   "source": [
    "#frame"
   ]
  },
  {
   "cell_type": "markdown",
   "metadata": {},
   "source": [
    "## Functions for the density estimation"
   ]
  },
  {
   "cell_type": "markdown",
   "metadata": {},
   "source": [
    "The density estimation code works according to the following steps:\n",
    "- First a time window is selected from the data\n",
    "- The set of unique MAC addresses in the time window is determined\n",
    "- A bunch of dictionairies are created which hold for each MAC (as key), the required values to construct\n",
    "the density estimate, such as the fitted position coordinates, and the associated uncertainty values\n",
    "- After the first time window, the dictionairies are recreated from the previous set, so the set of MAC addresses\n",
    "can only expand\n",
    "- The density estimates are calculated (using the variable_kde class code)\n",
    "- The density estimates are summed, to create the total crowd density estimate\n",
    "- After each iteration, a deep copy is made of all the density estimates \n",
    "- If a MAC address is not detected in a new time window, the previous density estimate is used (stored in the deep copy)\n",
    "    - This is only done if the history value associated with the MAC address does not exceed the memory parameter\n",
    "    - If the history value does exceed the memory parameter, the density estimate remains zero until the MAC is detected again"
   ]
  },
  {
   "cell_type": "markdown",
   "metadata": {},
   "source": [
    "From here it is assumed that the data is stored in a Pandas DataFrame called 'frame'.\n",
    "The function 'selectWindow' selects the part of the dataset with timestamps falling within the interval specified by variables 'start' and 'stop', and returns a DataFrame with the same structure as 'frame'.\n",
    "Start and stop are specified by the iterator k and the parameters 'interval' and 'timestep'.\n",
    "If timestep > interval, the time windows are non-overlapping."
   ]
  },
  {
   "cell_type": "code",
   "execution_count": 6,
   "metadata": {
    "collapsed": true
   },
   "outputs": [],
   "source": [
    "def selectWindow(frame, k, init_timestamp, timestep, interval):\n",
    "    #start = min(frame['measurementTimestamp']) + k * timestep\n",
    "    start = init_timestamp + k * timestep\n",
    "    stop = start + interval\n",
    "\n",
    "    window = frame[(frame['measurementTimestamp'] >= start) & \n",
    "                       (frame['measurementTimestamp'] < stop)]\n",
    "\n",
    "    return window"
   ]
  },
  {
   "cell_type": "markdown",
   "metadata": {},
   "source": [
    "The function createDataStructures returns a bunch of dictionairies for the MAC addresses detected in the \n",
    "selected time window, required to do the density estimation later on.\n",
    "It creates a Python dictionairy called 'histos' with the MAC addresses as keys. Each address gets an empty grid (zeros), \n",
    "which is the two-dimensional probability distribution yet to be evaluated.\n",
    "It creates a second dictionairy called 'positions' where each MAC address gets an empty list.\n",
    "It creates two separate dictionairies for the uncertainty values in x and y direction,\n",
    "where each MAC address gets an empty list.\n",
    "It creates a dictionairy called 'history', which for each MAC keeps track of the time that has passed since the last update, given by the number of time windows."
   ]
  },
  {
   "cell_type": "code",
   "execution_count": 7,
   "metadata": {
    "collapsed": true
   },
   "outputs": [],
   "source": [
    "def createDataStructures(window, height, width):\n",
    "    grids = np.zeros((len(set(window['sourceMac'])), height,width))\n",
    "\n",
    "    # dictionary of histograms (with mac addresses as keys)\n",
    "    histos = dict(zip(set(window['sourceMac']), grids))\n",
    "    \n",
    "    emptylist = [[] for i in range(len(set(window['sourceMac'])))]\n",
    "    # dictionary of positions (a list itself) with mac adresses as keys.\n",
    "    positions = dict(zip(set(window['sourceMac']), emptylist))\n",
    "    emptylist = [[] for i in range(len(set(window['sourceMac'])))]\n",
    "    x_errors = dict(zip(set(window['sourceMac']), emptylist))\n",
    "    emptylist = [[] for i in range(len(set(window['sourceMac'])))]\n",
    "    y_errors = dict(zip(set(window['sourceMac']), emptylist))\n",
    "    \n",
    "    history = dict(zip(set(window['sourceMac']), np.zeros(len(set(window['sourceMac'])))))\n",
    "    \n",
    "    return histos, positions, x_errors, y_errors, history"
   ]
  },
  {
   "cell_type": "markdown",
   "metadata": {},
   "source": [
    "In the function resetDataStructures all the dictionairies created in createDataStructures are reset: all the MAC addresses get an empty list again.\n",
    "The dictionairy containing the calculated density estimates is deep copied."
   ]
  },
  {
   "cell_type": "code",
   "execution_count": 8,
   "metadata": {
    "collapsed": true
   },
   "outputs": [],
   "source": [
    "def resetDataStructures(histos, height, width):\n",
    "    \n",
    "    histos_old = copy.deepcopy(histos)\n",
    "    \n",
    "    grids = np.zeros((len(histos), height,width))\n",
    "    histos = dict(zip(histos.keys(), grids))\n",
    "    \n",
    "    emptylist = [[] for i in range(len(histos))]\n",
    "    positions = dict(zip(histos.keys(), emptylist))\n",
    "    emptylist = [[] for i in range(len(histos))]\n",
    "    x_errors = dict(zip(histos.keys(), emptylist))\n",
    "    emptylist = [[] for i in range(len(histos))]\n",
    "    y_errors = dict(zip(histos.keys(), emptylist))\n",
    "    \n",
    "    return histos, histos_old, positions, x_errors, y_errors"
   ]
  },
  {
   "cell_type": "markdown",
   "metadata": {},
   "source": [
    "In the function updateDataStructures all the empty lists in the dictionairies created in createDataStructures are filled with values from the data in the selected time window.\n",
    "If a MAC address is not yet in the dictionary, it is added."
   ]
  },
  {
   "cell_type": "code",
   "execution_count": 9,
   "metadata": {
    "collapsed": true
   },
   "outputs": [],
   "source": [
    "def updateDataStructures(window, histos, positions, x_errors, y_errors, history, height, width):\n",
    "    for i in range(len(window)):\n",
    "        if not window['sourceMac'].values[i] in positions:\n",
    "            histos[window['sourceMac'].values[i]] = np.zeros((height,width))\n",
    "            positions[window['sourceMac'].values[i]] = []\n",
    "            x_errors[window['sourceMac'].values[i]] = []\n",
    "            y_errors[window['sourceMac'].values[i]] = []\n",
    "            history[window['sourceMac'].values[i]] = 0            \n",
    "        positions[window['sourceMac'].values[i]].append(window['coordinates'].values[i][:2])\n",
    "        x_errors[window['sourceMac'].values[i]].append(window['x_error'].values[i])\n",
    "        y_errors[window['sourceMac'].values[i]].append(window['y_error'].values[i])  \n",
    "    return histos, positions, x_errors, y_errors, history"
   ]
  },
  {
   "cell_type": "markdown",
   "metadata": {},
   "source": [
    "### Note:"
   ]
  },
  {
   "cell_type": "markdown",
   "metadata": {},
   "source": [
    "The following function is not used at the moment.\n",
    "The function createDensityEstimates_KDE below uses the variable_kde class from the dens_estimation module.\n",
    "We create an instance of the kernel estimator by passing two (2 x N)-arrays to it, containing the N estimated\n",
    "positions (values), and the N associated uncertainties (errors).\n",
    "The kernel is then evaluated on a provided set of evaluation grid points (gridpoints). The evaluation grid points \n",
    "should be reshaped into a (2 x M)-array (where M is the number of evaluation grid points).\n",
    "The result (the (1 x M)-vector: estimate) is then reshaped back into the size of the evaluation grid.\n",
    "So, for each MAC address we pass a list of estimated positions and a list of two-dimensional errors to the kernel. The kernel returns a list of normalized values for the evaluation grid points.\n",
    "The variable_kde class code is also commented (see dens_estimation.py)."
   ]
  },
  {
   "cell_type": "code",
   "execution_count": 10,
   "metadata": {
    "collapsed": true
   },
   "outputs": [],
   "source": [
    "def createDensityEstimates_KDE(window, gridpoints, histos, positions, x_errors, y_errors,  height, width):\n",
    "    for mac in histos.keys():\n",
    "        if len(positions[mac]) > 0:           \n",
    "            values = np.transpose(np.array(positions[mac]))\n",
    "            uncertainties = np.array([x_errors[mac], y_errors[mac]])\n",
    "            kernel = de.variable_kde(values, uncertainties)\n",
    "            binvals = kernel(gridpoints)\n",
    "            # reshape() stacks row-wise, so we use the Fortran-like index ordering\n",
    "            estimate = np.reshape(binvals, (height, width), order='F')            \n",
    "            histos[mac] += estimate\n",
    "            \n",
    "            if histos[mac].sum() > 0:\n",
    "                histos[mac] /= histos[mac].sum()\n",
    "    return histos"
   ]
  },
  {
   "cell_type": "markdown",
   "metadata": {},
   "source": [
    "The function createDensityEstimates creates normalized histograms of all positions of every MAC adress that fall in the region of the stadium. "
   ]
  },
  {
   "cell_type": "code",
   "execution_count": 24,
   "metadata": {
    "collapsed": true
   },
   "outputs": [],
   "source": [
    "import random\n",
    "from scipy import ndimage\n",
    "def createDensityEstimates(window, gridpoints, histos, positions, x_errors, y_errors,  height, width):\n",
    "    for mac in histos.keys():        \n",
    "        if len(positions[mac]) > 0:\n",
    "            for pos in positions[mac]:\n",
    "                x= pos[0]\n",
    "                y = pos[1]\n",
    "                if abs(x) < width and abs(y) < height:\n",
    "                    histos[mac][round(y)][round(x)] += 1                             \n",
    "            index = len(positions[mac]) - 1\n",
    "            sigma_filter = (x_errors[mac][index] + y_errors[mac][index])/2\n",
    "            histos[mac] = ndimage.gaussian_filter(histos[mac], sigma=sigma_filter)\n",
    "            if histos[mac].sum() > 0:                               \n",
    "                histos[mac] /= (histos[mac].sum()+0.0)\n",
    "    return histos"
   ]
  },
  {
   "cell_type": "markdown",
   "metadata": {},
   "source": [
    "### Smoothing or memorizing"
   ]
  },
  {
   "cell_type": "markdown",
   "metadata": {},
   "source": [
    "Please note: below we see two functions, memorizeNonUpdatedEstimates and smoothNonUpdatedEstimates. If the memory parameter > 0,\n",
    "the smoothNonUpdatedEstimates smoothes non-updated distributions kept in memory. \n",
    "If we decide not to smooth non-updated distributions, we should use the function memorizeNonUpdatedEstimates, \n",
    "which only repeats distributions as they were last detected.\n",
    "We can determine what function is used in the function runDataAnalysis."
   ]
  },
  {
   "cell_type": "code",
   "execution_count": 12,
   "metadata": {
    "collapsed": true
   },
   "outputs": [],
   "source": [
    "def memorizeNonUpdatedEstimates(histos, histos_old, positions, history, memory):\n",
    "    for mac in histos.keys():\n",
    "        if len(positions[mac]) == 0:\n",
    "            if history[mac] < memory:\n",
    "                histos[mac] += histos_old[mac]\n",
    "                history[mac] += 1\n",
    "            else:\n",
    "                history[mac] = 0\n",
    "    return histos"
   ]
  },
  {
   "cell_type": "markdown",
   "metadata": {},
   "source": [
    "The following two functions are not used at the moment. In the function smoothNonUpdatedEstimates previously calculated density estimates are smoothed.\n",
    "We first construct a two-dimensional Gaussian bump  of which the width (sigma) is based on by pedestrian walking speed.\n",
    "The two-dimensional function is created using a scipy.stats library function.\n",
    "If there were no detections for a MAC address in the time window, its density estimate from the previous time window \n",
    "(stored in a deep copy) is convoluted with the Gaussian bivariate bump, using a library function from the scipy signal processing module.\n",
    "Each time this is done, the history value associated with the MAC address is incremented.\n",
    "If the history value exceeds the memory parameter value, the density estimate remains zero.\n",
    "The density estimate remains zero, untill the MAC is detected again."
   ]
  },
  {
   "cell_type": "code",
   "execution_count": 13,
   "metadata": {
    "collapsed": true
   },
   "outputs": [],
   "source": [
    "def get_max_velocity(crowd_density):#by Weidmann's equation\n",
    "    rho = crowd_density#avoid division by 0\n",
    "    crowd_density = max(0.1, crowd_density)\n",
    "    v_0=1.34 #speed at 0 density\n",
    "    gamma = 1.913 #fit parameter\n",
    "    rho_max = 5.4 #at this density movement is not possible\n",
    "    v =v_0*(1-np.exp(-gamma*(1/rho-1/rho_max)))\n",
    "    v = max(0.01, v)\n",
    "    #print(\"velocity:\" + str(v))    \n",
    "    return v"
   ]
  },
  {
   "cell_type": "code",
   "execution_count": 14,
   "metadata": {
    "collapsed": true
   },
   "outputs": [],
   "source": [
    "# not used\n",
    "def smoothNonUpdatedEstimates(histos, histos_old, positions, history, height, width, total_dens_histo):\n",
    "    import math \n",
    "    # generate weighting function with dispersion set to \n",
    "    # Brownian motion with v = 0.5 m/s and t = interval time\n",
    "    # diffusion constant D = (v^2)/2\n",
    "    \n",
    "    crowd_density = np.sum(total_dens_histo)/(stadium_length*stadium_width)\n",
    "    #print(\"crowd density:\" + str(crowd_density))\n",
    "    velocity = get_max_velocity(crowd_density)\n",
    "    #D = velocity*velocity/2\n",
    "    t = interval / 1000\n",
    "    #sigma = math.sqrt(2*D*t) / cellsize\n",
    "    sigma = velocity * math.sqrt(t)/cellsize\n",
    "    var = multivariate_normal(mean=[width/2 - 1,height/2 - 1], cov=[[sigma**2,0],[0,sigma**2]])\n",
    "    \n",
    "    weights = np.zeros((height,width))\n",
    "    for i in np.arange(width):\n",
    "        for j in np.arange(height):\n",
    "            weights[j][i] += var.pdf([i,j])\n",
    "    \n",
    "    for mac in histos.keys():\n",
    "        if len(positions[mac]) == 0:\n",
    "            if history[mac] < memory:\n",
    "                # smooth existing pdf from previous time interval\n",
    "                # apply a convolution\n",
    "                conv = signal.convolve2d(histos_old[mac], weights, boundary='wrap', mode='same')\n",
    "                \n",
    "                histos[mac] += conv\n",
    "                history[mac] += 1\n",
    "            else:\n",
    "                history[mac] = 0\n",
    "    \n",
    "    return histos"
   ]
  },
  {
   "cell_type": "markdown",
   "metadata": {},
   "source": [
    "### Summing all histograms"
   ]
  },
  {
   "cell_type": "markdown",
   "metadata": {},
   "source": [
    "The sumHistograms function simply sums the histograms in the dictionairy 'histos', \n",
    "and returns the total density estimate in the form of a numpy array."
   ]
  },
  {
   "cell_type": "code",
   "execution_count": 15,
   "metadata": {
    "collapsed": true
   },
   "outputs": [],
   "source": [
    "def sumHistograms(histos, height, width):\n",
    "    # total density histogram per period\n",
    "    total_dens_histo = np.zeros((height, width))\n",
    "    \n",
    "    for mac in histos.keys():\n",
    "        total_dens_histo += histos[mac]\n",
    "                \n",
    "    return total_dens_histo"
   ]
  },
  {
   "cell_type": "markdown",
   "metadata": {},
   "source": [
    "This is the __main__ function. It runs all the steps, and writes the total density estimate to file.\n",
    "It differentiates between the first and later iterations, in order to initialize the dictionairies,\n",
    "and then only to reset them.\n",
    "Here we also choose whether we smooth non-updated distributions, or just repeat them as they are."
   ]
  },
  {
   "cell_type": "markdown",
   "metadata": {},
   "source": [
    "### Running all together to obtain density estimation"
   ]
  },
  {
   "cell_type": "code",
   "execution_count": 16,
   "metadata": {
    "collapsed": true
   },
   "outputs": [],
   "source": [
    "def runDataAnalysis(frame, smooth, outputdir, init_timestamp, timestep, height, width, periods, interval, memory,  gridpoints):\n",
    "    total_dens_histo = []\n",
    "    for k in range(periods):\n",
    "        window = selectWindow(frame, k, init_timestamp, timestep, interval)\n",
    "        #if len(window) > 0:\n",
    "        if k < 1:\n",
    "            histos, positions, x_errors, y_errors, history = createDataStructures(window, height, width)\n",
    "            histos, positions, x_errors, y_errors, history =\\\n",
    "            updateDataStructures(window, histos, positions, x_errors, y_errors, history, height, width)\n",
    "            histos = createDensityEstimates(window, gridpoints, histos, positions, x_errors, y_errors, height, width)\n",
    "        else:\n",
    "            histos, histos_old, positions, x_errors, y_errors = resetDataStructures(histos, height, width)\n",
    "            histos, positions, x_errors, y_errors, history =\\\n",
    "            updateDataStructures(window, histos, positions, x_errors, y_errors, history, height, width)\n",
    "            histos = createDensityEstimates(window, gridpoints, histos, positions, x_errors, y_errors, height, width)\n",
    "            if smooth:\n",
    "                histos = smoothNonUpdatedEstimates(histos, histos_old, positions, history, height, width, total_dens_histo)\n",
    "            else:    \n",
    "                histos = memorizeNonUpdatedEstimates(histos, histos_old, positions, history, memory)\n",
    "\n",
    "        total_dens_histo = sumHistograms(histos, height, width)\n",
    "        \n",
    "        np.savetxt(outputdir+'dens_histo_%d.csv' %  k, total_dens_histo, delimiter=',')\n",
    "        print('Time window:', k)"
   ]
  },
  {
   "cell_type": "markdown",
   "metadata": {},
   "source": [
    "In this cell the parameters are set to run runDataAnalysis. The variable 'cellsize' sets the distance between\n",
    "grid points in the evaluation grid.\n",
    "The variables height and width follow from dividing the size of the evaluation grid (240x180 meter), \n",
    "which is the rectangle containing the Arena stadium, by the cellsize.\n",
    "The variable 'periods' sets the number of time windows to run the analysis.\n",
    "Interval is the length of the time window (in milliseconds). Timestep is the amount of time the time window is moved at each iteration.\n",
    "The memory variable determines the amount of time, measured by the number of time windows,\n",
    "a density estimate is held in memory."
   ]
  },
  {
   "cell_type": "code",
   "execution_count": 17,
   "metadata": {
    "collapsed": true,
    "scrolled": true
   },
   "outputs": [],
   "source": [
    "# not used at the moment\n",
    "def run_one():\n",
    "    reload(de)\n",
    "\n",
    "# cell size (bin size)\n",
    "    cellsize = 5;\n",
    "# size of binned region (number of cells)\n",
    "    stadium_width = 105\n",
    "    stadium_length = 70\n",
    "    width = int(stadium_width/cellsize); height = int(stadium_length/cellsize)\n",
    "\n",
    "# build the evalation grid, on which to evaluate the kernel estimator\n",
    "    X, Y = np.mgrid[-int(stadium_width/2):int(stadium_width/2):cellsize,-int(stadium_length/2):int(stadium_length/2):cellsize]\n",
    "    gridpoints = np.vstack([X.ravel(), Y.ravel()])\n",
    "\n",
    "# numbers of time intervals\n",
    "    #periods = 9 #number of time windows\n",
    "    #timestep = 30000 # stride\n",
    "    #interval = 60000 # length of time window in ms\n",
    "    #memory = 9 # in number of time windows\n",
    "    #init_timestamp = 1436047260000\n",
    "\n",
    "    runDataAnalysis(True, \"/home/ubuntu/Arena_sim_data/output/\"  )"
   ]
  },
  {
   "cell_type": "markdown",
   "metadata": {},
   "source": [
    "## Run density estimation code on  simulated data"
   ]
  },
  {
   "cell_type": "code",
   "execution_count": 18,
   "metadata": {
    "collapsed": true
   },
   "outputs": [],
   "source": [
    "#for the static crowd\n",
    "filepath = \"/home/ubuntu/Arena_sim_data/fake_positions1_size_\"\n",
    "crowd_size = 1000\n",
    "step = 5000\n",
    "\n",
    "# cell size (bin size)\n",
    "cellsize = 1;\n",
    "# size of binned region (number of cells)\n",
    "stadium_width = 106\n",
    "stadium_length = 68\n",
    "width = int(stadium_width/cellsize)\n",
    "height = int(stadium_length/cellsize)\n",
    "\n",
    "# numbers of time intervals\n",
    "periods = 1 #number of time windows\n",
    "timestep = 30000 # stride\n",
    "interval = 40000 # length of time window in ms\n",
    "memory = 0# in number of time windows\n",
    "        \n",
    "\n",
    "def run_analysis_for_all_static(filepath, crowd_size, step, init_timestamp = 1436047260000):\n",
    "    for i in range (0, 10):\n",
    "        crowd_size += step\n",
    "        print(\"crowd_size:\" + str(crowd_size))\n",
    "        frame = read_data( filepath + str(crowd_size) + \".json\" )\n",
    "        reload(de)        \n",
    "        # build the evalation grid, on which to evaluate the kernel estimator\n",
    "        X, Y = np.mgrid[-int(stadium_width/2):int(stadium_width/2):cellsize,-int(stadium_length/2):int(stadium_length/2):cellsize]\n",
    "        gridpoints = np.vstack([X.ravel(), Y.ravel()])\n",
    "        runDataAnalysis(frame, False,\"/home/ubuntu/Arena_sim_data/output/static_size_\"+ str(crowd_size) + \"_\", 1436047260000, timestep,height, width, periods, interval, memory,  gridpoints)\n",
    "        #runDataAnalysis(frame, smooth, outputdir, init_timestamp= 1436047260000, timestep= 30000, height, width, periods, interval, memory"
   ]
  },
  {
   "cell_type": "code",
   "execution_count": 27,
   "metadata": {},
   "outputs": [
    {
     "name": "stdout",
     "output_type": "stream",
     "text": [
      "crowd_size:6000\n",
      "Time window: 0\n",
      "crowd_size:11000\n",
      "Time window: 0\n",
      "crowd_size:16000\n",
      "Time window: 0\n",
      "crowd_size:21000\n",
      "Time window: 0\n",
      "crowd_size:26000\n",
      "Time window: 0\n",
      "crowd_size:31000\n",
      "Time window: 0\n",
      "crowd_size:36000\n",
      "Time window: 0\n",
      "crowd_size:41000\n",
      "Time window: 0\n",
      "crowd_size:46000\n",
      "Time window: 0\n",
      "crowd_size:51000\n",
      "Time window: 0\n"
     ]
    }
   ],
   "source": [
    "run_analysis_for_all_static(filepath, crowd_size, step, 1436047260000)"
   ]
  },
  {
   "cell_type": "code",
   "execution_count": 22,
   "metadata": {
    "collapsed": true
   },
   "outputs": [],
   "source": [
    "#for full fledged crowd\n",
    "filepath = \"/home/ubuntu/Arena_sim_data/fake_positions_size_\"\n",
    "crowd_size = 0\n",
    "step = 6000\n",
    "\n",
    "# cell size (bin size)\n",
    "cellsize = 1;\n",
    "# size of binned region (number of cells)\n",
    "stadium_width = 106\n",
    "stadium_length = 68\n",
    "width = int(stadium_width/cellsize)\n",
    "height = int(stadium_length/cellsize)\n",
    "\n",
    "# numbers of time intervals\n",
    "periods = 9 #number of time windows\n",
    "timestep = 30000 # stride\n",
    "interval = 40000 # length of time window in ms\n",
    "memory = 3 # in number of time windows\n",
    "        \n",
    "\n",
    "def run_analysis_for_all(filepath, crowd_size, step, init_timestamp = 1436047260000):\n",
    "    for i in range (0, 10):\n",
    "        crowd_size += step\n",
    "        print(\"crowd_size:\" + str(crowd_size))\n",
    "        frame = read_data( filepath + str(crowd_size) + \".json\" )\n",
    "        reload(de)        \n",
    "        # build the evalation grid, on which to evaluate the kernel estimator\n",
    "        X, Y = np.mgrid[-int(stadium_width/2):int(stadium_width/2):cellsize,-int(stadium_length/2):int(stadium_length/2):cellsize]\n",
    "        gridpoints = np.vstack([X.ravel(), Y.ravel()])\n",
    "        runDataAnalysis(frame, False,\"/home/ubuntu/Arena_sim_data/output/mem_5_size_\"+ str(crowd_size) + \"_\", 1436047260000, timestep,height, width, periods, interval, memory,  gridpoints)\n",
    "        #runDataAnalysis(frame, smooth, outputdir, init_timestamp= 1436047260000, timestep= 30000, height, width, periods, interval, memory"
   ]
  },
  {
   "cell_type": "code",
   "execution_count": 23,
   "metadata": {},
   "outputs": [
    {
     "name": "stdout",
     "output_type": "stream",
     "text": [
      "crowd_size:6000\n",
      "Time window: 0\n",
      "Time window: 1\n",
      "Time window: 2\n",
      "Time window: 3\n",
      "Time window: 4\n",
      "Time window: 5\n",
      "Time window: 6\n",
      "Time window: 7\n",
      "Time window: 8\n",
      "crowd_size:12000\n",
      "Time window: 0\n",
      "Time window: 1\n",
      "Time window: 2\n",
      "Time window: 3\n",
      "Time window: 4\n",
      "Time window: 5\n",
      "Time window: 6\n",
      "Time window: 7\n",
      "Time window: 8\n",
      "crowd_size:18000\n",
      "Time window: 0\n",
      "Time window: 1\n",
      "Time window: 2\n",
      "Time window: 3\n",
      "Time window: 4\n",
      "Time window: 5\n",
      "Time window: 6\n",
      "Time window: 7\n",
      "Time window: 8\n",
      "crowd_size:24000\n",
      "Time window: 0\n",
      "Time window: 1\n",
      "Time window: 2\n",
      "Time window: 3\n",
      "Time window: 4\n",
      "Time window: 5\n",
      "Time window: 6\n",
      "Time window: 7\n",
      "Time window: 8\n",
      "crowd_size:30000\n",
      "Time window: 0\n",
      "Time window: 1\n",
      "Time window: 2\n",
      "Time window: 3\n",
      "Time window: 4\n",
      "Time window: 5\n",
      "Time window: 6\n",
      "Time window: 7\n",
      "Time window: 8\n",
      "crowd_size:36000\n",
      "Time window: 0\n",
      "Time window: 1\n",
      "Time window: 2\n",
      "Time window: 3\n",
      "Time window: 4\n",
      "Time window: 5\n",
      "Time window: 6\n",
      "Time window: 7\n",
      "Time window: 8\n",
      "crowd_size:42000\n",
      "Time window: 0\n",
      "Time window: 1\n",
      "Time window: 2\n",
      "Time window: 3\n",
      "Time window: 4\n",
      "Time window: 5\n",
      "Time window: 6\n",
      "Time window: 7\n",
      "Time window: 8\n",
      "crowd_size:48000\n",
      "Time window: 0\n",
      "Time window: 1\n",
      "Time window: 2\n",
      "Time window: 3\n",
      "Time window: 4\n",
      "Time window: 5\n",
      "Time window: 6\n",
      "Time window: 7\n",
      "Time window: 8\n",
      "crowd_size:54000\n",
      "Time window: 0\n",
      "Time window: 1\n",
      "Time window: 2\n",
      "Time window: 3\n",
      "Time window: 4\n",
      "Time window: 5\n",
      "Time window: 6\n",
      "Time window: 7\n",
      "Time window: 8\n",
      "crowd_size:60000\n",
      "Time window: 0\n",
      "Time window: 1\n",
      "Time window: 2\n",
      "Time window: 3\n",
      "Time window: 4\n",
      "Time window: 5\n",
      "Time window: 6\n",
      "Time window: 7\n",
      "Time window: 8\n"
     ]
    }
   ],
   "source": [
    "run_analysis_for_all(filepath, crowd_size, step, 1436047260000)"
   ]
  },
  {
   "cell_type": "markdown",
   "metadata": {},
   "source": [
    "## Code for plotting"
   ]
  },
  {
   "cell_type": "markdown",
   "metadata": {},
   "source": [
    "The function runDataAnalysis writes results to file. Below we read in those files again in order to plot them. \n",
    "Make sure the path and file names are correct."
   ]
  },
  {
   "cell_type": "markdown",
   "metadata": {},
   "source": [
    "We first get the maximum occuring density value to set the size of the z-axis in the 3-D plots."
   ]
  },
  {
   "cell_type": "code",
   "execution_count": null,
   "metadata": {
    "collapsed": true
   },
   "outputs": [],
   "source": [
    "# check maximum value for z-axis limit\n",
    "\n",
    "from math import ceil\n",
    "\n",
    "maxValue = 0\n",
    "\n",
    "for i in range(periods):\n",
    "    temp = np.loadtxt('/home/ubuntu/Arena_sim_data/output/size_12500_dens_histo_%d.csv' % i, delimiter=',').max()\n",
    "    if temp > maxValue:\n",
    "        maxValue = temp\n",
    "        \n",
    "#maxValue = ceil(maxValue)"
   ]
  },
  {
   "cell_type": "code",
   "execution_count": null,
   "metadata": {
    "collapsed": true
   },
   "outputs": [],
   "source": [
    "maxValue"
   ]
  },
  {
   "cell_type": "code",
   "execution_count": null,
   "metadata": {
    "collapsed": true
   },
   "outputs": [],
   "source": [
    "fig = plt.figure(figsize=(16,10))\n",
    "\n",
    "#col = ['r', 'y', 'c', 'k', 'c','r'] * height * width\n",
    "col = ['w','r','w','w','w','w'] * height * width\n",
    "# colors = np.random.choice(col, height*width)\n",
    "\n",
    "for k in range(periods):\n",
    "    \n",
    "    ax = fig.add_subplot(111, projection='3d')\n",
    "\n",
    "    x_data, y_data = np.meshgrid( np.arange(width),\n",
    "                                  np.arange(height)*(-1) )\n",
    "\n",
    "    x_data = x_data.flatten()\n",
    "    y_data = y_data.flatten()\n",
    "\n",
    "    z_data = np.loadtxt('/home/ubuntu/Arena_sim_data/output/size_12500_dens_histo_%s.csv' % k, delimiter=',').flatten()\n",
    "    #z_data = total_dens_histos[k].flatten()\n",
    "    ax.set_zlim3d(0, maxValue)\n",
    "    ax.bar3d( x_data,\n",
    "              y_data,\n",
    "              np.zeros(len(z_data)),\n",
    "              1, 1, z_data, color=col) # \n",
    "    if k < 10:\n",
    "        number = '000' + str(k)\n",
    "    elif k > 9:\n",
    "        number = '00' + str(k)\n",
    "    elif k > 99:\n",
    "        number = '0' + str(k)\n",
    "    plt.savefig('/home/ubuntu/Arena_sim_data/output/simdens_histo_%s.png' % number)\n",
    "\n",
    "#plt.show()"
   ]
  },
  {
   "cell_type": "code",
   "execution_count": null,
   "metadata": {
    "collapsed": true
   },
   "outputs": [],
   "source": [
    "plt.show()"
   ]
  },
  {
   "cell_type": "markdown",
   "metadata": {
    "collapsed": true
   },
   "source": [
    "## Run density estimation code on fingerprinting data"
   ]
  },
  {
   "cell_type": "code",
   "execution_count": null,
   "metadata": {
    "collapsed": true
   },
   "outputs": [],
   "source": [
    "filepath = \"/home/ubuntu/ArenaData/Fingerprinting/\"\n",
    "\n",
    "# cell size (bin size)\n",
    "cellsize = 1;\n",
    "# size of binned region (number of cells)\n",
    "stadium_width = 350\n",
    "stadium_length = 140\n",
    "width = int(stadium_width/cellsize)\n",
    "height = int(stadium_length/cellsize)\n",
    "\n",
    "# numbers of time intervals\n",
    "periods = 433 #number of time windows\n",
    "timestep = 30000 # stride\n",
    "interval = 40000 # length of time window in ms\n",
    "memory = 0 # in number of time windows\n",
    "        \n",
    "\n",
    "def run_analysis_for_all_f(filepath, crowd_size,  init_timestamp = 1369908924*1000 + 1804000*1000):\n",
    "    for i in range (0, 1):\n",
    "        crowd_size =16\n",
    "        print(\"crowd_size:\" + str(crowd_size))\n",
    "        data = []\n",
    "        frame = read_data(filepath + \"fingerprints_fitted.json\")\n",
    "        reload(de)        \n",
    "        # build the evalation grid, on which to evaluate the kernel estimator\n",
    "        X, Y = np.mgrid[0:stadium_width:cellsize, 0:stadium_length:cellsize]\n",
    "        print(X)\n",
    "        print(Y)\n",
    "        gridpoints = np.vstack([X.ravel(), Y.ravel()])\n",
    "        print(gridpoints.shape)\n",
    "        runDataAnalysis(frame, False,\"/home/ubuntu/Arena_sim_data/output/fingerprinted_method_\" , init_timestamp, timestep,height, width, periods, interval, memory,  gridpoints)\n",
    "       "
   ]
  },
  {
   "cell_type": "code",
   "execution_count": null,
   "metadata": {
    "collapsed": true
   },
   "outputs": [],
   "source": [
    "run_analysis_for_all_f(filepath, 16,  1369908924*1000 + 1804000*1000)"
   ]
  },
  {
   "cell_type": "code",
   "execution_count": null,
   "metadata": {
    "collapsed": true
   },
   "outputs": [],
   "source": []
  },
  {
   "cell_type": "markdown",
   "metadata": {},
   "source": [
    "## Run density estimation code on Arena data"
   ]
  },
  {
   "cell_type": "code",
   "execution_count": 17,
   "metadata": {
    "collapsed": true
   },
   "outputs": [],
   "source": [
    "filepath = \"/home/ubuntu/ArenaData/arena_fits/\"\n",
    "\n",
    "frameArena = read_data(filepath + \"2015-07-05.json\")"
   ]
  },
  {
   "cell_type": "code",
   "execution_count": 18,
   "metadata": {
    "collapsed": true
   },
   "outputs": [],
   "source": [
    "def filter_out_large_errors(frame):\n",
    "    frame = frame[frame['x_error'] < 40]\n",
    "    frame = frame[frame['y_error'] < 30]\n",
    "    return frame"
   ]
  },
  {
   "cell_type": "code",
   "execution_count": 19,
   "metadata": {},
   "outputs": [
    {
     "data": {
      "text/plain": [
       "712843"
      ]
     },
     "execution_count": 19,
     "metadata": {},
     "output_type": "execute_result"
    }
   ],
   "source": [
    "len(frameArena)"
   ]
  },
  {
   "cell_type": "code",
   "execution_count": 20,
   "metadata": {
    "collapsed": true
   },
   "outputs": [],
   "source": [
    "frame = filter_out_large_errors(frameArena)\n",
    "#frame = frameArena"
   ]
  },
  {
   "cell_type": "code",
   "execution_count": 21,
   "metadata": {},
   "outputs": [
    {
     "name": "stdout",
     "output_type": "stream",
     "text": [
      "Number of MACs filtered out: 23\n"
     ]
    }
   ],
   "source": [
    "# remove randomized MAC-addresses\n",
    "frame = frame[frame['localMac'] == 0]\n",
    "\n",
    "# remove MAC addresses that were still present after 12 pm\n",
    "# list of unique MACs after 12 pm\n",
    "MACafter12 = frame[frame['measurementTimestamp'] > 1436090400000].sourceMac.unique()\n",
    "\n",
    "# measurements before 6 am\n",
    "framebefore6 = frame[frame['measurementTimestamp'] < 1436068800000]\n",
    "\n",
    "mask = framebefore6['sourceMac'].isin(MACafter12)\n",
    "\n",
    "frame = framebefore6[np.logical_not(mask)]\n",
    "\n",
    "print('Number of MACs filtered out:', len(framebefore6.sourceMac.unique()) - len(frame.sourceMac.unique()))\n",
    "\n",
    "#Note: Data frame contains measurements until 06:00."
   ]
  },
  {
   "cell_type": "code",
   "execution_count": 22,
   "metadata": {},
   "outputs": [
    {
     "data": {
      "text/plain": [
       "416563"
      ]
     },
     "execution_count": 22,
     "metadata": {},
     "output_type": "execute_result"
    }
   ],
   "source": [
    "len(frame)"
   ]
  },
  {
   "cell_type": "code",
   "execution_count": 32,
   "metadata": {
    "collapsed": true
   },
   "outputs": [],
   "source": [
    "filepath = \"/home/ubuntu/ArenaData/arena_fits/\"\n",
    "\n",
    "# cell size (bin size)\n",
    "cellsize = 1;\n",
    "# size of binned region (number of cells)\n",
    "\n",
    "\n",
    "stadium_width = 240 # including hte seats\n",
    "stadium_length = 180\n",
    "width = int(stadium_width/cellsize)\n",
    "height = int(stadium_length/cellsize)\n",
    "\n",
    "# numbers of time intervals\n",
    "timestep = 10000 # stride 10000\n",
    "periods = 3*40 #number of time windows\n",
    "interval = 10000 # length of time window in ms\n",
    "memory = 5 # in number of time windows\n",
    "        \n",
    "\n",
    "def run_analysis_for_all_Arena(frame,   init_timestamp = 1436067069000 - 5*60*1000):\n",
    "    for i in range (0, 1):\n",
    "        data = []        \n",
    "        #frame = read_data(filepath + \"2015-07-05.json\")\n",
    "        reload(de)        \n",
    "        # build the evalation grid, on which to evaluate the kernel estimator\n",
    "        X, Y = np.mgrid[-int(stadium_width/2):int(stadium_width/2):cellsize,-int(stadium_length/2):int(stadium_length/2):cellsize]\n",
    "        #print(X)\n",
    "        #print(Y)\n",
    "        gridpoints = np.vstack([X.ravel(), Y.ravel()])\n",
    "        print(gridpoints.shape)\n",
    "        runDataAnalysis(frame, False,\"/home/ubuntu/Arena_sim_data/output/WiFi\" , init_timestamp, timestep,height, width, periods, interval, memory,  gridpoints)\n",
    "       "
   ]
  },
  {
   "cell_type": "code",
   "execution_count": 33,
   "metadata": {},
   "outputs": [
    {
     "name": "stdout",
     "output_type": "stream",
     "text": [
      "(2, 43200)\n",
      "Time window: 0\n",
      "Time window: 1\n",
      "Time window: 2\n",
      "Time window: 3\n",
      "Time window: 4\n",
      "Time window: 5\n",
      "Time window: 6\n",
      "Time window: 7\n",
      "Time window: 8\n",
      "Time window: 9\n",
      "Time window: 10\n",
      "Time window: 11\n",
      "Time window: 12\n",
      "Time window: 13\n",
      "Time window: 14\n",
      "Time window: 15\n",
      "Time window: 16\n",
      "Time window: 17\n",
      "Time window: 18\n",
      "Time window: 19\n",
      "Time window: 20\n",
      "Time window: 21\n",
      "Time window: 22\n",
      "Time window: 23\n",
      "Time window: 24\n",
      "Time window: 25\n",
      "Time window: 26\n",
      "Time window: 27\n",
      "Time window: 28\n",
      "Time window: 29\n",
      "Time window: 30\n",
      "Time window: 31\n",
      "Time window: 32\n",
      "Time window: 33\n",
      "Time window: 34\n",
      "Time window: 35\n",
      "Time window: 36\n",
      "Time window: 37\n",
      "Time window: 38\n",
      "Time window: 39\n",
      "Time window: 40\n",
      "Time window: 41\n",
      "Time window: 42\n",
      "Time window: 43\n",
      "Time window: 44\n",
      "Time window: 45\n",
      "Time window: 46\n",
      "Time window: 47\n",
      "Time window: 48\n",
      "Time window: 49\n",
      "Time window: 50\n",
      "Time window: 51\n",
      "Time window: 52\n",
      "Time window: 53\n",
      "Time window: 54\n",
      "Time window: 55\n",
      "Time window: 56\n",
      "Time window: 57\n",
      "Time window: 58\n",
      "Time window: 59\n",
      "Time window: 60\n",
      "Time window: 61\n",
      "Time window: 62\n",
      "Time window: 63\n",
      "Time window: 64\n",
      "Time window: 65\n",
      "Time window: 66\n",
      "Time window: 67\n",
      "Time window: 68\n",
      "Time window: 69\n",
      "Time window: 70\n",
      "Time window: 71\n",
      "Time window: 72\n",
      "Time window: 73\n",
      "Time window: 74\n",
      "Time window: 75\n",
      "Time window: 76\n",
      "Time window: 77\n",
      "Time window: 78\n",
      "Time window: 79\n",
      "Time window: 80\n",
      "Time window: 81\n",
      "Time window: 82\n",
      "Time window: 83\n",
      "Time window: 84\n",
      "Time window: 85\n",
      "Time window: 86\n",
      "Time window: 87\n",
      "Time window: 88\n",
      "Time window: 89\n",
      "Time window: 90\n",
      "Time window: 91\n",
      "Time window: 92\n",
      "Time window: 93\n",
      "Time window: 94\n",
      "Time window: 95\n",
      "Time window: 96\n",
      "Time window: 97\n",
      "Time window: 98\n",
      "Time window: 99\n",
      "Time window: 100\n",
      "Time window: 101\n",
      "Time window: 102\n",
      "Time window: 103\n",
      "Time window: 104\n",
      "Time window: 105\n",
      "Time window: 106\n",
      "Time window: 107\n",
      "Time window: 108\n",
      "Time window: 109\n",
      "Time window: 110\n",
      "Time window: 111\n",
      "Time window: 112\n",
      "Time window: 113\n",
      "Time window: 114\n",
      "Time window: 115\n",
      "Time window: 116\n",
      "Time window: 117\n",
      "Time window: 118\n",
      "Time window: 119\n"
     ]
    }
   ],
   "source": [
    "run_analysis_for_all_Arena(frame, 1436067069000 - 5*60*1000)#5 minutes before the first video frame"
   ]
  },
  {
   "cell_type": "code",
   "execution_count": null,
   "metadata": {
    "collapsed": true
   },
   "outputs": [],
   "source": []
  }
 ],
 "metadata": {
  "anaconda-cloud": {},
  "kernelspec": {
   "display_name": "Python [default]",
   "language": "python",
   "name": "python3"
  },
  "language_info": {
   "codemirror_mode": {
    "name": "ipython",
    "version": 3
   },
   "file_extension": ".py",
   "mimetype": "text/x-python",
   "name": "python",
   "nbconvert_exporter": "python",
   "pygments_lexer": "ipython3",
   "version": "3.6.3"
  }
 },
 "nbformat": 4,
 "nbformat_minor": 1
}
