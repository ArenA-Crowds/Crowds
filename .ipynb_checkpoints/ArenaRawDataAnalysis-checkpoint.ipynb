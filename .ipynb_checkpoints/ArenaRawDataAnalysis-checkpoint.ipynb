{
 "cells": [
  {
   "cell_type": "markdown",
   "metadata": {
    "collapsed": true
   },
   "source": [
    "Packet rate analysis + signal strengths plotting"
   ]
  },
  {
   "cell_type": "code",
   "execution_count": null,
   "metadata": {
    "collapsed": false
   },
   "outputs": [],
   "source": [
    "\n",
    "#reading from raw data\n",
    "import fileinput\n",
    "import json \n",
    "json_lines_raw = []\n",
    "for line in fileinput.input([\"F:/ArenaData/arena_raw_data/2015-07-05.json/2015-07-05_raw.json\"]):\n",
    "    jsline = json.loads(line)\n",
    "    data = []\n",
    "    data.append(jsline[\"value\"][\"sourceMac\"])\n",
    "    data.append(jsline[\"value\"][\"localMac\"])\n",
    "    data.append(jsline[\"measurementTimestamp\"])\n",
    "    data.append(jsline[\"value\"][\"droneId\"])\n",
    "    data.append(jsline[\"value\"][\"signal\"])\n",
    "    json_lines_raw.append(data)\n",
    "print(json_lines_raw[0])\n",
    "              "
   ]
  },
  {
   "cell_type": "markdown",
   "metadata": {},
   "source": [
    "Finding the most overloaded drone (112)"
   ]
  },
  {
   "cell_type": "code",
   "execution_count": 2,
   "metadata": {
    "collapsed": false
   },
   "outputs": [
    {
     "name": "stdout",
     "output_type": "stream",
     "text": [
      "112\n",
      "2920472\n"
     ]
    }
   ],
   "source": [
    "numberOfMeasurementsForDrone = dict()\n",
    "for line in json_lines_raw:\n",
    "    droneId = line[3]\n",
    "    if droneId not in numberOfMeasurementsForDrone.keys():\n",
    "        numberOfMeasurementsForDrone[droneId] = 0\n",
    "    numberOfMeasurementsForDrone[droneId] +=1    \n",
    "maxMeasurements = 0\n",
    "\n",
    "maxDroneId = 0\n",
    "for droneId in numberOfMeasurementsForDrone.keys():\n",
    "    if numberOfMeasurementsForDrone[droneId] > maxMeasurements:\n",
    "        maxMeasurements = numberOfMeasurementsForDrone[droneId]\n",
    "        maxDroneId = droneId\n",
    "print(maxDroneId)\n",
    "print(maxMeasurements)"
   ]
  },
  {
   "cell_type": "markdown",
   "metadata": {},
   "source": [
    "Computing the timestamps for every address visible at drone 112"
   ]
  },
  {
   "cell_type": "code",
   "execution_count": 3,
   "metadata": {
    "collapsed": true
   },
   "outputs": [],
   "source": [
    "timestamps112 = dict()\n",
    "for line in json_lines_raw:\n",
    "    if line[3]==\"112\":\n",
    "        address = line[0]\n",
    "        if address not in timestamps112.keys():\n",
    "            timestamps112[address] = []        \n",
    "        timestamps112[address].append(line[2])\n",
    "for address in timestamps112.keys():\n",
    "    timestamps112[address].sort()  "
   ]
  },
  {
   "cell_type": "markdown",
   "metadata": {},
   "source": [
    "Computing the timestamps for every address visible at any drone"
   ]
  },
  {
   "cell_type": "code",
   "execution_count": 2,
   "metadata": {
    "collapsed": true
   },
   "outputs": [],
   "source": [
    "\n",
    "timestamps = dict()\n",
    "minTimestamp = 2000000000000\n",
    "for line in json_lines_raw:    \n",
    "    address = line[0]\n",
    "    if address not in timestamps.keys():\n",
    "        timestamps[address] = []        \n",
    "    timestamps[address].append(line[2])\n",
    "for address in timestamps.keys():\n",
    "    timestamps[address].sort()  \n",
    "    if timestamps[address][0] < minTimestamp:\n",
    "        minTimestamp = timestamps[address][0]"
   ]
  },
  {
   "cell_type": "code",
   "execution_count": 3,
   "metadata": {
    "collapsed": false
   },
   "outputs": [],
   "source": [
    "# this cleans the json lines to make room in memory for the 'visible' dictionary\n",
    "json_lines_raw = []\n",
    "isVisible = dict()\n",
    "\n",
    "#converts a timestamp from a ms to a second \n",
    "def getSecond(timestamp):\n",
    "    return int(math.floor((timestamp- minTimestamp)/1000)) \n",
    "\n",
    "#converts all timestamps to seconds\n",
    "import math \n",
    "for address in timestamps.keys():   \n",
    "    for i in range (0, len(timestamps[address])-1):\n",
    "        timestamps[address][i] = getSecond(timestamps[address][i])\n",
    "                  \n",
    "\n",
    "#removes the duplicates from the list of timestamps. The lists need to be sorted next\n",
    "for address in timestamps.keys():   \n",
    "    timestamps[address] = list(set(timestamps[address]))\n",
    "\n",
    "#sort the sets \n",
    "for address in timestamps.keys():   \n",
    "    timestamps[address].sort()\n",
    "    \n",
    "#for some reasons the last one remains in ms, therefore I get rid of it. I don't bother to check why. \n",
    "for address in timestamps.keys():  \n",
    "    del timestamps[address][-1]\n",
    "\n",
    "visible = dict()\n",
    "for address in timestamps.keys(): \n",
    "    if len(timestamps[address]) > 0:\n",
    "        rangee =  max(timestamps[address])-min(timestamps[address]) +1\n",
    "        visible[address] =[0]* rangee\n",
    "        for timestamp in timestamps[address]:\n",
    "            visible[address][timestamp - min(timestamps[address]) ] = 1        \n",
    "       "
   ]
  },
  {
   "cell_type": "code",
   "execution_count": null,
   "metadata": {
    "collapsed": true
   },
   "outputs": [],
   "source": [
    "import matplotlib.pyplot as plt\n",
    "\n",
    "#plt.plot(visible['e1deda99-163f-4b68-9ade-e1f05d070bf2'], 'o')\n",
    "plt.plot(visible['8b8a2356-d11e-4bd5-bb35-d8370bf48b1e'], 'o')\n",
    "\n",
    "axes = plt.gca()\n",
    "axes.set_ylim([-0.2,1.2])\n",
    "plt.show()"
   ]
  },
  {
   "cell_type": "code",
   "execution_count": 4,
   "metadata": {
    "collapsed": true
   },
   "outputs": [],
   "source": [
    "#plotting packet arrival rate at drone 112\n",
    "import matplotlib.pyplot as plt\n",
    "#myAddress = 'e1deda99-163f-4b68-9ade-e1f05d070bf2'#the largest one\n",
    "myAddress = '8b8a2356-d11e-4bd5-bb35-d8370bf48b1e'#randomized\n",
    "times112MyAddress = []\n",
    "minTime = 1436047367297\n",
    "for timestamp in timestamps112[myAddress]:\n",
    "    time = (timestamp - minTime)/1000\n",
    "    times112MyAddress.append(time)\n",
    "plt.hist(times112MyAddress, bins = 2000)\n",
    "plt.ylabel('number of packets')\n",
    "plt.xlabel('time(sec)')\n",
    "axes = plt.gca()\n",
    "plt.show()\n"
   ]
  },
  {
   "cell_type": "code",
   "execution_count": null,
   "metadata": {
    "collapsed": true
   },
   "outputs": [],
   "source": [
    "#plotting packet arrival rate at any drone\n",
    "myAddress = 'e1deda99-163f-4b68-9ade-e1f05d070bf2'#the largest one\n",
    "#myAddress = '8b8a2356-d11e-4bd5-bb35-d8370bf48b1e'#randomized\n",
    "timesMyAddress = []\n",
    "minTime = 1436047367297\n",
    "for timestamp in timestamps[myAddress]:\n",
    "    time = (timestamp - minTime)/1000\n",
    "    timesMyAddress.append(time)\n",
    "plt.hist(timesMyAddress, bins = 2000)\n",
    "plt.ylabel('number of packets')\n",
    "plt.xlabel('time(sec)')\n",
    "axes = plt.gca()\n",
    "plt.show()"
   ]
  },
  {
   "cell_type": "code",
   "execution_count": null,
   "metadata": {
    "collapsed": true
   },
   "outputs": [],
   "source": [
    "#computing the interarrival times for every address\n",
    "delays = dict()\n",
    "for address in timestamps.keys():\n",
    "    if address not in delays.keys():\n",
    "        delays[address] = []\n",
    "    oldTimeStamp = 0        \n",
    "    for timestamp in timestamps[address]:\n",
    "        if oldTimeStamp > 0:\n",
    "            delay = (timestamp - oldTimeStamp)\n",
    "            delays[address].append(delay)\n",
    "        oldTimeStamp = timestamp\n",
    "                            "
   ]
  },
  {
   "cell_type": "code",
   "execution_count": 6,
   "metadata": {
    "collapsed": true
   },
   "outputs": [],
   "source": [
    "#computing the interarrival times for every address at drone 112\n",
    "delays112 = dict()\n",
    "for address in timestamps112.keys():\n",
    "    if address not in delays112.keys():\n",
    "        delays112[address] = []\n",
    "    oldTimeStamp = 0        \n",
    "    for timestamp in timestamps112[address]:\n",
    "        if oldTimeStamp > 0:\n",
    "            delay = (timestamp - oldTimeStamp)\n",
    "            delays112[address].append(delay)\n",
    "        oldTimeStamp = timestamp"
   ]
  },
  {
   "cell_type": "code",
   "execution_count": null,
   "metadata": {
    "collapsed": true
   },
   "outputs": [],
   "source": [
    "print(json_lines_raw[30000])\n",
    "print(len(delays))\n",
    "address1 = '32bf72d3-d707-4c37-b9b5-6318187de63f'\n",
    "address2 = '3be779a3-1e1a-4b79-8ad0-c555f5124e7c'\n",
    "print(localMac[address1])\n",
    "print(localMac[address2])\n",
    "print(delays[address1])\n",
    "print(delays[address2])"
   ]
  },
  {
   "cell_type": "code",
   "execution_count": null,
   "metadata": {
    "collapsed": true
   },
   "outputs": [],
   "source": [
    "#print(json_lines_raw[30000])\n",
    "#print(len(delays))\n",
    "address1 = '32bf72d3-d707-4c37-b9b5-6318187de63f'\n",
    "address2 = '3be779a3-1e1a-4b79-8ad0-c555f5124e7c'\n",
    "\n",
    "print(delays112[address1])\n",
    "print(delays112[address2])"
   ]
  },
  {
   "cell_type": "code",
   "execution_count": null,
   "metadata": {
    "collapsed": true
   },
   "outputs": [],
   "source": [
    "#computing statistics of packet interarrival times of all addresses\n",
    "import numpy as np\n",
    "averageDelay= dict()\n",
    "medianDelay = dict()\n",
    "stderrDelay = dict()\n",
    "for address in delays.keys():\n",
    "    if address not in averageDelay.keys():\n",
    "        if len(delays[address]) > 1:\n",
    "            delaysArray = np.array(delays[address])\n",
    "            averageDelay[address] = np.mean(delaysArray)\n",
    "            medianDelay[address] = np.median(delaysArray)\n",
    "            stderrDelay[address] = np.std(delaysArray)\n",
    "            "
   ]
  },
  {
   "cell_type": "code",
   "execution_count": null,
   "metadata": {
    "collapsed": true
   },
   "outputs": [],
   "source": [
    "#computing statistics of non-randomized addresses\n",
    "averageDelay0= dict()\n",
    "medianDelay0 = dict()\n",
    "stderrDelay0 = dict()\n",
    "for address in delays.keys():\n",
    "    if localMac[address] == 0:\n",
    "        if address not in averageDelay0.keys():\n",
    "            if len(delays[address]) > 1:\n",
    "                delaysArray = np.array(delays[address])\n",
    "                averageDelay0[address] = np.mean(delaysArray)\n",
    "                medianDelay0[address] = np.median(delaysArray)\n",
    "                stderrDelay0[address] = np.std(delaysArray)\n",
    "               "
   ]
  },
  {
   "cell_type": "code",
   "execution_count": null,
   "metadata": {
    "collapsed": true
   },
   "outputs": [],
   "source": [
    "#computing statistics of packet interarrival times of randomized addresses\n",
    "averageDelay1= dict()\n",
    "medianDelay1 = dict()\n",
    "stderrDelay1 = dict()\n",
    "for address in delays.keys():\n",
    "    if localMac[address] == 1:\n",
    "        if address not in averageDelay0.keys():\n",
    "            if len(delays[address]) > 1:\n",
    "                delaysArray = np.array(delays[address])\n",
    "                averageDelay1[address] = np.mean(delaysArray)\n",
    "                medianDelay1[address] = np.median(delaysArray)\n",
    "                stderrDelay1[address] = np.std(delaysArray)"
   ]
  },
  {
   "cell_type": "code",
   "execution_count": null,
   "metadata": {
    "collapsed": false
   },
   "outputs": [],
   "source": [
    "#computing statistics of non-randomized addresses for drone 112 (most overloaded drone)\n",
    "import numpy as np\n",
    "averageDelay0_112= dict()\n",
    "medianDelay0_112 = dict()\n",
    "stderrDelay0_112 = dict()\n",
    "for address in delays112.keys():\n",
    "    if localMac[address] == 0:\n",
    "        if address not in averageDelay0_112.keys():\n",
    "            if len(delays112[address]) > 1:\n",
    "                delaysArray = np.array(delays112[address])\n",
    "                averageDelay0_112[address] = np.mean(delaysArray)\n",
    "                medianDelay0_112[address] = np.median(delaysArray)\n",
    "                stderrDelay0_112[address] = np.std(delaysArray)\n",
    "                if len(delays112[address]) > 200:\n",
    "                    print(address)\n",
    "                if len(delays112[address])> 1000:    \n",
    "                    print(\"long \" +  address)\n",
    "print('**********************************************************************')                \n",
    "#computing statistics of randomized addresses for drone 112\n",
    "averageDelay1_112= dict()\n",
    "medianDelay1_112 = dict()\n",
    "stderrDelay1_112 = dict()\n",
    "for address in delays112.keys():\n",
    "    if localMac[address] == 1:\n",
    "        if address not in averageDelay0_112.keys():\n",
    "            if len(delays112[address]) > 1:\n",
    "                delaysArray = np.array(delays112[address])\n",
    "                averageDelay1_112[address] = np.mean(delaysArray)\n",
    "                medianDelay1_112[address] = np.median(delaysArray)\n",
    "                stderrDelay1_112[address] = np.std(delaysArray)       \n",
    "                if len(delays112[address]) > 200:\n",
    "                    print(address)\n",
    "                if len(delays112[address])> 1000:    \n",
    "                    print(\"long \" +  address)    "
   ]
  },
  {
   "cell_type": "code",
   "execution_count": null,
   "metadata": {
    "collapsed": true
   },
   "outputs": [],
   "source": [
    "#drawing the delays of some non-randomized address\n",
    "import matplotlib.pyplot as plt\n",
    "#plt.plot(delays112['62042a84-f904-4b2c-b79b-1e06c1ac980e'])\n",
    "plt.plot(delays['e1deda99-163f-4b68-9ade-e1f05d070bf2'])\n",
    "plt.plot()\n",
    "plt.ylabel('packet interarrival time (ms) at any drone')\n",
    "plt.xlabel('# packet from address e1deda99-163f-4b68-9ade-e1f05d070bf2 ')\n",
    "#axes.set_ylim([0,200])\n",
    "axes = plt.gca()\n",
    "\n",
    "plt.show()"
   ]
  },
  {
   "cell_type": "code",
   "execution_count": null,
   "metadata": {
    "collapsed": true
   },
   "outputs": [],
   "source": [
    "#drawing the delays of some randomized address\n",
    "import matplotlib.pyplot as plt\n",
    "plt.plot(delays112['7a43a795-b538-4563-b702-6f0256588479'])\n",
    "plt.ylabel('interarrival time (ms)')\n",
    "plt.xlabel('packet')\n",
    "#axes.set_ylim([0,200])\n",
    "axes = plt.gca()\n",
    "print(delays112['7a43a795-b538-4563-b702-6f0256588479'])\n",
    "plt.show()"
   ]
  },
  {
   "cell_type": "code",
   "execution_count": null,
   "metadata": {
    "collapsed": true
   },
   "outputs": [],
   "source": [
    "print(delays112['443200e5-5752-4e5e-92f4-00af19a293be'])#a randomized address\n"
   ]
  },
  {
   "cell_type": "code",
   "execution_count": null,
   "metadata": {
    "collapsed": true
   },
   "outputs": [],
   "source": [
    "print(delays112['8b8a2356-d11e-4bd5-bb35-d8370bf48b1e'])# a randomized address"
   ]
  },
  {
   "cell_type": "code",
   "execution_count": null,
   "metadata": {
    "collapsed": true
   },
   "outputs": [],
   "source": [
    "arr = np.array(delays['32bf72d3-d707-4c37-b9b5-6318187de63f'])"
   ]
  },
  {
   "cell_type": "code",
   "execution_count": null,
   "metadata": {
    "collapsed": true
   },
   "outputs": [],
   "source": [
    "plt.hist(arr, bins = 500)\n",
    "plt.ylabel('frequency')\n",
    "plt.xlabel('delay')\n",
    "axes.set_xlim([0,200000])\n",
    "\n",
    "axes = plt.gca()\n",
    "\n",
    "plt.show()"
   ]
  },
  {
   "cell_type": "code",
   "execution_count": null,
   "metadata": {
    "collapsed": true
   },
   "outputs": [],
   "source": [
    "#plotting histogram of average delay for non-randomized\n",
    "averagedelaysList = []\n",
    "for address in averageDelay0.keys():\n",
    "    averagedelaysList.append(averageDelay[address])\n",
    "averagedelays = np.array(averagedelaysList)\n",
    "plt.hist(averagedelays, bins = 2000)\n",
    "plt.ylabel('frequency')\n",
    "plt.xlabel('average packet delay for non-randomized addresses')\n",
    "\n",
    "#axes.set_xlim([0,200000])\n",
    "\n",
    "axes = plt.gca()\n",
    "\n",
    "plt.show()"
   ]
  },
  {
   "cell_type": "code",
   "execution_count": null,
   "metadata": {
    "collapsed": true
   },
   "outputs": [],
   "source": [
    "#plotting histogram of average delay for randomized\n",
    "averagedelaysList = []\n",
    "for address in averageDelay1.keys():\n",
    "    averagedelaysList.append(averageDelay[address])\n",
    "averagedelays = np.array(averagedelaysList)\n",
    "plt.hist(averagedelays, bins = 2000)\n",
    "plt.ylabel('frequency')\n",
    "plt.xlabel('average packet delay for randomized addresses')\n",
    "\n",
    "#axes.set_xlim([0,200000])\n",
    "\n",
    "axes = plt.gca()\n",
    "\n",
    "plt.show()"
   ]
  },
  {
   "cell_type": "code",
   "execution_count": 10,
   "metadata": {
    "collapsed": true
   },
   "outputs": [],
   "source": [
    "def plotHistogramOfDictionary(dictionary, xlabel, ylabel, nbins):\n",
    "    dictionaryList = []\n",
    "    for address in dictionary.keys():\n",
    "        dictionaryList.append(dictionary[address])\n",
    "    dictArray = np.array(dictionaryList)\n",
    "    plt.hist(dictArray, bins = nbins)\n",
    "    plt.ylabel(ylabel)\n",
    "    plt.xlabel(xlabel)\n",
    "    axes = plt.gca()\n",
    "    plt.show()"
   ]
  },
  {
   "cell_type": "code",
   "execution_count": null,
   "metadata": {
    "collapsed": true
   },
   "outputs": [],
   "source": [
    "plotHistogramOfDictionary(averageDelay0,  'average packet delay for non-randomized addresses ', 'freq', 2000 )"
   ]
  },
  {
   "cell_type": "code",
   "execution_count": 13,
   "metadata": {
    "collapsed": false
   },
   "outputs": [],
   "source": [
    "plotHistogramOfDictionary(medianDelay0_112,  'median packet delay for non-randomized addresses for drone 112', 'freq', 2000 )"
   ]
  },
  {
   "cell_type": "code",
   "execution_count": null,
   "metadata": {
    "collapsed": true
   },
   "outputs": [],
   "source": [
    "plotHistogramOfDictionary(stderrDelay0_112, 'stdev packet delay for non-randomized addresses for drone 112', 'freq' 2000 )"
   ]
  },
  {
   "cell_type": "code",
   "execution_count": null,
   "metadata": {
    "collapsed": true
   },
   "outputs": [],
   "source": [
    "plt.hist(arr, bins = 500)\n",
    "plt.ylabel('frequency')\n",
    "plt.xlabel('delay')\n",
    "axes.set_xlim([0,200000])\n",
    "\n",
    "axes = plt.gca()\n",
    "\n",
    "plt.show()"
   ]
  },
  {
   "cell_type": "code",
   "execution_count": null,
   "metadata": {
    "collapsed": true
   },
   "outputs": [],
   "source": [
    "#let us check the stability of the signal strengths\n",
    "# line: ['32bf72d3-d707-4c37-b9b5-6318187de63f', 0, 1436047299132, '107', -68]\n",
    "# line: [address, localmac, time, drone, signal]\n",
    "def GetSignalStrengthPerDroneForAddress(address):\n",
    "    signalsDictionary = dict()\n",
    "    for line in json_lines_raw: \n",
    "        mac = line[0]\n",
    "        time = line[2]\n",
    "        drone = line[3]\n",
    "        signal = line[4]\n",
    "        if mac == address:            \n",
    "            pair=[time, signal]\n",
    "            if drone not in signalsDictionary.keys():\n",
    "                signalsDictionary[drone] = []                \n",
    "            signalsDictionary[drone].append(pair)\n",
    "    return signalsDictionary\n",
    "    \n"
   ]
  },
  {
   "cell_type": "code",
   "execution_count": null,
   "metadata": {
    "collapsed": true
   },
   "outputs": [],
   "source": [
    "signalsDict = GetSignalStrengthPerDroneForAddress('e1deda99-163f-4b68-9ade-e1f05d070bf2')\n",
    "print(len(signalsDict))\n",
    "print (signalsDict['112'])"
   ]
  },
  {
   "cell_type": "code",
   "execution_count": null,
   "metadata": {
    "collapsed": true
   },
   "outputs": [],
   "source": [
    "#drawing signal strengths for drone 126 and address e1deda99-163f-4b68-9ade-e1f05d070bf2\n",
    "import numpy as np\n",
    "import matplotlib.pyplot as plt\n",
    "\n",
    "pairs = signalsDict['126']\n",
    "xx = []\n",
    "yy=[]\n",
    "for pair in pairs:\n",
    "    xx.append(pair[0])\n",
    "    yy.append(pair[1])\n",
    "fig, (ax0, ax1) = plt.subplots(nrows=2, sharex=True)\n",
    "ax0.errorbar(xx, yy, yerr=0, fmt='o')\n",
    "ax0.set_title('signal')\n",
    "plt.xlabel('timestamp(ms)')=\n",
    "\n",
    "ax1.errorbar(xx, yy, yerr=0, fmt='o')\n",
    "ax1.set_title('signal')\n",
    "\n",
    "plt.show()"
   ]
  },
  {
   "cell_type": "code",
   "execution_count": null,
   "metadata": {
    "collapsed": true
   },
   "outputs": [],
   "source": [
    "print(signalsDict.keys())"
   ]
  },
  {
   "cell_type": "code",
   "execution_count": 7,
   "metadata": {
    "collapsed": true
   },
   "outputs": [],
   "source": [
    "#computing the timestamps for every address visible at drone 122 -- on the other side of the stadium\n",
    "timestamps122 = dict()\n",
    "for line in json_lines_raw:\n",
    "    if line[3]==\"122\":\n",
    "        address = line[0]\n",
    "        if address not in timestamps122.keys():\n",
    "            timestamps122[address] = []        \n",
    "        timestamps122[address].append(line[2])\n",
    "for address in timestamps122.keys():\n",
    "    timestamps122[address].sort() "
   ]
  },
  {
   "cell_type": "code",
   "execution_count": null,
   "metadata": {
    "collapsed": false
   },
   "outputs": [],
   "source": [
    "for address in timestamps122.keys():\n",
    "    if len(timestamps122[address]) > 1000:\n",
    "        print(address + \" \" + str(localMac[address]))\n"
   ]
  },
  {
   "cell_type": "code",
   "execution_count": null,
   "metadata": {
    "collapsed": true
   },
   "outputs": [],
   "source": []
  }
 ],
 "metadata": {
  "anaconda-cloud": {},
  "kernelspec": {
   "display_name": "Python [default]",
   "language": "python",
   "name": "python3"
  },
  "language_info": {
   "codemirror_mode": {
    "name": "ipython",
    "version": 3
   },
   "file_extension": ".py",
   "mimetype": "text/x-python",
   "name": "python",
   "nbconvert_exporter": "python",
   "pygments_lexer": "ipython3",
   "version": "3.5.2"
  }
 },
 "nbformat": 4,
 "nbformat_minor": 0
}
